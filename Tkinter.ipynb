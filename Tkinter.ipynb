{
  "nbformat": 4,
  "nbformat_minor": 0,
  "metadata": {
    "colab": {
      "provenance": [],
      "authorship_tag": "ABX9TyMHDxv5pEXldnYyk84KlPbC",
      "include_colab_link": true
    },
    "kernelspec": {
      "name": "python3",
      "display_name": "Python 3"
    },
    "language_info": {
      "name": "python"
    }
  },
  "cells": [
    {
      "cell_type": "markdown",
      "metadata": {
        "id": "view-in-github",
        "colab_type": "text"
      },
      "source": [
        "<a href=\"https://colab.research.google.com/github/Navyasri28/Python-practices/blob/main/Tkinter.ipynb\" target=\"_parent\"><img src=\"https://colab.research.google.com/assets/colab-badge.svg\" alt=\"Open In Colab\"/></a>"
      ]
    },
    {
      "cell_type": "markdown",
      "source": [
        "# **TKINTER**"
      ],
      "metadata": {
        "id": "7HhX1NIw81aF"
      }
    },
    {
      "cell_type": "markdown",
      "source": [
        "The tkinter package, often referred to as \"Tk interface,\" is the default Python library for creating graphical user interfaces (GUIs) using the Tcl/Tk toolkit. This toolkit and tkinter are widely supported across various operating systems, including Unix-based systems like macOS, and Windows.\n",
        "\n",
        "To check if tkinter is installed correctly on your system, you can run the command `python -m tkinter` in your terminal or command prompt. This command should open a window that displays a basic Tk interface. This not only confirms that tkinter is properly installed but also shows the version of Tcl/Tk you're using. This version information can be helpful when you need to refer to the specific Tcl/Tk documentation."
      ],
      "metadata": {
        "id": "L76Fhy1J85Rf"
      }
    },
    {
      "cell_type": "markdown",
      "source": [
        "Tkinter can work with various versions of Tcl/Tk, and it can be configured to include thread support or not. The standard Python binary release includes Tcl/Tk version 8.6 with thread support enabled. For more detailed information on which versions are supported, you can check the source code for the _tkinter module.\n",
        "\n",
        "Tkinter isn't just a simple wrapper around Tcl/Tk; it includes additional functionality to make it more intuitive and consistent with Python's design principles. This documentation focuses on these Python-specific enhancements and changes, while the original Tcl/Tk documentation should be consulted for aspects that remain unchanged."
      ],
      "metadata": {
        "id": "vwJ_D-H49MQl"
      }
    },
    {
      "cell_type": "markdown",
      "source": [
        "**ARCHITECTURE**"
      ],
      "metadata": {
        "id": "dIZUUbTU9Z1a"
      }
    },
    {
      "cell_type": "markdown",
      "source": [
        "### Architecture\n",
        "\n",
        "Tcl/Tk is a collection of several modules, each providing different functionalities and documented separately. Python's binary releases come with an additional module to enhance this setup.\n",
        "\n",
        "### Tcl\n",
        "\n",
        "Tcl (Tool Command Language) is a dynamically interpreted language, similar to Python. While it can be used independently as a general-purpose programming language, its primary use is as a scripting engine embedded within C applications, often to interface with the Tk toolkit.\n",
        "\n",
        "The Tcl library offers a C interface that allows developers to create and manage Tcl interpreter instances. These interpreters can execute Tcl commands and scripts and can also have custom commands implemented in either Tcl or C. Each Tcl interpreter maintains an event queue, which can receive and process events.\n",
        "\n",
        "Unlike Python, Tcl is designed for cooperative multitasking, meaning it handles multiple tasks without preemptive scheduling. Tkinter bridges the gap between Tcl's cooperative multitasking model and Python's threading model, allowing them to work together seamlessly. For more details on this integration, refer to the threading model documentation.\n",
        "\n",
        "### Tk\n",
        "\n",
        "Tk is a package for Tcl, written in C, that introduces custom commands for creating and managing GUI (Graphical User Interface) widgets. Each Tk object contains its own Tcl interpreter instance with Tk integrated into it. Although Tk widgets are highly customizable, they often have a somewhat outdated look. Tk uses Tcl's event queue system to generate and handle GUI events.\n",
        "\n",
        "### Ttk\n",
        "\n",
        "Themed Tk (Ttk) is a modern collection of Tk widgets that offer a more polished and platform-consistent appearance compared to the classic Tk widgets. Ttk has been included with Tk since version 8.5. Python provides access to Ttk through a dedicated module called `tkinter.ttk`.\n",
        "\n",
        "Both Tk and Ttk leverage the underlying operating system's capabilities to manage GUI elements. They use Xlib on Unix/X11 systems, Cocoa on macOS, and GDI on Windows."
      ],
      "metadata": {
        "id": "kifhwjde98NE"
      }
    },
    {
      "cell_type": "markdown",
      "source": [
        "**Tkinter Modules**\n",
        "\n",
        "Support for Tkinter spans several modules. Most applications will need the main tkinter module and the tkinter.ttk module, which offers a modern set of themed widgets and APIs:"
      ],
      "metadata": {
        "id": "Jln5Cer6-7vK"
      }
    },
    {
      "cell_type": "code",
      "source": [
        "from tkinter import *\n",
        "from tkinter import ttk\n"
      ],
      "metadata": {
        "id": "b0byEMBB_J8Y"
      },
      "execution_count": null,
      "outputs": []
    },
    {
      "cell_type": "markdown",
      "source": [
        "**Keyword Arguments**\n",
        "\n",
        "When instantiating the Tk class, you can use several keyword arguments:\n",
        "\n",
        "screenName: A string that sets the DISPLAY environment variable (X11 only).\n",
        "\n",
        "baseName: The name of the profile file. By default, it's derived from the program name (sys.argv[0]).\n",
        "\n",
        "className: The name of the widget class, used for profile files and as the Tcl invocation name (argv0 in the interpreter).\n",
        "\n",
        "useTk: If True, initializes the Tk subsystem. The tkinter.Tcl() function sets this to False.\n",
        "\n",
        "sync: If True, all X server commands are executed synchronously, useful for debugging (X11 only).\n",
        "\n",
        "use: Specifies the ID of the window to embed the application in, instead of creating a new toplevel window. The ID must be formatted like the value for the -use option for toplevel widgets."
      ],
      "metadata": {
        "id": "O_XAypUy_kzU"
      }
    },
    {
      "cell_type": "markdown",
      "source": [
        "**Attributes**\n",
        "\n",
        "tk: The Tk application object created by instantiating Tk, providing access to the Tcl interpreter. All widgets attached to the same Tk instance share the same tk attribute.\n",
        "\n",
        "master: The widget containing this widget. For Tk, the master is None because it is the main window. The terms master and parent are often used interchangeably, but winfo_parent() returns the widget name as a string, while master returns the object. The term parent/child indicates a hierarchical relationship, while master/slave refers to the container structure.\n",
        "\n",
        "children: A dictionary of this widget's immediate descendants, with child widget names as keys and child instance objects as values."
      ],
      "metadata": {
        "id": "cprM06jS_yAs"
      }
    },
    {
      "cell_type": "markdown",
      "source": [
        "**Modules**\n",
        "\n",
        "Tkinter support is divided across several modules, each serving different purposes:\n",
        "\n",
        "tkinter: The main module for creating GUI applications.\n",
        "\n",
        "tkinter.colorchooser: Provides a dialog for users to select a color.\n",
        "\n",
        "tkinter.commondialog: A base class for other dialog modules.\n",
        "\n",
        "tkinter.filedialog: Contains common dialogs for opening or saving files.\n",
        "\n",
        "tkinter.font: Utilities for working with fonts.\n",
        "\n",
        "tkinter.messagebox: Access to standard Tk dialog boxes.\n",
        "\n",
        "tkinter.scrolledtext: A text widget with an integrated vertical scroll bar.\n",
        "\n",
        "tkinter.simpledialog: Basic dialogs and convenience functions.\n",
        "\n",
        "tkinter.ttk: Themed widget set introduced in Tk 8.5, offering modern versions of many classic widgets."
      ],
      "metadata": {
        "id": "x_glnEVhAyYC"
      }
    },
    {
      "cell_type": "code",
      "source": [
        "import tkinter as tk\n",
        "from tkinter import ttk\n",
        "\n",
        "def on_button_click():\n",
        "    user_input = entry.get()\n",
        "    greeting_label.config(text=f\"Hello, {user_input}!\")\n",
        "\n",
        "root = tk.Tk()\n",
        "root.title(\"Tkinter Basics\")\n",
        "root.geometry(\"300x200\")\n",
        "\n",
        "label = ttk.Label(root, text=\"Hello, Tkinter!\")\n",
        "label.pack(pady=10)\n",
        "\n",
        "entry = ttk.Entry(root, width=30)\n",
        "entry.pack(pady=10)\n",
        "\n",
        "button = ttk.Button(root, text=\"Greet\", command=on_button_click)\n",
        "button.pack(pady=10)\n",
        "\n",
        "greeting_label = ttk.Label(root, text=\"\")\n",
        "greeting_label.pack(pady=10)\n",
        "\n",
        "root.mainloop()\n"
      ],
      "metadata": {
        "id": "Nc_FLuJS46DK"
      },
      "execution_count": null,
      "outputs": []
    },
    {
      "cell_type": "markdown",
      "source": [
        "![Screenshot 2024-06-12 115328.png](data:image/png;base64,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)"
      ],
      "metadata": {
        "id": "wTFt6wA4HbIx"
      }
    }
  ]
}