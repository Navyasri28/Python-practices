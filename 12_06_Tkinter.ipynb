{
  "nbformat": 4,
  "nbformat_minor": 0,
  "metadata": {
    "colab": {
      "provenance": [],
      "authorship_tag": "ABX9TyMISdZe7JFV6ODg8to9FaHY",
      "include_colab_link": true
    },
    "kernelspec": {
      "name": "python3",
      "display_name": "Python 3"
    },
    "language_info": {
      "name": "python"
    }
  },
  "cells": [
    {
      "cell_type": "markdown",
      "metadata": {
        "id": "view-in-github",
        "colab_type": "text"
      },
      "source": [
        "<a href=\"https://colab.research.google.com/github/Navyasri28/Python-practices/blob/main/12_06_Tkinter.ipynb\" target=\"_parent\"><img src=\"https://colab.research.google.com/assets/colab-badge.svg\" alt=\"Open In Colab\"/></a>"
      ]
    },
    {
      "cell_type": "markdown",
      "source": [
        "# **TKINTER**"
      ],
      "metadata": {
        "id": "NiSe8hI3x42U"
      }
    },
    {
      "cell_type": "markdown",
      "source": [
        "In Tkinter, a widget refers to a graphical component that forms the building blocks of a graphical user interface (GUI). These widgets provide various interactive elements that allow users to interact with the application. Examples of widgets include buttons, labels, text entry fields, listboxes, and canvases."
      ],
      "metadata": {
        "id": "6kvN6A0Fx8zF"
      }
    },
    {
      "cell_type": "markdown",
      "source": [
        "**Types of Tkinter Widgets:**\n",
        "\n",
        "**Labels:** Used to display text or images. They are typically used for providing information or descriptions.\n",
        "\n",
        "**Buttons:** Allow users to perform an action when clicked. They are often used for submitting forms or triggering events.\n",
        "\n",
        "**Entry Widgets:** Provide a single-line text input field for user input. They are commonly used for data entry.\n",
        "\n",
        "**Text Widgets:** Offer a multi-line text input field, useful for editing longer texts.\n",
        "\n",
        "**Listboxes:** Display a list of items from which a user can select one or more.\n",
        "\n",
        "**Canvas:** A versatile widget for drawing shapes, images, or other complex layouts.\n",
        "\n",
        "**Checkbuttons:** Represent a checkbox that can be toggled on or off.\n",
        "\n",
        "**Radiobuttons:** Allow users to select one option from a set of mutually exclusive options.\n",
        "\n",
        "**Menus:** Provide a drop-down menu interface for application commands and options.\n",
        "\n",
        "**Frames:** Act as a container to organize and group other widgets."
      ],
      "metadata": {
        "id": "uOrCVnC5zRNG"
      }
    },
    {
      "cell_type": "markdown",
      "source": [
        "**What is Tkinter Used For:**\n",
        "\n",
        "Tkinter is a standard GUI (Graphical User Interface) library for Python, providing a straightforward way to create and manage GUI elements. It leverages the Tk toolkit, which is widely used in the development of desktop applications."
      ],
      "metadata": {
        "id": "jWxsNQgE0EAP"
      }
    },
    {
      "cell_type": "markdown",
      "source": [
        "**Key uses of tkinter:**"
      ],
      "metadata": {
        "id": "pW8F9v-t0fFU"
      }
    },
    {
      "cell_type": "markdown",
      "source": [
        "**Creating GUI Elements:**\n",
        "\n",
        "Tkinter allows Python developers to create various GUI components, such as:\n",
        "\n",
        "**Buttons:** Trigger actions when clicked.\n",
        "\n",
        "**Labels**: Display text or images.\n",
        "\n",
        "**Entry fields:** Accept user input.\n",
        "\n",
        "**Menus:** Provide navigation options.\n",
        "\n",
        "**Canvas:** Enable drawing shapes, displaying images, and other custom graphical elements.\n",
        "\n",
        "**Interactive Applications:**\n",
        "\n",
        "Widgets in Tkinter can interact with user inputs, such as mouse clicks and keyboard events. This interactivity is essential for creating responsive applications.\n",
        "\n",
        "**Event-Driven Programming:**\n",
        "\n",
        "Tkinter uses an event-driven programming model, where the application responds to events like button clicks, key presses, or mouse movements. This model allows developers to define specific actions that occur in response to user interactions."
      ],
      "metadata": {
        "id": "O8vj6ITK0Z6d"
      }
    },
    {
      "cell_type": "markdown",
      "source": [
        "**Working with Tkinter Widgets**"
      ],
      "metadata": {
        "id": "U1AE4M7I07qa"
      }
    },
    {
      "cell_type": "markdown",
      "source": [],
      "metadata": {
        "id": "Cmbnwj_j4y05"
      }
    },
    {
      "cell_type": "markdown",
      "source": [
        "In Python, Tkinter widgets function similarly to HTML elements, each serving a specific purpose in the graphical user interface (GUI). Below is a detailed explanation of various Tkinter widgets and their uses:\n",
        "\n",
        "**Canvas:**\n",
        "\n",
        "Description: Used for drawing shapes, displaying images, and creating custom graphics.\n",
        "\n",
        "Use: Ideal for creating complex visuals and interactive components within the GUI.\n",
        "\n",
        "**Button:**\n",
        "\n",
        "Description: Displays a button that users can click to perform an action.\n",
        "\n",
        "Use: Commonly used for submitting forms or triggering events.\n",
        "\n",
        "**Checkbutton:**\n",
        "\n",
        "Description: Creates a checkbox that users can select or deselect.\n",
        "\n",
        "Use: Useful for options where multiple selections are allowed.\n",
        "\n",
        "**Entry:**\n",
        "\n",
        "Description: Provides a single-line text input field.\n",
        "\n",
        "Use: Used for taking user input like names, passwords, or other text data.\n",
        "\n",
        "**Frame:**\n",
        "\n",
        "Description: Acts as a container to group and organize other widgets.\n",
        "\n",
        "Use: Useful for creating sections within a window.\n",
        "\n",
        "**Label:**\n",
        "\n",
        "Description: Displays text or images.\n",
        "\n",
        "Use: Often used for instructions, headings, or information display.\n",
        "\n",
        "**Menu:**\n",
        "\n",
        "Description: Creates a menu bar with various menu options.\n",
        "\n",
        "Use: Essential for providing navigation and command options in the application.\n",
        "\n",
        "**LabelFrame:**\n",
        "\n",
        "Description: A container widget that includes a label.\n",
        "\n",
        "Use: Serves as a container with a title, useful for grouping related widgets."
      ],
      "metadata": {
        "id": "wdKnsTcl1Qg7"
      }
    },
    {
      "cell_type": "markdown",
      "source": [
        "**Explaining steps to create a tkinter application:**\n",
        "\n",
        "**Import the Tkinter Module:**\n",
        "\n",
        "First, you need to import the Tkinter module into your Python script. This module contains the necessary classes and functions to create and manage GUI elements.\n",
        "\n",
        "**Create the Main Application Window:**\n",
        "\n",
        "The main window serves as the container for all other widgets. You can create it by instantiating the Tk class.\n",
        "\n",
        "**Add Widgets to the Window:**\n",
        "\n",
        "Widgets such as labels, buttons, frames, and others are added to the main window. Each widget is an instance of a Tkinter class.\n",
        "\n",
        "**Call the Main Event Loop:**\n",
        "\n",
        "The main event loop keeps the application running and responsive to user input. It waits for events (like button clicks) and updates the UI accordingly."
      ],
      "metadata": {
        "id": "NiA2qwre418P"
      }
    },
    {
      "cell_type": "code",
      "source": [
        "import tkinter as tk\n",
        "from tkinter import ttk\n",
        "\n",
        "def on_button_click():\n",
        "    print(\"Button clicked!\")\n",
        "\n",
        "root = tk.Tk()\n",
        "root.title(\"My Tkinter App\")\n",
        "\n",
        "label = ttk.Label(root, text=\"Hello, Tkinter!\")\n",
        "label.pack()\n",
        "\n",
        "button = ttk.Button(root, text=\"Click Me\", command=on_button_click)\n",
        "button.pack()\n",
        "\n",
        "root.mainloop()\n"
      ],
      "metadata": {
        "id": "ddR5wyEv53cK"
      },
      "execution_count": null,
      "outputs": []
    },
    {
      "cell_type": "markdown",
      "source": [
        "![Screenshot 2024-06-12 233410.png](data:image/png;base64,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)"
      ],
      "metadata": {
        "id": "MEA_602e6IgM"
      }
    }
  ]
}