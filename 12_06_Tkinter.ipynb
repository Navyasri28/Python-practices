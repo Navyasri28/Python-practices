{
  "nbformat": 4,
  "nbformat_minor": 0,
  "metadata": {
    "colab": {
      "provenance": [],
      "authorship_tag": "ABX9TyNa5raH7p8Y/dGbUAyXissw",
      "include_colab_link": true
    },
    "kernelspec": {
      "name": "python3",
      "display_name": "Python 3"
    },
    "language_info": {
      "name": "python"
    }
  },
  "cells": [
    {
      "cell_type": "markdown",
      "metadata": {
        "id": "view-in-github",
        "colab_type": "text"
      },
      "source": [
        "<a href=\"https://colab.research.google.com/github/Navyasri28/Python-practices/blob/main/12_06_Tkinter.ipynb\" target=\"_parent\"><img src=\"https://colab.research.google.com/assets/colab-badge.svg\" alt=\"Open In Colab\"/></a>"
      ]
    },
    {
      "cell_type": "markdown",
      "source": [
        "# **TKINTER**"
      ],
      "metadata": {
        "id": "NiSe8hI3x42U"
      }
    },
    {
      "cell_type": "markdown",
      "source": [
        "In Tkinter, a widget refers to a graphical component that forms the building blocks of a graphical user interface (GUI). These widgets provide various interactive elements that allow users to interact with the application. Examples of widgets include buttons, labels, text entry fields, listboxes, and canvases."
      ],
      "metadata": {
        "id": "6kvN6A0Fx8zF"
      }
    },
    {
      "cell_type": "markdown",
      "source": [
        "**Types of Tkinter Widgets:**\n",
        "\n",
        "**Labels:** Used to display text or images. They are typically used for providing information or descriptions.\n",
        "\n",
        "**Buttons:** Allow users to perform an action when clicked. They are often used for submitting forms or triggering events.\n",
        "\n",
        "**Entry Widgets:** Provide a single-line text input field for user input. They are commonly used for data entry.\n",
        "\n",
        "**Text Widgets:** Offer a multi-line text input field, useful for editing longer texts.\n",
        "\n",
        "**Listboxes:** Display a list of items from which a user can select one or more.\n",
        "\n",
        "**Canvas:** A versatile widget for drawing shapes, images, or other complex layouts.\n",
        "\n",
        "**Checkbuttons:** Represent a checkbox that can be toggled on or off.\n",
        "\n",
        "**Radiobuttons:** Allow users to select one option from a set of mutually exclusive options.\n",
        "\n",
        "**Menus:** Provide a drop-down menu interface for application commands and options.\n",
        "\n",
        "**Frames:** Act as a container to organize and group other widgets."
      ],
      "metadata": {
        "id": "uOrCVnC5zRNG"
      }
    },
    {
      "cell_type": "markdown",
      "source": [
        "**What is Tkinter Used For:**\n",
        "\n",
        "Tkinter is a standard GUI (Graphical User Interface) library for Python, providing a straightforward way to create and manage GUI elements. It leverages the Tk toolkit, which is widely used in the development of desktop applications."
      ],
      "metadata": {
        "id": "jWxsNQgE0EAP"
      }
    },
    {
      "cell_type": "markdown",
      "source": [
        "**Key uses of tkinter:**"
      ],
      "metadata": {
        "id": "pW8F9v-t0fFU"
      }
    },
    {
      "cell_type": "markdown",
      "source": [
        "**Creating GUI Elements:**\n",
        "\n",
        "Tkinter allows Python developers to create various GUI components, such as:\n",
        "\n",
        "**Buttons:** Trigger actions when clicked.\n",
        "\n",
        "**Labels**: Display text or images.\n",
        "\n",
        "**Entry fields:** Accept user input.\n",
        "\n",
        "**Menus:** Provide navigation options.\n",
        "\n",
        "**Canvas:** Enable drawing shapes, displaying images, and other custom graphical elements.\n",
        "\n",
        "**Interactive Applications:**\n",
        "\n",
        "Widgets in Tkinter can interact with user inputs, such as mouse clicks and keyboard events. This interactivity is essential for creating responsive applications.\n",
        "\n",
        "**Event-Driven Programming:**\n",
        "\n",
        "Tkinter uses an event-driven programming model, where the application responds to events like button clicks, key presses, or mouse movements. This model allows developers to define specific actions that occur in response to user interactions."
      ],
      "metadata": {
        "id": "O8vj6ITK0Z6d"
      }
    },
    {
      "cell_type": "markdown",
      "source": [
        "**Working with Tkinter Widgets**"
      ],
      "metadata": {
        "id": "U1AE4M7I07qa"
      }
    },
    {
      "cell_type": "markdown",
      "source": [],
      "metadata": {
        "id": "Cmbnwj_j4y05"
      }
    },
    {
      "cell_type": "markdown",
      "source": [
        "In Python, Tkinter widgets function similarly to HTML elements, each serving a specific purpose in the graphical user interface (GUI). Below is a detailed explanation of various Tkinter widgets and their uses:\n",
        "\n",
        "**Canvas:**\n",
        "\n",
        "Description: Used for drawing shapes, displaying images, and creating custom graphics.\n",
        "\n",
        "Use: Ideal for creating complex visuals and interactive components within the GUI.\n",
        "\n",
        "**Button:**\n",
        "\n",
        "Description: Displays a button that users can click to perform an action.\n",
        "\n",
        "Use: Commonly used for submitting forms or triggering events.\n",
        "\n",
        "**Checkbutton:**\n",
        "\n",
        "Description: Creates a checkbox that users can select or deselect.\n",
        "\n",
        "Use: Useful for options where multiple selections are allowed.\n",
        "\n",
        "**Entry:**\n",
        "\n",
        "Description: Provides a single-line text input field.\n",
        "\n",
        "Use: Used for taking user input like names, passwords, or other text data.\n",
        "\n",
        "**Frame:**\n",
        "\n",
        "Description: Acts as a container to group and organize other widgets.\n",
        "\n",
        "Use: Useful for creating sections within a window.\n",
        "\n",
        "**Label:**\n",
        "\n",
        "Description: Displays text or images.\n",
        "\n",
        "Use: Often used for instructions, headings, or information display.\n",
        "\n",
        "**Menu:**\n",
        "\n",
        "Description: Creates a menu bar with various menu options.\n",
        "\n",
        "Use: Essential for providing navigation and command options in the application.\n",
        "\n",
        "**LabelFrame:**\n",
        "\n",
        "Description: A container widget that includes a label.\n",
        "\n",
        "Use: Serves as a container with a title, useful for grouping related widgets."
      ],
      "metadata": {
        "id": "wdKnsTcl1Qg7"
      }
    },
    {
      "cell_type": "markdown",
      "source": [
        "**Explaining steps to create a tkinter application:**\n",
        "\n",
        "**Import the Tkinter Module:**\n",
        "\n",
        "First, you need to import the Tkinter module into your Python script. This module contains the necessary classes and functions to create and manage GUI elements.\n",
        "\n",
        "**Create the Main Application Window:**\n",
        "\n",
        "The main window serves as the container for all other widgets. You can create it by instantiating the Tk class.\n",
        "\n",
        "**Add Widgets to the Window:**\n",
        "\n",
        "Widgets such as labels, buttons, frames, and others are added to the main window. Each widget is an instance of a Tkinter class.\n",
        "\n",
        "**Call the Main Event Loop:**\n",
        "\n",
        "The main event loop keeps the application running and responsive to user input. It waits for events (like button clicks) and updates the UI accordingly."
      ],
      "metadata": {
        "id": "NiA2qwre418P"
      }
    },
    {
      "cell_type": "code",
      "source": [
        "import tkinter as tk\n",
        "from tkinter import ttk\n",
        "\n",
        "def on_button_click():\n",
        "    print(\"Button clicked!\")\n",
        "\n",
        "root = tk.Tk()\n",
        "root.title(\"My Tkinter App\")\n",
        "\n",
        "label = ttk.Label(root, text=\"Hello, Tkinter!\")\n",
        "label.pack()\n",
        "\n",
        "button = ttk.Button(root, text=\"Click Me\", command=on_button_click)\n",
        "button.pack()\n",
        "\n",
        "root.mainloop()\n"
      ],
      "metadata": {
        "id": "ddR5wyEv53cK"
      },
      "execution_count": null,
      "outputs": []
    },
    {
      "cell_type": "markdown",
      "source": [
        "![Screenshot 2024-06-12 201435.png](data:image/png;base64,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)"
      ],
      "metadata": {
        "id": "MEA_602e6IgM"
      }
    }
  ]
}