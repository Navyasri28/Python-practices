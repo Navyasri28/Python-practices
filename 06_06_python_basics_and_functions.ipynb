{
  "nbformat": 4,
  "nbformat_minor": 0,
  "metadata": {
    "colab": {
      "provenance": [],
      "authorship_tag": "ABX9TyNgZxxRXxSudH1EAK4NQHbU",
      "include_colab_link": true
    },
    "kernelspec": {
      "name": "python3",
      "display_name": "Python 3"
    },
    "language_info": {
      "name": "python"
    }
  },
  "cells": [
    {
      "cell_type": "markdown",
      "metadata": {
        "id": "view-in-github",
        "colab_type": "text"
      },
      "source": [
        "<a href=\"https://colab.research.google.com/github/Navyasri28/Python-practices/blob/main/06_06_python_basics_and_functions.ipynb\" target=\"_parent\"><img src=\"https://colab.research.google.com/assets/colab-badge.svg\" alt=\"Open In Colab\"/></a>"
      ]
    },
    {
      "cell_type": "code",
      "source": [
        "# Python Program to find the area of triangle\n",
        "\n",
        "a = 5\n",
        "b = 6\n",
        "c = 7\n",
        "\n",
        "# calculate the semi-perimeter\n",
        "s = (a + b + c) / 2\n",
        "\n",
        "# calculate the area\n",
        "area = (s*(s-a)*(s-b)*(s-c)) ** 0.5\n",
        "print('The area of the triangle is %0.2f' %area)"
      ],
      "metadata": {
        "id": "U6iaq6dE3aZU",
        "outputId": "81e01d06-56c8-49bd-dff4-e159f56f0284",
        "colab": {
          "base_uri": "https://localhost:8080/"
        }
      },
      "execution_count": 30,
      "outputs": [
        {
          "output_type": "stream",
          "name": "stdout",
          "text": [
            "The area of the triangle is 14.70\n"
          ]
        }
      ]
    },
    {
      "cell_type": "code",
      "source": [
        "from datetime import datetime\n",
        "\n",
        "my_date_string = \"Mar 11 2011 11:31AM\"\n",
        "\n",
        "datetime_object = datetime.strptime(my_date_string, '%b %d %Y %I:%M%p')\n",
        "\n",
        "print(type(datetime_object))\n",
        "print(datetime_object)"
      ],
      "metadata": {
        "id": "CbQbeBlk3t7I",
        "outputId": "ff5822f1-9dcf-48d9-d643-bd3477ac6496",
        "colab": {
          "base_uri": "https://localhost:8080/"
        }
      },
      "execution_count": 31,
      "outputs": [
        {
          "output_type": "stream",
          "name": "stdout",
          "text": [
            "<class 'datetime.datetime'>\n",
            "2011-03-11 11:31:00\n"
          ]
        }
      ]
    },
    {
      "cell_type": "code",
      "source": [
        "print(\"hi\")"
      ],
      "metadata": {
        "colab": {
          "base_uri": "https://localhost:8080/"
        },
        "id": "C94Sg-3-Y-Lm",
        "outputId": "521f0cc2-3666-4caf-be15-f157e301e880"
      },
      "execution_count": 3,
      "outputs": [
        {
          "output_type": "stream",
          "name": "stdout",
          "text": [
            "hi\n"
          ]
        }
      ]
    },
    {
      "cell_type": "code",
      "source": [
        "# A simple Python function\n",
        "def fun():\n",
        "    print(\"Hello LPU\")\n",
        "\n",
        "\n",
        "# Driver code to call a function\n",
        "fun()\n"
      ],
      "metadata": {
        "colab": {
          "base_uri": "https://localhost:8080/"
        },
        "id": "ei5rFlguore-",
        "outputId": "c686b740-9dac-46ff-de4b-e7335f1f34f0"
      },
      "execution_count": 5,
      "outputs": [
        {
          "output_type": "stream",
          "name": "stdout",
          "text": [
            "Hello LPU\n"
          ]
        }
      ]
    },
    {
      "cell_type": "code",
      "source": [
        "#A parameter is the variable defined within the parentheses during function definition. Simply they are written when we declare a function.\n",
        "# Here a,b are the parameters\n",
        "def sum(a,b):\n",
        "  print(a+b)\n",
        "\n",
        "sum(1,2)\n"
      ],
      "metadata": {
        "colab": {
          "base_uri": "https://localhost:8080/"
        },
        "id": "Jiqp-lAvqWoP",
        "outputId": "5505191f-259a-4c66-ca03-54e6c400a8ce"
      },
      "execution_count": 7,
      "outputs": [
        {
          "output_type": "stream",
          "name": "stdout",
          "text": [
            "3\n"
          ]
        }
      ]
    },
    {
      "cell_type": "code",
      "source": [
        "#An argument is a value that is passed to a function when it is called.\n",
        "def sum(a,b):\n",
        "  print(a+b)\n",
        "\n",
        "# Here the values 1,2 are arguments\n",
        "sum(1,2)\n"
      ],
      "metadata": {
        "colab": {
          "base_uri": "https://localhost:8080/"
        },
        "id": "NZgkBm-NqnHj",
        "outputId": "575bd5b4-3baf-44a3-e2a4-d58f005f7982"
      },
      "execution_count": 9,
      "outputs": [
        {
          "output_type": "stream",
          "name": "stdout",
          "text": [
            "3\n"
          ]
        }
      ]
    },
    {
      "cell_type": "code",
      "source": [
        "#positional arguments\n",
        "def add(x,y):\n",
        "   z=x+y\n",
        "   print (\"x={} y={} x+y={}\".format(x,y,z))\n",
        "a=10\n",
        "b=20\n",
        "add(a,b)"
      ],
      "metadata": {
        "colab": {
          "base_uri": "https://localhost:8080/"
        },
        "id": "GLjFSVPquzVf",
        "outputId": "fb679bf8-d5da-4924-d891-f99d0caa13e6"
      },
      "execution_count": 10,
      "outputs": [
        {
          "output_type": "stream",
          "name": "stdout",
          "text": [
            "x=10 y=20 x+y=30\n"
          ]
        }
      ]
    },
    {
      "cell_type": "code",
      "source": [
        "#keyword arguments\n",
        "def nameAge(name, age):\n",
        "    print(\"Hi, I am\", name)\n",
        "    print(\"My age is \", age)\n",
        "\n",
        "nameAge(name=\"Prince\", age=20)\n",
        "\n",
        "nameAge(age=20, name=\"Prince\")"
      ],
      "metadata": {
        "colab": {
          "base_uri": "https://localhost:8080/"
        },
        "id": "XAUNb510u4As",
        "outputId": "dcdbc907-ab4f-4751-dd78-30499f7e4aa3"
      },
      "execution_count": 11,
      "outputs": [
        {
          "output_type": "stream",
          "name": "stdout",
          "text": [
            "Hi, I am Prince\n",
            "My age is  20\n",
            "Hi, I am Prince\n",
            "My age is  20\n"
          ]
        }
      ]
    },
    {
      "cell_type": "code",
      "source": [
        "#default arguments\n",
        "\n",
        "def printinfo( name, age = 35 ):\n",
        "   \"This prints a passed info into this function\"\n",
        "   print (\"Name: \", name)\n",
        "   print (\"Age \", age)\n",
        "   return\n",
        "\n",
        "# Now you can call printinfo function\n",
        "printinfo( age=50, name=\"miki\" )\n",
        "printinfo( name=\"miki\" )"
      ],
      "metadata": {
        "colab": {
          "base_uri": "https://localhost:8080/"
        },
        "id": "fO9GDDfcvpNM",
        "outputId": "f7b1a667-5d22-42d6-9bf8-80f2053f09c9"
      },
      "execution_count": 13,
      "outputs": [
        {
          "output_type": "stream",
          "name": "stdout",
          "text": [
            "Name:  miki\n",
            "Age  50\n",
            "Name:  miki\n",
            "Age  35\n"
          ]
        }
      ]
    },
    {
      "cell_type": "code",
      "source": [
        "#variable- length arguments\n",
        "def add_num(*args):\n",
        "   sum = 0\n",
        "   for num in args:\n",
        "      sum += num\n",
        "   return sum\n",
        "result = add_num(1, 2, 3)\n",
        "print('Sum is', result)\n",
        "result = add_num(10, 20, 30, 40)\n",
        "print('Sum is', result)\n",
        "22\n",
        "result = add_num(5, 6, 7, 8, 9)\n",
        "print('Sum is', result)"
      ],
      "metadata": {
        "colab": {
          "base_uri": "https://localhost:8080/"
        },
        "id": "O_GZoEFswLAP",
        "outputId": "28883c1a-169e-4434-b9b8-766b508f697b"
      },
      "execution_count": 14,
      "outputs": [
        {
          "output_type": "stream",
          "name": "stdout",
          "text": [
            "Sum is 6\n",
            "Sum is 100\n",
            "Sum is 35\n"
          ]
        }
      ]
    },
    {
      "cell_type": "code",
      "source": [
        "#Keyword Variable Length Arguments (kwargs):\n",
        "def myFun(**kwargs):\n",
        "    for key, value in kwargs.items():\n",
        "        print(\"%s == %s\" % (key, value))\n",
        "\n",
        "\n",
        "# Driver code\n",
        "myFun(first='L', mid='P', last='U')\n"
      ],
      "metadata": {
        "colab": {
          "base_uri": "https://localhost:8080/"
        },
        "id": "2muxJxURwXq1",
        "outputId": "afa6b7d3-7eb1-469f-f2c1-b7ebdd926f95"
      },
      "execution_count": 16,
      "outputs": [
        {
          "output_type": "stream",
          "name": "stdout",
          "text": [
            "first == L\n",
            "mid == P\n",
            "last == U\n"
          ]
        }
      ]
    },
    {
      "cell_type": "code",
      "source": [
        "#Passing Functions as Arguments\n",
        "#shout(text): Converts the input text to uppercase and returns it.\n",
        "#whisper(text): Converts the input text to lowercase and returns it.\n",
        "def shout(text):\n",
        "\n",
        "  return text.upper()\n",
        "\n",
        "def whisper(text):\n",
        "\n",
        "  return text.lower()\n",
        "\n",
        "def modify_text(text, func):\n",
        "  \"This function applies a provided function (func) to the text.\"\n",
        "  return func(text)\n",
        "\n",
        "# Calling modify_text with different functions\n",
        "yelled_text = modify_text(\"Hello world!\", shout)\n",
        "print(yelled_text)  # Output: HELLO WORLD!\n",
        "\n",
        "whispered_text = modify_text(\"HELLO WORLD!\", whisper)\n",
        "print(whispered_text)  # Output: hello world!"
      ],
      "metadata": {
        "id": "-NDFdIEmzAcv",
        "outputId": "371e8af1-0ee2-498a-a3cf-cffa7f943b23",
        "colab": {
          "base_uri": "https://localhost:8080/"
        }
      },
      "execution_count": 18,
      "outputs": [
        {
          "output_type": "stream",
          "name": "stdout",
          "text": [
            "HELLO WORLD!\n",
            "hello world!\n"
          ]
        }
      ]
    },
    {
      "cell_type": "code",
      "source": [
        "#lambda functions\n",
        "words = [\"apple\", \"banana\", \"mango\", \"grapes\"]\n",
        "sorted_words = sorted(words, key=lambda word: len(word))\n",
        "\n",
        "print(sorted_words)"
      ],
      "metadata": {
        "id": "iggIllrk0n8E",
        "outputId": "02ef91e1-2e91-4a69-9e7c-d6a3cc7d8ca4",
        "colab": {
          "base_uri": "https://localhost:8080/"
        }
      },
      "execution_count": 21,
      "outputs": [
        {
          "output_type": "stream",
          "name": "stdout",
          "text": [
            "['apple', 'mango', 'banana', 'grapes']\n"
          ]
        }
      ]
    },
    {
      "cell_type": "code",
      "source": [
        "#Map, Filter, and Reduce are built-in Python functions that can be used for functional programming tasks.\n",
        "# Example of using map, filter, and reduce in Python\n",
        "data = [1, 2, 3, 4, 5]\n",
        "\n",
        "# Using the map to apply a function to each element\n",
        "# Lambda function returns the square of x\n",
        "result1 = map(lambda x: x * 2, data)\n",
        "\n",
        "# Using the filter to filter elements based on a condition\n",
        "# Lambda function returns True for an even number\n",
        "result2 = filter(lambda x: x % 2 == 0, data)\n",
        "\n",
        "# Using reduce to aggregate elements\n",
        "# Lambda function returns product of x and y\n",
        "from functools import reduce\n",
        "result3 = reduce(lambda x, y: x * y, data)"
      ],
      "metadata": {
        "id": "E_BHBplY1Ai8"
      },
      "execution_count": 24,
      "outputs": []
    },
    {
      "cell_type": "code",
      "source": [
        "#Global variables are defined outside any function or class and can be accessed from anywhere within the program.\n",
        "#Local variables are defined within a function or a block of code and can only be accessed within that specific function or block.\n",
        "#global variables\n",
        "count = 0\n",
        "def increment():\n",
        "    global count\n",
        "    count += 1\n",
        "increment()\n",
        "print(count)\n",
        "\n",
        "#local variables\n",
        "def calculate_sum(a, b):\n",
        "    result = a + b\n",
        "    return result\n",
        "sum = calculate_sum(5, 10)\n",
        "print(sum)"
      ],
      "metadata": {
        "id": "5xuUtGKI1gFi",
        "outputId": "d868d1d0-3f23-40bd-80dd-a4aa1d57715d",
        "colab": {
          "base_uri": "https://localhost:8080/"
        }
      },
      "execution_count": 26,
      "outputs": [
        {
          "output_type": "stream",
          "name": "stdout",
          "text": [
            "1\n",
            "15\n"
          ]
        }
      ]
    },
    {
      "cell_type": "code",
      "source": [
        "#A return statement is used to end the execution of the function call and “returns” the result (value of the expression following the return keyword) to the caller\n",
        "def add(a, b):\n",
        "\n",
        "    # returning sum of a and b\n",
        "    return a + b\n",
        "\n",
        "def is_true(a):\n",
        "\n",
        "    # returning boolean of a\n",
        "    return bool(a)\n",
        "\n",
        "# calling function\n",
        "res = add(2, 3)\n",
        "print(\"Result of add function is {}\".format(res))\n",
        "\n",
        "res = is_true(2<5)\n",
        "print(\"\\nResult of is_true function is {}\".format(res))"
      ],
      "metadata": {
        "id": "5aqvKfTZ2NaF",
        "outputId": "e2db6f67-36ee-47aa-8555-6489af7bb817",
        "colab": {
          "base_uri": "https://localhost:8080/"
        }
      },
      "execution_count": 27,
      "outputs": [
        {
          "output_type": "stream",
          "name": "stdout",
          "text": [
            "Result of add function is 5\n",
            "\n",
            "Result of is_true function is True\n"
          ]
        }
      ]
    },
    {
      "cell_type": "code",
      "source": [
        "def sum_numbers(numbers):\n",
        "     if len(numbers) == 0:\n",
        "         return 0\n",
        "     return numbers[0] + sum_numbers(numbers[1:])\n",
        "\n",
        "\n",
        "sum_numbers([1, 2, 3, 4, 5])"
      ],
      "metadata": {
        "id": "xIzqnOE02tdo",
        "outputId": "5d462782-3e06-4f43-9c7f-5b7fb4cb070c",
        "colab": {
          "base_uri": "https://localhost:8080/"
        }
      },
      "execution_count": 28,
      "outputs": [
        {
          "output_type": "execute_result",
          "data": {
            "text/plain": [
              "15"
            ]
          },
          "metadata": {},
          "execution_count": 28
        }
      ]
    },
    {
      "cell_type": "code",
      "source": [
        "import math\n",
        "\n",
        "# sqrt computes the square root\n",
        "square_root = math.sqrt(4)\n",
        "\n",
        "print(\"Square Root of 4 is\",square_root)\n",
        "\n",
        "# pow() comptes the power\n",
        "power = pow(2, 3)\n",
        "\n",
        "print(\"2 to the power 3 is\",power)"
      ],
      "metadata": {
        "id": "eA4oIAAG3W1t",
        "outputId": "48fb5be1-fd8f-4a1d-f7b0-f01f07b0a63a",
        "colab": {
          "base_uri": "https://localhost:8080/"
        }
      },
      "execution_count": 29,
      "outputs": [
        {
          "output_type": "stream",
          "name": "stdout",
          "text": [
            "Square Root of 4 is 2.0\n",
            "2 to the power 3 is 8\n"
          ]
        }
      ]
    },
    {
      "cell_type": "code",
      "source": [],
      "metadata": {
        "id": "vtSJM0nk3Y9T"
      },
      "execution_count": null,
      "outputs": []
    }
  ]
}