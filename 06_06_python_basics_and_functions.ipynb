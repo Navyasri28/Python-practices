{
  "nbformat": 4,
  "nbformat_minor": 0,
  "metadata": {
    "colab": {
      "provenance": [],
      "authorship_tag": "ABX9TyPtMXFAEBC1Qye9y2ZNkDOy",
      "include_colab_link": true
    },
    "kernelspec": {
      "name": "python3",
      "display_name": "Python 3"
    },
    "language_info": {
      "name": "python"
    }
  },
  "cells": [
    {
      "cell_type": "markdown",
      "metadata": {
        "id": "view-in-github",
        "colab_type": "text"
      },
      "source": [
        "<a href=\"https://colab.research.google.com/github/Navyasri28/Python-practices/blob/main/06_06_python_basics_and_functions.ipynb\" target=\"_parent\"><img src=\"https://colab.research.google.com/assets/colab-badge.svg\" alt=\"Open In Colab\"/></a>"
      ]
    },
    {
      "cell_type": "code",
      "source": [
        "print(\"hi\")"
      ],
      "metadata": {
        "colab": {
          "base_uri": "https://localhost:8080/"
        },
        "id": "C94Sg-3-Y-Lm",
        "outputId": "521f0cc2-3666-4caf-be15-f157e301e880"
      },
      "execution_count": 3,
      "outputs": [
        {
          "output_type": "stream",
          "name": "stdout",
          "text": [
            "hi\n"
          ]
        }
      ]
    },
    {
      "cell_type": "code",
      "source": [
        "# A simple Python function\n",
        "def fun():\n",
        "    print(\"Hello LPU\")\n",
        "\n",
        "\n",
        "# Driver code to call a function\n",
        "fun()\n"
      ],
      "metadata": {
        "colab": {
          "base_uri": "https://localhost:8080/"
        },
        "id": "ei5rFlguore-",
        "outputId": "c686b740-9dac-46ff-de4b-e7335f1f34f0"
      },
      "execution_count": 5,
      "outputs": [
        {
          "output_type": "stream",
          "name": "stdout",
          "text": [
            "Hello LPU\n"
          ]
        }
      ]
    },
    {
      "cell_type": "code",
      "source": [
        "#A parameter is the variable defined within the parentheses during function definition. Simply they are written when we declare a function.\n",
        "# Here a,b are the parameters\n",
        "def sum(a,b):\n",
        "  print(a+b)\n",
        "\n",
        "sum(1,2)\n"
      ],
      "metadata": {
        "colab": {
          "base_uri": "https://localhost:8080/"
        },
        "id": "Jiqp-lAvqWoP",
        "outputId": "5505191f-259a-4c66-ca03-54e6c400a8ce"
      },
      "execution_count": 7,
      "outputs": [
        {
          "output_type": "stream",
          "name": "stdout",
          "text": [
            "3\n"
          ]
        }
      ]
    },
    {
      "cell_type": "code",
      "source": [
        "#An argument is a value that is passed to a function when it is called.\n",
        "def sum(a,b):\n",
        "  print(a+b)\n",
        "\n",
        "# Here the values 1,2 are arguments\n",
        "sum(1,2)\n"
      ],
      "metadata": {
        "colab": {
          "base_uri": "https://localhost:8080/"
        },
        "id": "NZgkBm-NqnHj",
        "outputId": "575bd5b4-3baf-44a3-e2a4-d58f005f7982"
      },
      "execution_count": 9,
      "outputs": [
        {
          "output_type": "stream",
          "name": "stdout",
          "text": [
            "3\n"
          ]
        }
      ]
    },
    {
      "cell_type": "code",
      "source": [
        "#positional arguments\n",
        "def add(x,y):\n",
        "   z=x+y\n",
        "   print (\"x={} y={} x+y={}\".format(x,y,z))\n",
        "a=10\n",
        "b=20\n",
        "add(a,b)"
      ],
      "metadata": {
        "colab": {
          "base_uri": "https://localhost:8080/"
        },
        "id": "GLjFSVPquzVf",
        "outputId": "fb679bf8-d5da-4924-d891-f99d0caa13e6"
      },
      "execution_count": 10,
      "outputs": [
        {
          "output_type": "stream",
          "name": "stdout",
          "text": [
            "x=10 y=20 x+y=30\n"
          ]
        }
      ]
    },
    {
      "cell_type": "code",
      "source": [
        "#keyword arguments\n",
        "def nameAge(name, age):\n",
        "    print(\"Hi, I am\", name)\n",
        "    print(\"My age is \", age)\n",
        "\n",
        "nameAge(name=\"Prince\", age=20)\n",
        "\n",
        "nameAge(age=20, name=\"Prince\")"
      ],
      "metadata": {
        "colab": {
          "base_uri": "https://localhost:8080/"
        },
        "id": "XAUNb510u4As",
        "outputId": "dcdbc907-ab4f-4751-dd78-30499f7e4aa3"
      },
      "execution_count": 11,
      "outputs": [
        {
          "output_type": "stream",
          "name": "stdout",
          "text": [
            "Hi, I am Prince\n",
            "My age is  20\n",
            "Hi, I am Prince\n",
            "My age is  20\n"
          ]
        }
      ]
    },
    {
      "cell_type": "code",
      "source": [
        "#default arguments\n",
        "\n",
        "def printinfo( name, age = 35 ):\n",
        "   \"This prints a passed info into this function\"\n",
        "   print (\"Name: \", name)\n",
        "   print (\"Age \", age)\n",
        "   return\n",
        "\n",
        "# Now you can call printinfo function\n",
        "printinfo( age=50, name=\"miki\" )\n",
        "printinfo( name=\"miki\" )"
      ],
      "metadata": {
        "colab": {
          "base_uri": "https://localhost:8080/"
        },
        "id": "fO9GDDfcvpNM",
        "outputId": "f7b1a667-5d22-42d6-9bf8-80f2053f09c9"
      },
      "execution_count": 13,
      "outputs": [
        {
          "output_type": "stream",
          "name": "stdout",
          "text": [
            "Name:  miki\n",
            "Age  50\n",
            "Name:  miki\n",
            "Age  35\n"
          ]
        }
      ]
    },
    {
      "cell_type": "code",
      "source": [
        "#variable- length arguments\n",
        "def add_num(*args):\n",
        "   sum = 0\n",
        "   for num in args:\n",
        "      sum += num\n",
        "   return sum\n",
        "result = add_num(1, 2, 3)\n",
        "print('Sum is', result)\n",
        "result = add_num(10, 20, 30, 40)\n",
        "print('Sum is', result)\n",
        "22\n",
        "result = add_num(5, 6, 7, 8, 9)\n",
        "print('Sum is', result)"
      ],
      "metadata": {
        "colab": {
          "base_uri": "https://localhost:8080/"
        },
        "id": "O_GZoEFswLAP",
        "outputId": "28883c1a-169e-4434-b9b8-766b508f697b"
      },
      "execution_count": 14,
      "outputs": [
        {
          "output_type": "stream",
          "name": "stdout",
          "text": [
            "Sum is 6\n",
            "Sum is 100\n",
            "Sum is 35\n"
          ]
        }
      ]
    },
    {
      "cell_type": "code",
      "source": [
        "#Keyword Variable Length Arguments (kwargs):\n",
        "def myFun(**kwargs):\n",
        "    for key, value in kwargs.items():\n",
        "        print(\"%s == %s\" % (key, value))\n",
        "\n",
        "\n",
        "# Driver code\n",
        "myFun(first='L', mid='P', last='U')\n"
      ],
      "metadata": {
        "colab": {
          "base_uri": "https://localhost:8080/"
        },
        "id": "2muxJxURwXq1",
        "outputId": "afa6b7d3-7eb1-469f-f2c1-b7ebdd926f95"
      },
      "execution_count": 16,
      "outputs": [
        {
          "output_type": "stream",
          "name": "stdout",
          "text": [
            "first == L\n",
            "mid == P\n",
            "last == U\n"
          ]
        }
      ]
    }
  ]
}