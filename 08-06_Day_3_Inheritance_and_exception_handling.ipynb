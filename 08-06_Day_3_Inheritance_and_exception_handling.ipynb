{
  "nbformat": 4,
  "nbformat_minor": 0,
  "metadata": {
    "colab": {
      "provenance": [],
      "authorship_tag": "ABX9TyNUKUzlFtwYHpMrLHT39HqB",
      "include_colab_link": true
    },
    "kernelspec": {
      "name": "python3",
      "display_name": "Python 3"
    },
    "language_info": {
      "name": "python"
    }
  },
  "cells": [
    {
      "cell_type": "markdown",
      "metadata": {
        "id": "view-in-github",
        "colab_type": "text"
      },
      "source": [
        "<a href=\"https://colab.research.google.com/github/Navyasri28/Python-practices/blob/main/08-06_Day_3_Inheritance_and_exception_handling.ipynb\" target=\"_parent\"><img src=\"https://colab.research.google.com/assets/colab-badge.svg\" alt=\"Open In Colab\"/></a>"
      ]
    },
    {
      "cell_type": "markdown",
      "source": [
        "## **INHERITANCE**\n",
        "Inheritance allows us to define a class that inherits all the methods and properties from another class.\n",
        "\n",
        "Parent class is the class being inherited from, also called base class.\n",
        "\n",
        "Child class is the class that inherits from another class, also called derived class.\n",
        "\n"
      ],
      "metadata": {
        "id": "qevTfXWEQsxO"
      }
    },
    {
      "cell_type": "code",
      "source": [
        "class Animal(object):\n",
        "\n",
        "    def __init__(self, name, species):\n",
        "        self.name = name\n",
        "        self.species = species\n",
        "\n",
        "    def display_info(self):\n",
        "        print(f\"Name: {self.name}, Species: {self.species}\")\n",
        "\n",
        "# Derived class\n",
        "class Dog(Animal):\n",
        "\n",
        "    def __init__(self, name, breed):\n",
        "        # Calling the constructor of the base class\n",
        "        super().__init__(name, \"Dog\")\n",
        "        self.breed = breed\n",
        "\n",
        "    # Method to display dog-specific information\n",
        "    def display_info(self):\n",
        "        print(f\"Name: {self.name}, Species: {self.species}, Breed: {self.breed}\")\n",
        "\n",
        "animal = Animal(\"Generic Animal\", \"Unknown\")\n",
        "animal.display_info()\n",
        "\n",
        "dog = Dog(\"Buddy\", \"Golden Retriever\")\n",
        "dog.display_info()\n"
      ],
      "metadata": {
        "colab": {
          "base_uri": "https://localhost:8080/"
        },
        "id": "9vDgVqTGQ8Qa",
        "outputId": "b83c1c5e-3df9-4081-c6aa-9c5f6efb0fde"
      },
      "execution_count": 1,
      "outputs": [
        {
          "output_type": "stream",
          "name": "stdout",
          "text": [
            "Name: Generic Animal, Species: Unknown\n",
            "Name: Buddy, Species: Dog, Breed: Golden Retriever\n"
          ]
        }
      ]
    },
    {
      "cell_type": "markdown",
      "source": [
        " **Single Inheritance**: A child class inherits from only one parent class."
      ],
      "metadata": {
        "id": "ND0vfyj2UWBQ"
      }
    },
    {
      "cell_type": "code",
      "source": [
        "class Animal:\n",
        "    def __init__(self, name):\n",
        "        self.name = name\n",
        "\n",
        "class Dog(Animal):\n",
        "    def bark(self):\n",
        "        print(f\"{self.name} is barking.\")\n",
        "\n",
        "# Driver code\n",
        "dog = Dog(\"Buddy\")\n",
        "dog.bark()\n"
      ],
      "metadata": {
        "colab": {
          "base_uri": "https://localhost:8080/"
        },
        "id": "SlcQY3f9Uej8",
        "outputId": "0a8e5f06-bd68-4989-dcb6-d8e3441dcf63"
      },
      "execution_count": 2,
      "outputs": [
        {
          "output_type": "stream",
          "name": "stdout",
          "text": [
            "Buddy is barking.\n"
          ]
        }
      ]
    }
  ]
}