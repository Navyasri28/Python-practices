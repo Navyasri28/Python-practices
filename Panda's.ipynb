{
  "nbformat": 4,
  "nbformat_minor": 0,
  "metadata": {
    "colab": {
      "provenance": [],
      "authorship_tag": "ABX9TyMHkFv/2+XoDaXAV88ZQna0",
      "include_colab_link": true
    },
    "kernelspec": {
      "name": "python3",
      "display_name": "Python 3"
    },
    "language_info": {
      "name": "python"
    }
  },
  "cells": [
    {
      "cell_type": "markdown",
      "metadata": {
        "id": "view-in-github",
        "colab_type": "text"
      },
      "source": [
        "<a href=\"https://colab.research.google.com/github/Navyasri28/Python-practices/blob/main/Panda's.ipynb\" target=\"_parent\"><img src=\"https://colab.research.google.com/assets/colab-badge.svg\" alt=\"Open In Colab\"/></a>"
      ]
    },
    {
      "cell_type": "markdown",
      "source": [
        "# Panda's - Introduction"
      ],
      "metadata": {
        "id": "ETJye7P7Si1j"
      }
    },
    {
      "cell_type": "markdown",
      "source": [
        "Pandas is a popular Python library designed to simplify data manipulation and analysis. It provides various functions to help with tasks such as cleaning, exploring, and transforming data. The name \"Pandas\" is derived from \"Panel Data\" and \"Python Data Analysis.\" Wes McKinney developed it in 2008 to address the need for flexible and powerful data analysis tools in Python."
      ],
      "metadata": {
        "id": "oxQTj3ysSz2t"
      }
    },
    {
      "cell_type": "markdown",
      "source": [
        "Pandas is a versatile tool that allows you to extract insights from your data. With Pandas, you can determine relationships between different columns, calculate averages, and identify the maximum and minimum values. Additionally, it helps in data cleaning by enabling the removal of irrelevant rows or those with incorrect or missing values, ensuring your data is accurate and useful."
      ],
      "metadata": {
        "id": "dW9tMXsyWw2Z"
      }
    },
    {
      "cell_type": "markdown",
      "source": [
        "**Installation**"
      ],
      "metadata": {
        "id": "8DquO4uPXJyo"
      }
    },
    {
      "cell_type": "markdown",
      "source": [
        "To install Pandas, you can use the Python package manager pip. Open your command prompt or terminal and enter the following command:"
      ],
      "metadata": {
        "id": "sygfezuGXL4M"
      }
    },
    {
      "cell_type": "code",
      "source": [
        "pip install pandas\n"
      ],
      "metadata": {
        "id": "xu1jcCHpXQ65"
      },
      "execution_count": null,
      "outputs": []
    },
    {
      "cell_type": "markdown",
      "source": [
        "This command will download and install the Pandas library along with any necessary dependencies, making it ready for use in your Python projects."
      ],
      "metadata": {
        "id": "7u5jGd1WXS_p"
      }
    },
    {
      "cell_type": "markdown",
      "source": [
        "Pandas import"
      ],
      "metadata": {
        "id": "K4jQXVHrXV0v"
      }
    },
    {
      "cell_type": "code",
      "source": [
        "import pandas as pd\n",
        "\n",
        "mydataset = {\n",
        "  'names': [\"Alice\", \"Bob\", \"Charlie\"],\n",
        "  'ages': [25, 30, 35],\n",
        "  'cities': [\"New York\", \"Los Angeles\", \"Chicago\"]\n",
        "}\n",
        "\n",
        "myvar = pd.DataFrame(mydataset)\n",
        "\n",
        "print(myvar)\n"
      ],
      "metadata": {
        "colab": {
          "base_uri": "https://localhost:8080/"
        },
        "id": "VEIdjvVrXpCo",
        "outputId": "115e2384-c9b1-4589-e77c-559c4704ea81"
      },
      "execution_count": null,
      "outputs": [
        {
          "output_type": "stream",
          "name": "stdout",
          "text": [
            "     names  ages       cities\n",
            "0    Alice    25     New York\n",
            "1      Bob    30  Los Angeles\n",
            "2  Charlie    35      Chicago\n"
          ]
        }
      ]
    },
    {
      "cell_type": "markdown",
      "source": [
        "**Pandas: A Library for Managing Structured Data in Python**"
      ],
      "metadata": {
        "id": "oLgBX8f4Xrj5"
      }
    },
    {
      "cell_type": "markdown",
      "source": [
        "Pandas is a robust Python library tailored for data manipulation and analysis. It offers versatile and powerful tools for handling structured data, enabling users to perform intricate operations with minimal effort. Here are some of the key features of Pandas:\n",
        "\n",
        "**DataFrames and Series**: Pandas utilizes DataFrames, which are two-dimensional tables, and Series, which are one-dimensional arrays, to represent structured data. This is akin to how tables are structured in databases or spreadsheets like Excel.\n",
        "\n",
        "**Comprehensive Data Operations**: Pandas allows you to efficiently filter, sort, group, merge, concatenate, pivot, and reshape data, making complex data operations straightforward.\n",
        "\n",
        "**Handling Missing Data**: The library provides various methods to detect and manage missing or null values in datasets.\n",
        "\n",
        "**Integration with Other Libraries**: Pandas seamlessly integrates with other essential Python libraries commonly used in data science, such as NumPy, SciPy, and matplotlib, enhancing its functionality and utility."
      ],
      "metadata": {
        "id": "fwARHJJN-2N2"
      }
    },
    {
      "cell_type": "markdown",
      "source": [
        "**Pandas Series: Overview**"
      ],
      "metadata": {
        "id": "-oko6_9HATnF"
      }
    },
    {
      "cell_type": "markdown",
      "source": [
        "A Pandas Series is a one-dimensional array where each element is associated with a label, known as the index. This structure allows for diverse data types, including numbers, strings, booleans, or even more complex objects. The labeled index in a Series enhances its capability for data manipulation and analysis."
      ],
      "metadata": {
        "id": "Kw_EG3DcAp9y"
      }
    },
    {
      "cell_type": "markdown",
      "source": [
        "**Creating a Pandas Series**"
      ],
      "metadata": {
        "id": "fBDfvJqqAuL-"
      }
    },
    {
      "cell_type": "markdown",
      "source": [
        "You can create a Pandas Series from different data sources like lists, arrays, and dictionaries. The creation process is simple and allows for index customization to fit specific requirements."
      ],
      "metadata": {
        "id": "xi138PMrAyMy"
      }
    },
    {
      "cell_type": "markdown",
      "source": [
        "From Lists\n",
        "\n",
        "To create a Series from a list:"
      ],
      "metadata": {
        "id": "Ysa0RSAiA2lW"
      }
    },
    {
      "cell_type": "code",
      "source": [
        "import pandas as pd\n",
        "\n",
        "# Create a Series from a list\n",
        "data = [10, 20, 30, 40]\n",
        "s = pd.Series(data, index=[\"a\", \"b\", \"c\", \"d\"])\n",
        "\n",
        "print(\"Series from list:\")\n",
        "print(s)\n"
      ],
      "metadata": {
        "colab": {
          "base_uri": "https://localhost:8080/"
        },
        "id": "UsrK1fJYA5tr",
        "outputId": "96789777-90c5-4de1-dace-f09b57637777"
      },
      "execution_count": 1,
      "outputs": [
        {
          "output_type": "stream",
          "name": "stdout",
          "text": [
            "Series from list:\n",
            "a    10\n",
            "b    20\n",
            "c    30\n",
            "d    40\n",
            "dtype: int64\n"
          ]
        }
      ]
    },
    {
      "cell_type": "markdown",
      "source": [
        "From Arrays\n",
        "\n",
        "To create a Series from a NumPy array:"
      ],
      "metadata": {
        "id": "Kp4oap8UBF8M"
      }
    },
    {
      "cell_type": "code",
      "source": [
        "import numpy as np\n",
        "\n",
        "# Create a Series from a NumPy array\n",
        "array_data = np.array([1.1, 2.2, 3.3, 4.4])\n",
        "s_from_array = pd.Series(array_data, index=[\"x\", \"y\", \"z\", \"w\"])\n",
        "\n",
        "print(\"Series from array:\")\n",
        "print(s_from_array)\n"
      ],
      "metadata": {
        "colab": {
          "base_uri": "https://localhost:8080/"
        },
        "id": "6J8D8t-rBTPY",
        "outputId": "19f53507-c327-462b-b11f-8af28793373e"
      },
      "execution_count": 2,
      "outputs": [
        {
          "output_type": "stream",
          "name": "stdout",
          "text": [
            "Series from array:\n",
            "x    1.1\n",
            "y    2.2\n",
            "z    3.3\n",
            "w    4.4\n",
            "dtype: float64\n"
          ]
        }
      ]
    },
    {
      "cell_type": "markdown",
      "source": [
        "From Dictionaries\n",
        "\n",
        "To create a Series from a dictionary:"
      ],
      "metadata": {
        "id": "ydjs2V2MBVf3"
      }
    },
    {
      "cell_type": "code",
      "source": [
        "# Create a Series from a dictionary\n",
        "dict_data = {\"Apple\": 100, \"Banana\": 200, \"Cherry\": 300}\n",
        "s_from_dict = pd.Series(dict_data)\n",
        "\n",
        "print(\"Series from dictionary:\")\n",
        "print(s_from_dict)\n"
      ],
      "metadata": {
        "colab": {
          "base_uri": "https://localhost:8080/"
        },
        "id": "2a6gc0IxBYBl",
        "outputId": "8b4d410b-56a4-42da-e2d6-b036206ca384"
      },
      "execution_count": 3,
      "outputs": [
        {
          "output_type": "stream",
          "name": "stdout",
          "text": [
            "Series from dictionary:\n",
            "Apple     100\n",
            "Banana    200\n",
            "Cherry    300\n",
            "dtype: int64\n"
          ]
        }
      ]
    },
    {
      "cell_type": "markdown",
      "source": [
        "**Exploring Series Attributes and Methods**"
      ],
      "metadata": {
        "id": "EoPy_WsOB88v"
      }
    },
    {
      "cell_type": "markdown",
      "source": [
        "Pandas Series offers a variety of attributes and methods for efficient data manipulation. These tools enable operations on individual elements or the entire Series, providing flexibility in data handling.\n",
        "\n",
        "Common Attributes\n",
        "\n",
        "s.index: Returns the index labels of the Series.\n",
        "\n",
        "s.values: Returns the Series values as a NumPy array.\n",
        "\n",
        "s.dtype: Indicates the data type of the Series elements.\n",
        "\n",
        "s.size: Provides the count of elements in the Series.\n",
        "\n",
        "Example: Exploring Series Attributes"
      ],
      "metadata": {
        "id": "9VgsXj4_CAtA"
      }
    },
    {
      "cell_type": "code",
      "source": [
        "# Example: Exploring Series attributes\n",
        "print(\"Index:\", s.index)\n",
        "print(\"Values:\", s.values)\n",
        "print(\"Data type:\", s.dtype)\n",
        "print(\"Size:\", s.size)\n"
      ],
      "metadata": {
        "colab": {
          "base_uri": "https://localhost:8080/"
        },
        "id": "fSA4mQrbCG2C",
        "outputId": "639c9aa0-c9d3-4c4f-a860-5686f98bd7b0"
      },
      "execution_count": 4,
      "outputs": [
        {
          "output_type": "stream",
          "name": "stdout",
          "text": [
            "Index: Index(['a', 'b', 'c', 'd'], dtype='object')\n",
            "Values: [10 20 30 40]\n",
            "Data type: int64\n",
            "Size: 4\n"
          ]
        }
      ]
    },
    {
      "cell_type": "markdown",
      "source": [
        "**Common Methods**\n",
        "Pandas Series methods enable various operations such as arithmetic, data manipulation, and indexing.\n",
        "\n",
        "s.head(n): Returns the first n elements of the Series.\n",
        "\n",
        "s.tail(n): Returns the last n elements of the Series.\n",
        "\n",
        "s.sort_values(): Sorts the Series by its values.\n",
        "\n",
        "s.mean(), s.median(), s.std(): Calculate common statistical measures.\n",
        "\n",
        "s.str: Offers string manipulation methods for Series containing string data.\n",
        "\n",
        "s.apply(func): Applies a given function to each element in the Series."
      ],
      "metadata": {
        "id": "SAna_cpzCJUO"
      }
    },
    {
      "cell_type": "code",
      "source": [
        "# Example: Using Series methods\n",
        "print(\"First two elements:\", s.head(2))\n",
        "print(\"Last two elements:\", s.tail(2))\n",
        "print(\"Sorted values:\", s.sort_values())\n",
        "print(\"Mean of the Series:\", s.mean())\n"
      ],
      "metadata": {
        "colab": {
          "base_uri": "https://localhost:8080/"
        },
        "id": "vz_qgLaGCP_k",
        "outputId": "2a360e71-3e92-4395-ba53-0a83f7ca3ecf"
      },
      "execution_count": 5,
      "outputs": [
        {
          "output_type": "stream",
          "name": "stdout",
          "text": [
            "First two elements: a    10\n",
            "b    20\n",
            "dtype: int64\n",
            "Last two elements: c    30\n",
            "d    40\n",
            "dtype: int64\n",
            "Sorted values: a    10\n",
            "b    20\n",
            "c    30\n",
            "d    40\n",
            "dtype: int64\n",
            "Mean of the Series: 25.0\n"
          ]
        }
      ]
    }
  ]
}