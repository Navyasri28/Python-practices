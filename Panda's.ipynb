{
  "nbformat": 4,
  "nbformat_minor": 0,
  "metadata": {
    "colab": {
      "provenance": [],
      "authorship_tag": "ABX9TyN2sNPQEz1/n0yrgLgvBJnz",
      "include_colab_link": true
    },
    "kernelspec": {
      "name": "python3",
      "display_name": "Python 3"
    },
    "language_info": {
      "name": "python"
    }
  },
  "cells": [
    {
      "cell_type": "markdown",
      "metadata": {
        "id": "view-in-github",
        "colab_type": "text"
      },
      "source": [
        "<a href=\"https://colab.research.google.com/github/Navyasri28/Python-practices/blob/main/Panda's.ipynb\" target=\"_parent\"><img src=\"https://colab.research.google.com/assets/colab-badge.svg\" alt=\"Open In Colab\"/></a>"
      ]
    },
    {
      "cell_type": "markdown",
      "source": [
        "# Panda's - Introduction"
      ],
      "metadata": {
        "id": "ETJye7P7Si1j"
      }
    },
    {
      "cell_type": "markdown",
      "source": [
        "Pandas is a popular Python library designed to simplify data manipulation and analysis. It provides various functions to help with tasks such as cleaning, exploring, and transforming data. The name \"Pandas\" is derived from \"Panel Data\" and \"Python Data Analysis.\" Wes McKinney developed it in 2008 to address the need for flexible and powerful data analysis tools in Python."
      ],
      "metadata": {
        "id": "oxQTj3ysSz2t"
      }
    },
    {
      "cell_type": "markdown",
      "source": [
        "Pandas is a versatile tool that allows you to extract insights from your data. With Pandas, you can determine relationships between different columns, calculate averages, and identify the maximum and minimum values. Additionally, it helps in data cleaning by enabling the removal of irrelevant rows or those with incorrect or missing values, ensuring your data is accurate and useful."
      ],
      "metadata": {
        "id": "dW9tMXsyWw2Z"
      }
    },
    {
      "cell_type": "markdown",
      "source": [
        "**Installation**"
      ],
      "metadata": {
        "id": "8DquO4uPXJyo"
      }
    },
    {
      "cell_type": "markdown",
      "source": [
        "To install Pandas, you can use the Python package manager pip. Open your command prompt or terminal and enter the following command:"
      ],
      "metadata": {
        "id": "sygfezuGXL4M"
      }
    },
    {
      "cell_type": "code",
      "source": [
        "pip install pandas\n"
      ],
      "metadata": {
        "id": "xu1jcCHpXQ65"
      },
      "execution_count": null,
      "outputs": []
    },
    {
      "cell_type": "markdown",
      "source": [
        "This command will download and install the Pandas library along with any necessary dependencies, making it ready for use in your Python projects."
      ],
      "metadata": {
        "id": "7u5jGd1WXS_p"
      }
    },
    {
      "cell_type": "markdown",
      "source": [
        "Pandas import"
      ],
      "metadata": {
        "id": "K4jQXVHrXV0v"
      }
    },
    {
      "cell_type": "code",
      "source": [
        "import pandas as pd\n",
        "\n",
        "mydataset = {\n",
        "  'names': [\"Alice\", \"Bob\", \"Charlie\"],\n",
        "  'ages': [25, 30, 35],\n",
        "  'cities': [\"New York\", \"Los Angeles\", \"Chicago\"]\n",
        "}\n",
        "\n",
        "myvar = pd.DataFrame(mydataset)\n",
        "\n",
        "print(myvar)\n"
      ],
      "metadata": {
        "colab": {
          "base_uri": "https://localhost:8080/"
        },
        "id": "VEIdjvVrXpCo",
        "outputId": "115e2384-c9b1-4589-e77c-559c4704ea81"
      },
      "execution_count": null,
      "outputs": [
        {
          "output_type": "stream",
          "name": "stdout",
          "text": [
            "     names  ages       cities\n",
            "0    Alice    25     New York\n",
            "1      Bob    30  Los Angeles\n",
            "2  Charlie    35      Chicago\n"
          ]
        }
      ]
    },
    {
      "cell_type": "markdown",
      "source": [],
      "metadata": {
        "id": "oLgBX8f4Xrj5"
      }
    }
  ]
}