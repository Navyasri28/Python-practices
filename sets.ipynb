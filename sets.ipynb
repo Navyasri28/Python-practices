{
  "nbformat": 4,
  "nbformat_minor": 0,
  "metadata": {
    "colab": {
      "provenance": [],
      "authorship_tag": "ABX9TyPKRVYdF9C/pDD/Ug+B17zQ",
      "include_colab_link": true
    },
    "kernelspec": {
      "name": "python3",
      "display_name": "Python 3"
    },
    "language_info": {
      "name": "python"
    }
  },
  "cells": [
    {
      "cell_type": "markdown",
      "metadata": {
        "id": "view-in-github",
        "colab_type": "text"
      },
      "source": [
        "<a href=\"https://colab.research.google.com/github/Navyasri28/Python-practices/blob/main/sets.ipynb\" target=\"_parent\"><img src=\"https://colab.research.google.com/assets/colab-badge.svg\" alt=\"Open In Colab\"/></a>"
      ]
    },
    {
      "cell_type": "markdown",
      "source": [
        "# **SETS**\n",
        "\n",
        "As we know set cannot contain duplicate values and also order of elements in a set is not defined. We can say a set is a unordered collection of unique elements.A set itself may be modified but the elements contained in the set must be of an immutable type."
      ],
      "metadata": {
        "id": "5ejJN-FHgYl3"
      }
    },
    {
      "cell_type": "code",
      "execution_count": 3,
      "metadata": {
        "colab": {
          "base_uri": "https://localhost:8080/"
        },
        "id": "MXWmFbalgWBO",
        "outputId": "17dad456-1e1f-4d45-83a2-fa2e63cf08c1"
      },
      "outputs": [
        {
          "output_type": "execute_result",
          "data": {
            "text/plain": [
              "{1, 2, 3, 4}"
            ]
          },
          "metadata": {},
          "execution_count": 3
        }
      ],
      "source": [
        "x = set(['Navya', 'arjun', 'tejjuu', 'arjun', 'harsha'])\n",
        "x"
      ]
    },
    {
      "cell_type": "markdown",
      "source": [
        "**Create a set in python**\n",
        "\n",
        "While creating a python set place all elements or items seperated by comma inside curly brackets. The built-in set() function can also be used to create a set in python. As per definition, a set can have any number and any items."
      ],
      "metadata": {
        "id": "qLFTrNNJjXrV"
      }
    },
    {
      "cell_type": "code",
      "source": [
        "my_set = {1, 2, 3, 4, 5}\n",
        "print(\"Set using curly braces:\", my_set)\n",
        "another_set = set([1, 2, 3, 4, 5])\n",
        "print(\"Set using set() function:\", another_set)"
      ],
      "metadata": {
        "colab": {
          "base_uri": "https://localhost:8080/"
        },
        "id": "FXNpi6iKkMEv",
        "outputId": "b3b424df-11b9-40c2-f588-5e160858d773"
      },
      "execution_count": 4,
      "outputs": [
        {
          "output_type": "stream",
          "name": "stdout",
          "text": [
            "Set using curly braces: {1, 2, 3, 4, 5}\n",
            "Set using set() function: {1, 2, 3, 4, 5}\n"
          ]
        }
      ]
    },
    {
      "cell_type": "markdown",
      "source": [
        "## **Set operations**"
      ],
      "metadata": {
        "id": "jxoIUQ4XkhmN"
      }
    },
    {
      "cell_type": "markdown",
      "source": [
        "In set operations we will be having union , intersection , difference and symmetric difference."
      ],
      "metadata": {
        "id": "mLsIc8EKkuFe"
      }
    },
    {
      "cell_type": "markdown",
      "source": [
        "**Set Union**\n",
        "\n",
        "The union of two sets is nothing but a set containing all the elements of two sets. If you contain two sets A and B then A set C is union which contain all the elements from both the sets A and B.We use | synatx for union."
      ],
      "metadata": {
        "id": "8_CPB1_zk68J"
      }
    },
    {
      "cell_type": "code",
      "source": [
        "A = {50, 20, 30}\n",
        "B = {30, 50, 70}\n",
        "union_set = A | B\n",
        "print(union_set)"
      ],
      "metadata": {
        "colab": {
          "base_uri": "https://localhost:8080/"
        },
        "id": "7X6vg1-XlilN",
        "outputId": "2b51c4f6-7e55-4a73-e011-865277f71ffe"
      },
      "execution_count": 5,
      "outputs": [
        {
          "output_type": "stream",
          "name": "stdout",
          "text": [
            "{50, 20, 70, 30}\n"
          ]
        }
      ]
    },
    {
      "cell_type": "markdown",
      "source": [
        "**Set intersection**\n",
        "\n",
        "The intersection of two sets is the common elements between both the sets .For suppose if you have two sets A and B then the C is the set which contain the common elements between A and B. We use & syntax for intersection."
      ],
      "metadata": {
        "id": "iqzDs1gdlwOD"
      }
    },
    {
      "cell_type": "code",
      "source": [
        "A = {1,2,3,4}\n",
        "B = {2,3,4,5}\n",
        "intersection_set =A & B\n",
        "print(\"Intersection elememnts:\",intersection_set)"
      ],
      "metadata": {
        "colab": {
          "base_uri": "https://localhost:8080/"
        },
        "id": "sj7xGYVbm-fX",
        "outputId": "192a9d34-b074-484c-fb1b-635f6ee99589"
      },
      "execution_count": 6,
      "outputs": [
        {
          "output_type": "stream",
          "name": "stdout",
          "text": [
            "Intersection elememnts: {2, 3, 4}\n"
          ]
        }
      ]
    },
    {
      "cell_type": "markdown",
      "source": [
        "**Difference**\n",
        "\n",
        "This method is used to subtract elements from one set to another set and returns the remaining elements in new set. If you have 2 sets A and B , then the elements in the A will be present and not B. The diffference between A and B is A-B."
      ],
      "metadata": {
        "id": "YzU5uaLZnX7i"
      }
    },
    {
      "cell_type": "code",
      "source": [
        "A = {\"navya\",\"sravya\",\"bhavya\"}\n",
        "B = {\"manu\",\"tejuuu\",\"navya\"}\n",
        "difference_set = A - B\n",
        "print(\"Difference:\",difference_set)"
      ],
      "metadata": {
        "colab": {
          "base_uri": "https://localhost:8080/"
        },
        "id": "XATITLU8n2aJ",
        "outputId": "a5debd45-5e2c-43a1-d69e-12d5ad817244"
      },
      "execution_count": 7,
      "outputs": [
        {
          "output_type": "stream",
          "name": "stdout",
          "text": [
            "Difference: {'bhavya', 'sravya'}\n"
          ]
        }
      ]
    },
    {
      "cell_type": "markdown",
      "source": [
        "**Symmetric difference**\n",
        "It is denoted by A ^ B . The symmetric difference operation generates a new set containing elements that are exclusive to each set.It includes the elements in either set not in both sets."
      ],
      "metadata": {
        "id": "iMagLI6EpLye"
      }
    },
    {
      "cell_type": "code",
      "source": [
        "A = {1,2,3,4}\n",
        "B = {2,3,4,5}\n",
        "symmetric_difference = A ^ B\n",
        "print(\"Symmetric difference:\",symmetric_difference)"
      ],
      "metadata": {
        "colab": {
          "base_uri": "https://localhost:8080/"
        },
        "id": "y35CiK8RpgMG",
        "outputId": "1a40c1d9-7d05-48ef-c611-bb5fd1bb893f"
      },
      "execution_count": 8,
      "outputs": [
        {
          "output_type": "stream",
          "name": "stdout",
          "text": [
            "Symmetric difference: {1, 5}\n"
          ]
        }
      ]
    },
    {
      "cell_type": "markdown",
      "source": [
        "**Set methods**\n",
        "\n",
        "**Python fronzenset()**\n",
        "\n",
        "While elements of a set can be modified at any time, elements of the frozen set remain the same after creation."
      ],
      "metadata": {
        "id": "Ak3Eu6i3rhx2"
      }
    },
    {
      "cell_type": "code",
      "source": [
        "# tuple of vowels\n",
        "vowels = ('a', 'e', 'i', 'o', 'u')\n",
        "fSet = frozenset(vowels)\n",
        "print('The frozen set is:', fSet)\n",
        "print('The empty frozen set is:', frozenset())\n"
      ],
      "metadata": {
        "colab": {
          "base_uri": "https://localhost:8080/"
        },
        "id": "WiBTgywSr0OM",
        "outputId": "a72a7e3f-2bc0-42f0-839e-657a0ce36d85"
      },
      "execution_count": 11,
      "outputs": [
        {
          "output_type": "stream",
          "name": "stdout",
          "text": [
            "The frozen set is: frozenset({'e', 'u', 'i', 'o', 'a'})\n",
            "The empty frozen set is: frozenset()\n"
          ]
        }
      ]
    },
    {
      "cell_type": "markdown",
      "source": [
        "**Python Set add()**\n",
        "\n",
        "The add() method adds a given element to a set. If the element is already present, it doesn't add any element."
      ],
      "metadata": {
        "id": "8JAVYNU8sC7o"
      }
    },
    {
      "cell_type": "code",
      "source": [
        "prime_numbers = {2, 3, 5, 7, 11}\n",
        "prime_numbers.add(13)\n",
        "print(prime_numbers)"
      ],
      "metadata": {
        "colab": {
          "base_uri": "https://localhost:8080/"
        },
        "id": "v63CZr-xsLCW",
        "outputId": "cd57d454-5d08-4a7e-a9ac-c398d9552dc2"
      },
      "execution_count": 13,
      "outputs": [
        {
          "output_type": "stream",
          "name": "stdout",
          "text": [
            "{2, 3, 5, 7, 11, 13}\n"
          ]
        }
      ]
    },
    {
      "cell_type": "markdown",
      "source": [
        "**Python Set clear()**\n",
        "\n",
        "The clear() method removes all items from the set."
      ],
      "metadata": {
        "id": "16IClzitsbup"
      }
    },
    {
      "cell_type": "code",
      "source": [
        "primeNumbers = {2, 3, 5, 7}\n",
        "primeNumbers.clear()\n",
        "print(primeNumbers)"
      ],
      "metadata": {
        "colab": {
          "base_uri": "https://localhost:8080/"
        },
        "id": "wDOABTdNsd5i",
        "outputId": "6505189b-9655-4530-e372-a0cf64a23a72"
      },
      "execution_count": 14,
      "outputs": [
        {
          "output_type": "stream",
          "name": "stdout",
          "text": [
            "set()\n"
          ]
        }
      ]
    },
    {
      "cell_type": "markdown",
      "source": [
        "**Python Set copy()**\n",
        "\n",
        "The copy() method returns a copy of the set."
      ],
      "metadata": {
        "id": "owRgt9C0sS_T"
      }
    },
    {
      "cell_type": "code",
      "source": [
        "numbers = {1, 2, 3, 4}\n",
        "new_numbers = numbers.copy()\n",
        "print(new_numbers)\n"
      ],
      "metadata": {
        "colab": {
          "base_uri": "https://localhost:8080/"
        },
        "id": "7qsMxtO6swKC",
        "outputId": "02cdc81b-ce4a-42ca-ed48-9e88a559d3f6"
      },
      "execution_count": 15,
      "outputs": [
        {
          "output_type": "stream",
          "name": "stdout",
          "text": [
            "{1, 2, 3, 4}\n"
          ]
        }
      ]
    },
    {
      "cell_type": "markdown",
      "source": [
        "**Python Set difference()**\n",
        "\n",
        "The difference() method computes the difference of two sets and returns items that are unique to the first set."
      ],
      "metadata": {
        "id": "sE0jB6qzwylV"
      }
    },
    {
      "cell_type": "code",
      "source": [
        "A = {1, 3, 5, 7, 9}\n",
        "B = {2, 3, 5, 7, 11}\n",
        "print(A.difference(B))"
      ],
      "metadata": {
        "colab": {
          "base_uri": "https://localhost:8080/"
        },
        "id": "z2jMEji8w6Ja",
        "outputId": "682c4963-9440-4915-8c77-81b67193551a"
      },
      "execution_count": 16,
      "outputs": [
        {
          "output_type": "stream",
          "name": "stdout",
          "text": [
            "{1, 9}\n"
          ]
        }
      ]
    },
    {
      "cell_type": "markdown",
      "source": [
        "**Python Set difference_update()**\n",
        "\n",
        "The difference_update() method computes the difference between two sets (A - B) and updates set A with the resulting set."
      ],
      "metadata": {
        "id": "AAPUxuC-w_dC"
      }
    },
    {
      "cell_type": "code",
      "source": [
        "A = {1, 3, 5, 7, 9}\n",
        "B = {2, 3, 5, 7, 11}\n",
        "A.difference_update(B)\n",
        "\n",
        "print('A = ', A)"
      ],
      "metadata": {
        "colab": {
          "base_uri": "https://localhost:8080/"
        },
        "id": "hfa1I0YXxF1F",
        "outputId": "104e7dd7-3a8b-4c21-801b-9ff34d7c85e3"
      },
      "execution_count": 17,
      "outputs": [
        {
          "output_type": "stream",
          "name": "stdout",
          "text": [
            "A =  {1, 9}\n"
          ]
        }
      ]
    },
    {
      "cell_type": "markdown",
      "source": [
        "**Python Set discard()**\n",
        "\n",
        "The discard() method removes the specified item from the set."
      ],
      "metadata": {
        "id": "dMc9QdVmxLH7"
      }
    },
    {
      "cell_type": "code",
      "source": [
        "numbers = {2, 3, 4, 5}\n",
        "numbers.discard(3)\n",
        "print(numbers)"
      ],
      "metadata": {
        "colab": {
          "base_uri": "https://localhost:8080/"
        },
        "id": "gUjdebk_xSTn",
        "outputId": "e36e4d44-667d-42fe-e266-20b5052924e6"
      },
      "execution_count": 18,
      "outputs": [
        {
          "output_type": "stream",
          "name": "stdout",
          "text": [
            "{2, 4, 5}\n"
          ]
        }
      ]
    },
    {
      "cell_type": "markdown",
      "source": [
        "**Python Set isdisjoint()**\n",
        "\n",
        "The isdisjoint() method returns True if two sets don't have any common items between them, i.e. they are disjoint. Else the returns False."
      ],
      "metadata": {
        "id": "ZuLG5jbIxcmR"
      }
    },
    {
      "cell_type": "code",
      "source": [
        "A = {1, 2, 3, 4}\n",
        "B = {4, 5, 6}\n",
        "print(A.isdisjoint(B))"
      ],
      "metadata": {
        "colab": {
          "base_uri": "https://localhost:8080/"
        },
        "id": "pxpSPxstxe2U",
        "outputId": "6746c0dc-0d24-4e27-a34b-3f7aeeb44df3"
      },
      "execution_count": 20,
      "outputs": [
        {
          "output_type": "stream",
          "name": "stdout",
          "text": [
            "False\n"
          ]
        }
      ]
    },
    {
      "cell_type": "markdown",
      "source": [
        "**Python Set issubset()**\n",
        "\n",
        "The issubset() method returns True if set A is the subset of B, i.e. if all the elements of set A are present in set B . Else, it returns False."
      ],
      "metadata": {
        "id": "yTRutpGgxoHM"
      }
    },
    {
      "cell_type": "code",
      "source": [
        "A = {1, 2, 3}\n",
        "B = {1, 2, 3, 4, 5}\n",
        "print(A.issubset(B))"
      ],
      "metadata": {
        "colab": {
          "base_uri": "https://localhost:8080/"
        },
        "id": "lQTyeOaSxqOp",
        "outputId": "439dc878-d405-4af6-8008-a573354ff947"
      },
      "execution_count": 21,
      "outputs": [
        {
          "output_type": "stream",
          "name": "stdout",
          "text": [
            "True\n"
          ]
        }
      ]
    },
    {
      "cell_type": "markdown",
      "source": [
        "**Frozen Sets**\n",
        "\n",
        "A frozenset in Python is an immutable version of a set. Unlike a set, which is mutable and allows the addition and removal of elements, a frozenset cannot be changed after it is created."
      ],
      "metadata": {
        "id": "x7e5uDd1zMSc"
      }
    },
    {
      "cell_type": "code",
      "source": [
        "my_frozenset = frozenset([1, 2, 3, 4, 5])\n",
        "print(\"Frozenset:\", my_frozenset)\n",
        "try:\n",
        "    my_frozenset.add(6)\n",
        "except AttributeError as e:\n",
        "    print(\"Error:\", e)\n",
        "set_a = frozenset([1, 2, 3])\n",
        "set_b = frozenset([3, 4, 5])\n",
        "my_dict = {frozenset([1, 2, 3]): \"value1\", frozenset([4, 5, 6]): \"value2\"}\n",
        "print(\"Dictionary with frozenset keys:\", my_dict)\n"
      ],
      "metadata": {
        "colab": {
          "base_uri": "https://localhost:8080/"
        },
        "id": "deCwMLvKzWLX",
        "outputId": "6d58f538-fa34-4bb2-99ca-bc015d92fcbc"
      },
      "execution_count": 22,
      "outputs": [
        {
          "output_type": "stream",
          "name": "stdout",
          "text": [
            "Frozenset: frozenset({1, 2, 3, 4, 5})\n",
            "Error: 'frozenset' object has no attribute 'add'\n",
            "Dictionary with frozenset keys: {frozenset({1, 2, 3}): 'value1', frozenset({4, 5, 6}): 'value2'}\n"
          ]
        }
      ]
    }
  ]
}