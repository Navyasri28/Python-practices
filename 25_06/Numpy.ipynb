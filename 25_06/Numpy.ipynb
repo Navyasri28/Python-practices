{
  "nbformat": 4,
  "nbformat_minor": 0,
  "metadata": {
    "colab": {
      "provenance": [],
      "authorship_tag": "ABX9TyOrslIabH2zuaL/f13pjYB8",
      "include_colab_link": true
    },
    "kernelspec": {
      "name": "python3",
      "display_name": "Python 3"
    },
    "language_info": {
      "name": "python"
    }
  },
  "cells": [
    {
      "cell_type": "markdown",
      "metadata": {
        "id": "view-in-github",
        "colab_type": "text"
      },
      "source": [
        "<a href=\"https://colab.research.google.com/github/Navyasri28/Python-practices/blob/main/Numpy.ipynb\" target=\"_parent\"><img src=\"https://colab.research.google.com/assets/colab-badge.svg\" alt=\"Open In Colab\"/></a>"
      ]
    },
    {
      "cell_type": "markdown",
      "source": [
        "# NUMPY"
      ],
      "metadata": {
        "id": "mcqVX8DxAmWd"
      }
    },
    {
      "cell_type": "markdown",
      "source": [
        "NumPy, short for Numerical Python, is an essential library for numerical computations in Python. It offers robust support for large-scale, multi-dimensional arrays and matrices, and includes a variety of advanced mathematical functions to work with these arrays efficiently."
      ],
      "metadata": {
        "id": "uNvf-pqfAmTr"
      }
    },
    {
      "cell_type": "markdown",
      "source": [
        "**Advantages of using NumPy over standard Python lists include:**\n",
        "- NumPy arrays use less memory and execute operations more quickly.\n",
        "- NumPy offers an extensive collection of mathematical functions and operations tailored for scientific computing.\n",
        "- NumPy arrays seamlessly integrate with other scientific computing libraries such as SciPy and Matplotlib."
      ],
      "metadata": {
        "id": "t-v-O9PwBj_S"
      }
    },
    {
      "cell_type": "markdown",
      "source": [
        "**Installation:**"
      ],
      "metadata": {
        "id": "oVT1kcUACVgV"
      }
    },
    {
      "cell_type": "markdown",
      "source": [
        "To install NumPy, you can use the Python package manager pip. Here are the steps to install NumPy:\n",
        "\n",
        "1)Open a terminal or command prompt.\n",
        "\n",
        "2)Run the following command:"
      ],
      "metadata": {
        "id": "wKH4grLdCaLY"
      }
    },
    {
      "cell_type": "code",
      "source": [
        "pip install numpy\n"
      ],
      "metadata": {
        "id": "6iPJvB4MCf_x"
      },
      "execution_count": null,
      "outputs": []
    },
    {
      "cell_type": "markdown",
      "source": [
        "If you are using a specific Python environment or a virtual environment, make sure it is activated before running the command.\n",
        "\n",
        "Alternatively, if you are using Anaconda, you can install NumPy using the conda package manager:\n",
        "\n",
        "1)Open a terminal or Anaconda Prompt.\n",
        "\n",
        "2)Run the following command:"
      ],
      "metadata": {
        "id": "_-BkHZvzCmD1"
      }
    },
    {
      "cell_type": "code",
      "source": [
        "conda install numpy"
      ],
      "metadata": {
        "id": "51fMPKOcCtEb"
      },
      "execution_count": null,
      "outputs": []
    },
    {
      "cell_type": "markdown",
      "source": [
        "Both methods will download and install the latest version of NumPy and its dependencies."
      ],
      "metadata": {
        "id": "S_ScXfBoCvap"
      }
    },
    {
      "cell_type": "markdown",
      "source": [
        "**NumPy arrays** are the central data structure in NumPy, designed for efficient and optimized numerical operations. They resemble Python lists but offer enhanced performance. Here are some commonly used attributes of NumPy arrays:\n",
        "\n",
        "1. **`ndarray.ndim`**: Returns the number of dimensions (axes) of the array.\n",
        "2. **`ndarray.shape`**: Returns a tuple representing the dimensions of the array (e.g., (rows, columns) for a 2D array).\n",
        "3. **`ndarray.size`**: Returns the total number of elements in the array.\n",
        "4. **`ndarray.dtype`**: Returns the data type of the array’s elements.\n",
        "5. **`ndarray.itemsize`**: Returns the size (in bytes) of each element in the array.\n",
        "6. **`ndarray.nbytes`**: Returns the total number of bytes consumed by the elements of the array.\n",
        "7. **`ndarray.T`**: Returns the transposed array (i.e., rows become columns and vice versa).\n",
        "\n",
        "These attributes provide essential information about the array and are useful for understanding and manipulating array data."
      ],
      "metadata": {
        "id": "Bjd97I4DCyvn"
      }
    },
    {
      "cell_type": "markdown",
      "source": [
        "1. ndarray.ndim"
      ],
      "metadata": {
        "id": "Q0YJYMOIDpqw"
      }
    },
    {
      "cell_type": "code",
      "source": [
        "import numpy as np\n",
        "\n",
        "arr = np.array([[1, 2, 3], [4, 5, 6]])\n",
        "print(\"Number of dimensions:\", arr.ndim)\n"
      ],
      "metadata": {
        "id": "qbRufHVtDyu0"
      },
      "execution_count": null,
      "outputs": []
    },
    {
      "cell_type": "markdown",
      "source": [
        "2)ndarray.shape"
      ],
      "metadata": {
        "id": "cBYIDtSGD0ek"
      }
    },
    {
      "cell_type": "code",
      "source": [
        "import numpy as np\n",
        "\n",
        "arr = np.array([[1, 2, 3], [4, 5, 6]])\n",
        "print(\"Shape of the array:\", arr.shape)\n"
      ],
      "metadata": {
        "id": "jmTJvJ9PD47E"
      },
      "execution_count": null,
      "outputs": []
    },
    {
      "cell_type": "markdown",
      "source": [
        "3)ndarray.size"
      ],
      "metadata": {
        "id": "o745bSRZD9oO"
      }
    },
    {
      "cell_type": "code",
      "source": [
        "import numpy as np\n",
        "\n",
        "arr = np.array([[1, 2, 3], [4, 5, 6]])\n",
        "print(\"Total number of elements:\", arr.size)\n"
      ],
      "metadata": {
        "id": "lL2o8fEZEAuL"
      },
      "execution_count": null,
      "outputs": []
    },
    {
      "cell_type": "markdown",
      "source": [
        "4. ndarray.dtype"
      ],
      "metadata": {
        "id": "8V3jxZzUEChM"
      }
    },
    {
      "cell_type": "code",
      "source": [
        "import numpy as np\n",
        "\n",
        "arr = np.array([[1, 2, 3], [4, 5, 6]])\n",
        "print(\"Data type of elements:\", arr.dtype)\n"
      ],
      "metadata": {
        "id": "ahYt_hBTEEyb"
      },
      "execution_count": null,
      "outputs": []
    },
    {
      "cell_type": "markdown",
      "source": [
        "5. ndarray.itemsize"
      ],
      "metadata": {
        "id": "kkO_XBgCERSt"
      }
    },
    {
      "cell_type": "code",
      "source": [
        "import numpy as np\n",
        "\n",
        "arr = np.array([[1, 2, 3], [4, 5, 6]])\n",
        "print(\"Size of each element (in bytes):\", arr.itemsize)\n"
      ],
      "metadata": {
        "id": "7fWS0H7NETrc"
      },
      "execution_count": null,
      "outputs": []
    },
    {
      "cell_type": "markdown",
      "source": [
        "6. ndarray.nbytes"
      ],
      "metadata": {
        "id": "bUhAuJpVEVO_"
      }
    },
    {
      "cell_type": "code",
      "source": [
        "import numpy as np\n",
        "\n",
        "arr = np.array([[1, 2, 3], [4, 5, 6]])\n",
        "print(\"Total bytes consumed by elements:\", arr.nbytes)\n"
      ],
      "metadata": {
        "id": "bMfg3RcFEXt0"
      },
      "execution_count": null,
      "outputs": []
    },
    {
      "cell_type": "markdown",
      "source": [
        "7. ndarray.T\n"
      ],
      "metadata": {
        "id": "AERR3T8UEZO3"
      }
    },
    {
      "cell_type": "code",
      "source": [
        "import numpy as np\n",
        "\n",
        "arr = np.array([[1, 2, 3], [4, 5, 6]])\n",
        "print(\"Transposed array:\\n\", arr.T)\n"
      ],
      "metadata": {
        "id": "eOercvusEbll"
      },
      "execution_count": null,
      "outputs": []
    },
    {
      "cell_type": "markdown",
      "source": [
        "**Numpy Array Operations and Broadcasting**"
      ],
      "metadata": {
        "id": "c5rp0IrwE3x1"
      }
    },
    {
      "cell_type": "markdown",
      "source": [
        "NumPy provides a variety of operations that can be performed on arrays, leveraging the concept of broadcasting to efficiently handle operations on arrays of different shapes. Here are some examples to illustrate these operations and broadcasting:"
      ],
      "metadata": {
        "id": "Txj7hGs_E5NM"
      }
    },
    {
      "cell_type": "markdown",
      "source": [
        "**Basic Array Operations**\n",
        "\n",
        "**1)Element-wise Operations**\n",
        "\n",
        "Addition, subtraction, multiplication, and division can be performed element-wise."
      ],
      "metadata": {
        "id": "-d0iQcW5E7en"
      }
    },
    {
      "cell_type": "code",
      "source": [
        "import numpy as np\n",
        "\n",
        "arr1 = np.array([1, 2, 3])\n",
        "arr2 = np.array([4, 5, 6])\n",
        "\n",
        "print(\"Addition:\", arr1 + arr2)\n",
        "print(\"Subtraction:\", arr1 - arr2)\n",
        "print(\"Multiplication:\", arr1 * arr2)\n",
        "print(\"Division:\", arr1 / arr2)\n"
      ],
      "metadata": {
        "colab": {
          "base_uri": "https://localhost:8080/"
        },
        "id": "FYqSwKE2FNfT",
        "outputId": "ecf85fc8-8613-41d8-eeae-acc02663c064"
      },
      "execution_count": 1,
      "outputs": [
        {
          "output_type": "stream",
          "name": "stdout",
          "text": [
            "Addition: [5 7 9]\n",
            "Subtraction: [-3 -3 -3]\n",
            "Multiplication: [ 4 10 18]\n",
            "Division: [0.25 0.4  0.5 ]\n"
          ]
        }
      ]
    },
    {
      "cell_type": "markdown",
      "source": [
        "**2)Universal Functions (ufuncs)**\n",
        "\n",
        "NumPy provides a set of universal functions like np.sin, np.cos, np.exp, etc., that operate element-wise on arrays."
      ],
      "metadata": {
        "id": "KZmCxAqPFUEb"
      }
    },
    {
      "cell_type": "code",
      "source": [
        "import numpy as np\n",
        "\n",
        "arr = np.array([0, np.pi/2, np.pi])\n",
        "print(\"Sine:\", np.sin(arr))\n",
        "print(\"Cosine:\", np.cos(arr))\n",
        "print(\"Exponential:\", np.exp(arr))\n"
      ],
      "metadata": {
        "colab": {
          "base_uri": "https://localhost:8080/"
        },
        "id": "wsmYLH4QFdP9",
        "outputId": "9b31fe98-d82e-47eb-b28c-2e94011f9ab0"
      },
      "execution_count": 2,
      "outputs": [
        {
          "output_type": "stream",
          "name": "stdout",
          "text": [
            "Sine: [0.0000000e+00 1.0000000e+00 1.2246468e-16]\n",
            "Cosine: [ 1.000000e+00  6.123234e-17 -1.000000e+00]\n",
            "Exponential: [ 1.          4.81047738 23.14069263]\n"
          ]
        }
      ]
    },
    {
      "cell_type": "markdown",
      "source": [
        "3)Aggregations\n",
        "\n",
        "Functions like sum, mean, max, and min can be used to aggregate values."
      ],
      "metadata": {
        "id": "SkeoVMEhFg_z"
      }
    },
    {
      "cell_type": "code",
      "source": [
        "import numpy as np\n",
        "\n",
        "arr = np.array([[1, 2, 3], [4, 5, 6]])\n",
        "\n",
        "print(\"Sum:\", arr.sum())\n",
        "print(\"Mean:\", arr.mean())\n",
        "print(\"Max:\", arr.max())\n",
        "print(\"Min:\", arr.min())\n"
      ],
      "metadata": {
        "colab": {
          "base_uri": "https://localhost:8080/"
        },
        "id": "Uditu8zHFnx4",
        "outputId": "ecc66e98-c3b1-4286-988a-b52259e353cf"
      },
      "execution_count": 3,
      "outputs": [
        {
          "output_type": "stream",
          "name": "stdout",
          "text": [
            "Sum: 21\n",
            "Mean: 3.5\n",
            "Max: 6\n",
            "Min: 1\n"
          ]
        }
      ]
    },
    {
      "cell_type": "markdown",
      "source": [
        "**Broadcasting**\n",
        "\n",
        "Broadcasting allows NumPy to perform operations on arrays of different shapes by automatically expanding the smaller array along the missing dimensions. Here are some examples:"
      ],
      "metadata": {
        "id": "Fy7zpwVqFrif"
      }
    },
    {
      "cell_type": "markdown",
      "source": [
        "1)Scalar and Array\n",
        "\n",
        "Adding a scalar to an array broadcasts the scalar across all elements of the array."
      ],
      "metadata": {
        "id": "O4X-_qp9FvdO"
      }
    },
    {
      "cell_type": "code",
      "source": [
        "import numpy as np\n",
        "\n",
        "arr = np.array([1, 2, 3])\n",
        "print(\"Add scalar to array:\", arr + 1)\n"
      ],
      "metadata": {
        "colab": {
          "base_uri": "https://localhost:8080/"
        },
        "id": "ocgL68FEF0Yw",
        "outputId": "c95a475b-22e0-4f8e-a829-c0ec874ca0db"
      },
      "execution_count": 4,
      "outputs": [
        {
          "output_type": "stream",
          "name": "stdout",
          "text": [
            "Add scalar to array: [2 3 4]\n"
          ]
        }
      ]
    },
    {
      "cell_type": "markdown",
      "source": [
        "**Array of Different Shapes:**\n",
        "\n",
        "Arrays of different shapes can be broadcasted to perform operations."
      ],
      "metadata": {
        "id": "Vm2XW5OqF8Fi"
      }
    },
    {
      "cell_type": "code",
      "source": [
        "import numpy as np\n",
        "\n",
        "arr1 = np.array([[1, 2, 3], [4, 5, 6]])\n",
        "arr2 = np.array([1, 2, 3])\n",
        "\n",
        "print(\"Add arrays of different shapes:\\n\", arr1 + arr2)\n"
      ],
      "metadata": {
        "colab": {
          "base_uri": "https://localhost:8080/"
        },
        "id": "0vxc2skHGA4V",
        "outputId": "234434b3-cc89-440c-9349-4dd2be866c01"
      },
      "execution_count": 5,
      "outputs": [
        {
          "output_type": "stream",
          "name": "stdout",
          "text": [
            "Add arrays of different shapes:\n",
            " [[2 4 6]\n",
            " [5 7 9]]\n"
          ]
        }
      ]
    },
    {
      "cell_type": "markdown",
      "source": [
        "**Broadcasting Rules**\n",
        "\n",
        "Arrays are compatible for broadcasting if:\n",
        "They have the same shape.\n",
        "One of the arrays has a size of 1 along the dimension."
      ],
      "metadata": {
        "id": "YOh8Vf3oGIAi"
      }
    },
    {
      "cell_type": "code",
      "source": [
        "import numpy as np\n",
        "\n",
        "arr1 = np.array([[1], [2], [3]])\n",
        "arr2 = np.array([4, 5, 6])\n",
        "\n",
        "print(\"Broadcasting example:\\n\", arr1 + arr2)\n"
      ],
      "metadata": {
        "colab": {
          "base_uri": "https://localhost:8080/"
        },
        "id": "omMHHI0UGNXq",
        "outputId": "6f4a23bb-2e9a-44d7-b7ee-a4b8665e42cb"
      },
      "execution_count": 6,
      "outputs": [
        {
          "output_type": "stream",
          "name": "stdout",
          "text": [
            "Broadcasting example:\n",
            " [[5 6 7]\n",
            " [6 7 8]\n",
            " [7 8 9]]\n"
          ]
        }
      ]
    },
    {
      "cell_type": "markdown",
      "source": [
        "**Advanced Broadcasting**\n",
        "\n",
        "**Broadcasting with Higher Dimensions**\n",
        "\n",
        "Broadcasting works with higher-dimensional arrays as well."
      ],
      "metadata": {
        "id": "kW5Iz0LNGWrF"
      }
    },
    {
      "cell_type": "code",
      "source": [
        "import numpy as np\n",
        "\n",
        "arr1 = np.array([1, 2, 3])\n",
        "arr2 = np.array([[4], [5], [6]])\n",
        "\n",
        "print(\"Higher dimension broadcasting:\\n\", arr1 + arr2)\n"
      ],
      "metadata": {
        "colab": {
          "base_uri": "https://localhost:8080/"
        },
        "id": "MCNduBaVGbWt",
        "outputId": "78f77389-e882-42ad-95b5-8b772806ba93"
      },
      "execution_count": 7,
      "outputs": [
        {
          "output_type": "stream",
          "name": "stdout",
          "text": [
            "Higher dimension broadcasting:\n",
            " [[5 6 7]\n",
            " [6 7 8]\n",
            " [7 8 9]]\n"
          ]
        }
      ]
    },
    {
      "cell_type": "markdown",
      "source": [
        " **INDEXING AND SLICING**"
      ],
      "metadata": {
        "id": "kbwFRwHJGhXm"
      }
    },
    {
      "cell_type": "markdown",
      "source": [
        "Indexing and slicing are fundamental operations in NumPy, allowing you to access and manipulate subsets of array data. Here are some examples to demonstrate these operations:\n",
        "\n",
        "**Indexing**\n",
        "\n",
        "**Basic Indexing**\n",
        "\n",
        "Accessing elements using their index."
      ],
      "metadata": {
        "id": "S11ztNKxG0QI"
      }
    },
    {
      "cell_type": "code",
      "source": [
        "import numpy as np\n",
        "\n",
        "arr = np.array([1, 2, 3, 4, 5])\n",
        "print(\"Element at index 0:\", arr[0])\n",
        "print(\"Element at index 3:\", arr[3])\n"
      ],
      "metadata": {
        "colab": {
          "base_uri": "https://localhost:8080/"
        },
        "id": "lAdIr4n3HCEq",
        "outputId": "54035801-2ee5-4245-fdc3-b0fec3d0b658"
      },
      "execution_count": 8,
      "outputs": [
        {
          "output_type": "stream",
          "name": "stdout",
          "text": [
            "Element at index 0: 1\n",
            "Element at index 3: 4\n"
          ]
        }
      ]
    },
    {
      "cell_type": "markdown",
      "source": [
        "**2D Array Indexing**\n",
        "\n",
        "Accessing elements in a 2D array"
      ],
      "metadata": {
        "id": "cf9-qMneHIfL"
      }
    },
    {
      "cell_type": "code",
      "source": [
        "import numpy as np\n",
        "\n",
        "arr = np.array([[1, 2, 3], [4, 5, 6], [7, 8, 9]])\n",
        "print(\"Element at row 1, column 2:\", arr[1, 2])\n",
        "print(\"Element at row 0, column 1:\", arr[0, 1])\n"
      ],
      "metadata": {
        "colab": {
          "base_uri": "https://localhost:8080/"
        },
        "id": "JP3otn8hHVVE",
        "outputId": "a73580cc-5c46-4519-b34b-a4012b040e9b"
      },
      "execution_count": 9,
      "outputs": [
        {
          "output_type": "stream",
          "name": "stdout",
          "text": [
            "Element at row 1, column 2: 6\n",
            "Element at row 0, column 1: 2\n"
          ]
        }
      ]
    },
    {
      "cell_type": "markdown",
      "source": [
        "**Negative Indexing**\n",
        "\n",
        "Accessing elements using negative indices"
      ],
      "metadata": {
        "id": "1SJbrzQ_HX-l"
      }
    },
    {
      "cell_type": "code",
      "source": [
        "import numpy as np\n",
        "\n",
        "arr = np.array([1, 2, 3, 4, 5])\n",
        "print(\"Last element:\", arr[-1])\n",
        "print(\"Second to last element:\", arr[-2])\n"
      ],
      "metadata": {
        "colab": {
          "base_uri": "https://localhost:8080/"
        },
        "id": "hBt1xOLOHdPY",
        "outputId": "e43f8b3d-a8a1-459f-a86e-10cec0eebcc4"
      },
      "execution_count": 10,
      "outputs": [
        {
          "output_type": "stream",
          "name": "stdout",
          "text": [
            "Last element: 5\n",
            "Second to last element: 4\n"
          ]
        }
      ]
    },
    {
      "cell_type": "markdown",
      "source": [
        "**Slicing**"
      ],
      "metadata": {
        "id": "glA9xudrHfuX"
      }
    },
    {
      "cell_type": "markdown",
      "source": [
        "**1D Array Slicing**\n",
        "\n",
        "Extracting a subset of elements from a 1D array."
      ],
      "metadata": {
        "id": "YX9y9ja_HiR6"
      }
    },
    {
      "cell_type": "code",
      "source": [
        "import numpy as np\n",
        "\n",
        "arr = np.array([1, 2, 3, 4, 5])\n",
        "print(\"Elements from index 1 to 3:\", arr[1:4])\n",
        "print(\"Elements from the start to index 2:\", arr[:3])\n",
        "print(\"Elements from index 3 to the end:\", arr[3:])\n"
      ],
      "metadata": {
        "colab": {
          "base_uri": "https://localhost:8080/"
        },
        "id": "66gdR_zwHk2t",
        "outputId": "a03727c7-69dc-4f56-c8b5-4e66db20349d"
      },
      "execution_count": 11,
      "outputs": [
        {
          "output_type": "stream",
          "name": "stdout",
          "text": [
            "Elements from index 1 to 3: [2 3 4]\n",
            "Elements from the start to index 2: [1 2 3]\n",
            "Elements from index 3 to the end: [4 5]\n"
          ]
        }
      ]
    },
    {
      "cell_type": "markdown",
      "source": [
        "**2D Array Slicing**\n",
        "\n",
        "Extracting subsets of elements from a 2D array.\n",
        "\n"
      ],
      "metadata": {
        "id": "PisLvVMVHnO3"
      }
    },
    {
      "cell_type": "code",
      "source": [
        "import numpy as np\n",
        "\n",
        "arr = np.array([[1, 2, 3], [4, 5, 6], [7, 8, 9]])\n",
        "print(\"First two rows:\\n\", arr[:2])\n",
        "print(\"Last two columns:\\n\", arr[:, -2:])\n",
        "print(\"Middle subarray:\\n\", arr[1:3, 1:3])\n"
      ],
      "metadata": {
        "colab": {
          "base_uri": "https://localhost:8080/"
        },
        "id": "-gOilwYYHqf1",
        "outputId": "0c3f6919-9815-435e-b998-650c2219ba7a"
      },
      "execution_count": 12,
      "outputs": [
        {
          "output_type": "stream",
          "name": "stdout",
          "text": [
            "First two rows:\n",
            " [[1 2 3]\n",
            " [4 5 6]]\n",
            "Last two columns:\n",
            " [[2 3]\n",
            " [5 6]\n",
            " [8 9]]\n",
            "Middle subarray:\n",
            " [[5 6]\n",
            " [8 9]]\n"
          ]
        }
      ]
    },
    {
      "cell_type": "markdown",
      "source": [
        "**Step Slicing**\n",
        "\n",
        "Using step values to slice arrays.\n"
      ],
      "metadata": {
        "id": "tBH9zyR9Hsk0"
      }
    },
    {
      "cell_type": "code",
      "source": [
        "import numpy as np\n",
        "\n",
        "arr = np.array([1, 2, 3, 4, 5])\n",
        "print(\"Every second element:\", arr[::2])\n",
        "print(\"Elements in reverse order:\", arr[::-1])\n"
      ],
      "metadata": {
        "colab": {
          "base_uri": "https://localhost:8080/"
        },
        "id": "i8_ujW4EH1L4",
        "outputId": "b8b646a3-b367-4d21-ca1c-71ef7eada604"
      },
      "execution_count": 13,
      "outputs": [
        {
          "output_type": "stream",
          "name": "stdout",
          "text": [
            "Every second element: [1 3 5]\n",
            "Elements in reverse order: [5 4 3 2 1]\n"
          ]
        }
      ]
    },
    {
      "cell_type": "markdown",
      "source": [
        "**Boolean Indexing**\n",
        "\n",
        "Using boolean conditions to index arrays."
      ],
      "metadata": {
        "id": "OWXG2O5rH3rb"
      }
    },
    {
      "cell_type": "code",
      "source": [
        "import numpy as np\n",
        "\n",
        "arr = np.array([1, 2, 3, 4, 5])\n",
        "print(\"Elements greater than 2:\", arr[arr > 2])\n"
      ],
      "metadata": {
        "colab": {
          "base_uri": "https://localhost:8080/"
        },
        "id": "vK6cgWs2H6Hv",
        "outputId": "68b35529-ae10-4f02-c5db-59c8bc657d72"
      },
      "execution_count": 14,
      "outputs": [
        {
          "output_type": "stream",
          "name": "stdout",
          "text": [
            "Elements greater than 2: [3 4 5]\n"
          ]
        }
      ]
    },
    {
      "cell_type": "markdown",
      "source": [
        "**Fancy Indexing**\n",
        "\n",
        "Using arrays of indices to access specific elements."
      ],
      "metadata": {
        "id": "PZ_M35CzH8kC"
      }
    },
    {
      "cell_type": "code",
      "source": [
        "import numpy as np\n",
        "\n",
        "arr = np.array([1, 2, 3, 4, 5])\n",
        "indices = np.array([0, 2, 4])\n",
        "print(\"Elements at indices 0, 2, and 4:\", arr[indices])\n"
      ],
      "metadata": {
        "colab": {
          "base_uri": "https://localhost:8080/"
        },
        "id": "NWDJx8GrH_Wz",
        "outputId": "6a9bd8e8-2b1f-463c-9709-5cb3e82caea8"
      },
      "execution_count": 15,
      "outputs": [
        {
          "output_type": "stream",
          "name": "stdout",
          "text": [
            "Elements at indices 0, 2, and 4: [1 3 5]\n"
          ]
        }
      ]
    },
    {
      "cell_type": "markdown",
      "source": [
        "**Combining Indexing and Slicing**"
      ],
      "metadata": {
        "id": "CPql1RbsIBWT"
      }
    },
    {
      "cell_type": "markdown",
      "source": [
        "**2D Array Exampl**e\n",
        "\n",
        "Combining indexing and slicing to access elements in a 2D array."
      ],
      "metadata": {
        "id": "6o6yY8ymIHAn"
      }
    },
    {
      "cell_type": "code",
      "source": [
        "import numpy as np\n",
        "\n",
        "arr = np.array([[1, 2, 3], [4, 5, 6], [7, 8, 9]])\n",
        "print(\"Elements in the first two rows and first two columns:\\n\", arr[:2, :2])\n",
        "print(\"Last element of each row:\", arr[:, -1])\n"
      ],
      "metadata": {
        "colab": {
          "base_uri": "https://localhost:8080/"
        },
        "id": "DESrqpp6IJ_P",
        "outputId": "a53039b5-4877-47ed-9872-49ff312fb17d"
      },
      "execution_count": 16,
      "outputs": [
        {
          "output_type": "stream",
          "name": "stdout",
          "text": [
            "Elements in the first two rows and first two columns:\n",
            " [[1 2]\n",
            " [4 5]]\n",
            "Last element of each row: [3 6 9]\n"
          ]
        }
      ]
    },
    {
      "cell_type": "markdown",
      "source": [
        "**Array manipulatio**n\n"
      ],
      "metadata": {
        "id": "sYscStVAIMKF"
      }
    },
    {
      "cell_type": "markdown",
      "source": [
        "Array manipulation is a key feature of NumPy, providing various functions to modify, reshape, and transform arrays. Here are some examples of common array manipulation techniques:\n",
        "\n",
        "**Reshaping Arrays**\n",
        "**Reshape**\n",
        "\n",
        "Change the shape of an array without changing its data."
      ],
      "metadata": {
        "id": "VNubPa99IXrR"
      }
    },
    {
      "cell_type": "code",
      "source": [
        "import numpy as np\n",
        "\n",
        "arr = np.array([1, 2, 3, 4, 5, 6])\n",
        "reshaped_arr = arr.reshape((2, 3))\n",
        "print(\"Original array:\", arr)\n",
        "print(\"Reshaped array:\\n\", reshaped_arr)\n"
      ],
      "metadata": {
        "colab": {
          "base_uri": "https://localhost:8080/"
        },
        "id": "QzxatyxOIbqU",
        "outputId": "ad510b4d-66a7-46b5-a730-12ceeda2cc9c"
      },
      "execution_count": 17,
      "outputs": [
        {
          "output_type": "stream",
          "name": "stdout",
          "text": [
            "Original array: [1 2 3 4 5 6]\n",
            "Reshaped array:\n",
            " [[1 2 3]\n",
            " [4 5 6]]\n"
          ]
        }
      ]
    },
    {
      "cell_type": "markdown",
      "source": [
        "**Flatten**\n",
        "\n",
        "Convert a multi-dimensional array into a 1D array"
      ],
      "metadata": {
        "id": "_WOCpk3VIdmX"
      }
    },
    {
      "cell_type": "code",
      "source": [
        "import numpy as np\n",
        "\n",
        "arr = np.array([[1, 2, 3], [4, 5, 6]])\n",
        "flattened_arr = arr.flatten()\n",
        "print(\"Flattened array:\", flattened_arr)\n"
      ],
      "metadata": {
        "colab": {
          "base_uri": "https://localhost:8080/"
        },
        "id": "Kdm3tx19Igzw",
        "outputId": "dc7a5a6e-1647-4940-9295-93494b6902d2"
      },
      "execution_count": 18,
      "outputs": [
        {
          "output_type": "stream",
          "name": "stdout",
          "text": [
            "Flattened array: [1 2 3 4 5 6]\n"
          ]
        }
      ]
    },
    {
      "cell_type": "markdown",
      "source": [
        "**Joining Arrays**\n"
      ],
      "metadata": {
        "id": "Pzb0SIPkIiWm"
      }
    },
    {
      "cell_type": "markdown",
      "source": [
        "**Concatenate**\n",
        "\n",
        "Join a sequence of arrays along an existing axis."
      ],
      "metadata": {
        "id": "u42ePGc8Ik-x"
      }
    },
    {
      "cell_type": "code",
      "source": [
        "import numpy as np\n",
        "\n",
        "arr1 = np.array([[1, 2], [3, 4]])\n",
        "arr2 = np.array([[5, 6], [7, 8]])\n",
        "concatenated_arr = np.concatenate((arr1, arr2), axis=0)\n",
        "print(\"Concatenated array along axis 0:\\n\", concatenated_arr)\n"
      ],
      "metadata": {
        "colab": {
          "base_uri": "https://localhost:8080/"
        },
        "id": "C8b8JRmbIpjg",
        "outputId": "7b352829-7fe4-4710-f9a1-96a9788340dc"
      },
      "execution_count": 19,
      "outputs": [
        {
          "output_type": "stream",
          "name": "stdout",
          "text": [
            "Concatenated array along axis 0:\n",
            " [[1 2]\n",
            " [3 4]\n",
            " [5 6]\n",
            " [7 8]]\n"
          ]
        }
      ]
    },
    {
      "cell_type": "markdown",
      "source": [
        "**Stack**\n",
        "\n",
        "Join a sequence of arrays along a new axis."
      ],
      "metadata": {
        "id": "ssXRXhJCIrgR"
      }
    },
    {
      "cell_type": "code",
      "source": [
        "import numpy as np\n",
        "\n",
        "arr1 = np.array([1, 2, 3])\n",
        "arr2 = np.array([4, 5, 6])\n",
        "stacked_arr = np.stack((arr1, arr2), axis=1)\n",
        "print(\"Stacked array along new axis:\\n\", stacked_arr)\n"
      ],
      "metadata": {
        "colab": {
          "base_uri": "https://localhost:8080/"
        },
        "id": "JzGxGRBeIuUN",
        "outputId": "21aa3930-c5cc-4633-b4f4-ae3a0b1b54b8"
      },
      "execution_count": 20,
      "outputs": [
        {
          "output_type": "stream",
          "name": "stdout",
          "text": [
            "Stacked array along new axis:\n",
            " [[1 4]\n",
            " [2 5]\n",
            " [3 6]]\n"
          ]
        }
      ]
    },
    {
      "cell_type": "markdown",
      "source": [
        "**Horizontal Stack (hstack)**\n",
        "\n",
        "Stack arrays in sequence horizontally (column-wise).\n"
      ],
      "metadata": {
        "id": "n4UD1QJMIv9j"
      }
    },
    {
      "cell_type": "code",
      "source": [
        "import numpy as np\n",
        "\n",
        "arr1 = np.array([1, 2, 3])\n",
        "arr2 = np.array([4, 5, 6])\n",
        "hstacked_arr = np.hstack((arr1, arr2))\n",
        "print(\"Horizontally stacked array:\", hstacked_arr)\n"
      ],
      "metadata": {
        "colab": {
          "base_uri": "https://localhost:8080/"
        },
        "id": "-U75_cdGI0c-",
        "outputId": "25fa225f-17de-40e6-8f86-1dc51a8b7b46"
      },
      "execution_count": 21,
      "outputs": [
        {
          "output_type": "stream",
          "name": "stdout",
          "text": [
            "Horizontally stacked array: [1 2 3 4 5 6]\n"
          ]
        }
      ]
    },
    {
      "cell_type": "markdown",
      "source": [
        "**Vertical Stack (vstack)**\n",
        "\n",
        "Stack arrays in sequence vertically (row-wise)."
      ],
      "metadata": {
        "id": "CsQatJqUI2eb"
      }
    },
    {
      "cell_type": "code",
      "source": [
        "import numpy as np\n",
        "\n",
        "arr1 = np.array([1, 2, 3])\n",
        "arr2 = np.array([4, 5, 6])\n",
        "vstacked_arr = np.vstack((arr1, arr2))\n",
        "print(\"Vertically stacked array:\\n\", vstacked_arr)\n"
      ],
      "metadata": {
        "colab": {
          "base_uri": "https://localhost:8080/"
        },
        "id": "uON6sJHLI5Jb",
        "outputId": "f3a29394-0e61-45be-d8a8-89c6e1ecae50"
      },
      "execution_count": 22,
      "outputs": [
        {
          "output_type": "stream",
          "name": "stdout",
          "text": [
            "Vertically stacked array:\n",
            " [[1 2 3]\n",
            " [4 5 6]]\n"
          ]
        }
      ]
    },
    {
      "cell_type": "markdown",
      "source": [
        "**Splitting Arrays**\n",
        "\n",
        "**Split**\n",
        "\n",
        "Split an array into multiple sub-arrays."
      ],
      "metadata": {
        "id": "rSGwXzx7I7Ee"
      }
    },
    {
      "cell_type": "code",
      "source": [
        "import numpy as np\n",
        "\n",
        "arr = np.array([1, 2, 3, 4, 5, 6])\n",
        "split_arr = np.split(arr, 3)\n",
        "print(\"Split array into 3 parts:\", split_arr)\n"
      ],
      "metadata": {
        "colab": {
          "base_uri": "https://localhost:8080/"
        },
        "id": "JGa6mDA2JCXj",
        "outputId": "0ba1745e-7a95-4ef1-d752-46a43b846268"
      },
      "execution_count": 23,
      "outputs": [
        {
          "output_type": "stream",
          "name": "stdout",
          "text": [
            "Split array into 3 parts: [array([1, 2]), array([3, 4]), array([5, 6])]\n"
          ]
        }
      ]
    },
    {
      "cell_type": "markdown",
      "source": [
        "**Horizontal Split (hsplit)**\n",
        "\n",
        "Split an array into multiple sub-arrays horizontally (column-wise).\n",
        "\n"
      ],
      "metadata": {
        "id": "ZOnMcRdBJE5z"
      }
    },
    {
      "cell_type": "code",
      "source": [
        "import numpy as np\n",
        "\n",
        "arr = np.array([[1, 2, 3], [4, 5, 6]])\n",
        "hsplit_arr = np.hsplit(arr, 3)\n",
        "print(\"Horizontally split array into 3 parts:\\n\", hsplit_arr)\n"
      ],
      "metadata": {
        "colab": {
          "base_uri": "https://localhost:8080/"
        },
        "id": "YXOZeJ7kJLKC",
        "outputId": "c7082c4c-7258-493d-e21c-c467c5d47026"
      },
      "execution_count": 24,
      "outputs": [
        {
          "output_type": "stream",
          "name": "stdout",
          "text": [
            "Horizontally split array into 3 parts:\n",
            " [array([[1],\n",
            "       [4]]), array([[2],\n",
            "       [5]]), array([[3],\n",
            "       [6]])]\n"
          ]
        }
      ]
    },
    {
      "cell_type": "markdown",
      "source": [
        "**Adding/Removing Elements**\n"
      ],
      "metadata": {
        "id": "NfnOjO0rJNAh"
      }
    },
    {
      "cell_type": "markdown",
      "source": [
        "**Append**\n",
        "\n",
        "Append elements to an array"
      ],
      "metadata": {
        "id": "t7m9RPFXJPzF"
      }
    },
    {
      "cell_type": "code",
      "source": [
        "import numpy as np\n",
        "\n",
        "arr = np.array([1, 2, 3])\n",
        "appended_arr = np.append(arr, [4, 5, 6])\n",
        "print(\"Array after append:\", appended_arr)\n"
      ],
      "metadata": {
        "colab": {
          "base_uri": "https://localhost:8080/"
        },
        "id": "97u-M4AAJTov",
        "outputId": "77fc231e-0b22-4fa7-f736-d748ccb2da6e"
      },
      "execution_count": 25,
      "outputs": [
        {
          "output_type": "stream",
          "name": "stdout",
          "text": [
            "Array after append: [1 2 3 4 5 6]\n"
          ]
        }
      ]
    },
    {
      "cell_type": "markdown",
      "source": [
        "**Insert**\n",
        "\n",
        "Insert elements into an array at a specified index"
      ],
      "metadata": {
        "id": "CrzpJIZsJXYF"
      }
    },
    {
      "cell_type": "code",
      "source": [
        "import numpy as np\n",
        "\n",
        "arr = np.array([1, 2, 3])\n",
        "inserted_arr = np.insert(arr, 1, [4, 5])\n",
        "print(\"Array after insert:\", inserted_arr)\n"
      ],
      "metadata": {
        "colab": {
          "base_uri": "https://localhost:8080/"
        },
        "id": "ZvkGeRQ4JYdt",
        "outputId": "ccb9aaf0-f8c3-45cf-c15b-e0e847a61074"
      },
      "execution_count": 26,
      "outputs": [
        {
          "output_type": "stream",
          "name": "stdout",
          "text": [
            "Array after insert: [1 4 5 2 3]\n"
          ]
        }
      ]
    },
    {
      "cell_type": "markdown",
      "source": [
        "**Delete**\n",
        "\n",
        "Delete elements from an array."
      ],
      "metadata": {
        "id": "HWocqcgcJalS"
      }
    },
    {
      "cell_type": "code",
      "source": [
        "import numpy as np\n",
        "\n",
        "arr = np.array([1, 2, 3, 4, 5])\n",
        "deleted_arr = np.delete(arr, [1, 3])\n",
        "print(\"Array after delete:\", deleted_arr)\n"
      ],
      "metadata": {
        "colab": {
          "base_uri": "https://localhost:8080/"
        },
        "id": "hrSVbUWVJdzM",
        "outputId": "a97cdc71-69e2-430e-b5a9-4f0d20fbbfdd"
      },
      "execution_count": 27,
      "outputs": [
        {
          "output_type": "stream",
          "name": "stdout",
          "text": [
            "Array after delete: [1 3 5]\n"
          ]
        }
      ]
    }
  ]
}
