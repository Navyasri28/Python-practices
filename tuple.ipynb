{
  "nbformat": 4,
  "nbformat_minor": 0,
  "metadata": {
    "colab": {
      "provenance": [],
      "authorship_tag": "ABX9TyOFKQyMxRlUrofH81gaV7bE",
      "include_colab_link": true
    },
    "kernelspec": {
      "name": "python3",
      "display_name": "Python 3"
    },
    "language_info": {
      "name": "python"
    }
  },
  "cells": [
    {
      "cell_type": "markdown",
      "metadata": {
        "id": "view-in-github",
        "colab_type": "text"
      },
      "source": [
        "<a href=\"https://colab.research.google.com/github/Navyasri28/Python-practices/blob/main/tuple.ipynb\" target=\"_parent\"><img src=\"https://colab.research.google.com/assets/colab-badge.svg\" alt=\"Open In Colab\"/></a>"
      ]
    },
    {
      "cell_type": "markdown",
      "source": [
        "# **TUPLE**"
      ],
      "metadata": {
        "id": "7BVKkRZ4sdxD"
      }
    },
    {
      "cell_type": "markdown",
      "source": [
        "A Python tuple is a collection of objects separated by commas. Like lists, tuples support indexing, nested objects, and repetition. However, the key difference is that tuples are immutable (they cannot be changed after creation), while lists are mutable (they can be modified)."
      ],
      "metadata": {
        "id": "LcvfaOL8sgKu"
      }
    },
    {
      "cell_type": "code",
      "source": [
        "mytuple = (\"hyd\", \"bangalore\", \"chennai\")\n",
        "print(mytuple)\n"
      ],
      "metadata": {
        "colab": {
          "base_uri": "https://localhost:8080/"
        },
        "id": "7zEf6g0Ot31n",
        "outputId": "b1e8553f-c8e6-491c-8b4b-3e851017dcda"
      },
      "execution_count": 2,
      "outputs": [
        {
          "output_type": "stream",
          "name": "stdout",
          "text": [
            "('hyd', 'bangalore', 'chennai')\n"
          ]
        }
      ]
    },
    {
      "cell_type": "markdown",
      "source": [
        "**Some characteristics of tuple:**"
      ],
      "metadata": {
        "id": "sLOJvgRHuPI2"
      }
    },
    {
      "cell_type": "markdown",
      "source": [
        "**Ordered:**\n",
        "\n",
        "Tuples maintain the order of elements as they are inserted."
      ],
      "metadata": {
        "id": "PFOQegKHuhGX"
      }
    },
    {
      "cell_type": "code",
      "source": [
        "tuple1 = (10, 20, 30)\n",
        "print(tuple1)\n"
      ],
      "metadata": {
        "colab": {
          "base_uri": "https://localhost:8080/"
        },
        "id": "mxbCkPvMuknV",
        "outputId": "0d536e08-0396-48c4-d1e8-4641d78a69a0"
      },
      "execution_count": 3,
      "outputs": [
        {
          "output_type": "stream",
          "name": "stdout",
          "text": [
            "(10, 20, 30)\n"
          ]
        }
      ]
    },
    {
      "cell_type": "markdown",
      "source": [
        "**Lightweight:**\n",
        "\n",
        "Tuples use less memory compared to lists"
      ],
      "metadata": {
        "id": "swz8llL3u5d5"
      }
    },
    {
      "cell_type": "code",
      "source": [
        "import sys\n",
        "list1 = [10, 20, 30]\n",
        "tuple1 = (10, 20, 30)\n",
        "print(sys.getsizeof(list1))\n",
        "print(sys.getsizeof(tuple1))\n"
      ],
      "metadata": {
        "colab": {
          "base_uri": "https://localhost:8080/"
        },
        "id": "KzepGCmLu-Mw",
        "outputId": "7c18fc17-a723-49e8-e338-e4122de8482f"
      },
      "execution_count": 4,
      "outputs": [
        {
          "output_type": "stream",
          "name": "stdout",
          "text": [
            "88\n",
            "64\n"
          ]
        }
      ]
    },
    {
      "cell_type": "markdown",
      "source": [
        "**Indexable through a zero-based index:**\n",
        "\n",
        "Access elements using indices starting from zero."
      ],
      "metadata": {
        "id": "1NzJW5FSvZJY"
      }
    },
    {
      "cell_type": "code",
      "source": [
        "tuple1 = ('a', 'b', 'c')\n",
        "print(tuple1[0])\n",
        "print(tuple1[2])\n"
      ],
      "metadata": {
        "colab": {
          "base_uri": "https://localhost:8080/"
        },
        "id": "Z87asNufvbHe",
        "outputId": "5b1ae036-9e7b-486e-be9c-21f8fc44282f"
      },
      "execution_count": 5,
      "outputs": [
        {
          "output_type": "stream",
          "name": "stdout",
          "text": [
            "a\n",
            "c\n"
          ]
        }
      ]
    },
    {
      "cell_type": "markdown",
      "source": [
        "**Immutable:**\n",
        "\n",
        "Tuples cannot be changed after creation."
      ],
      "metadata": {
        "id": "nSyVJeHWvxUj"
      }
    },
    {
      "cell_type": "code",
      "source": [
        "tuple1 = (1, 2, 3)\n",
        "# tuple1[0] = 4"
      ],
      "metadata": {
        "id": "g84OGOLPvy9l"
      },
      "execution_count": 7,
      "outputs": []
    },
    {
      "cell_type": "markdown",
      "source": [
        "**Heterogeneous:**\n",
        "\n",
        "Tuples can store objects of different types."
      ],
      "metadata": {
        "id": "JOh-bnSWv986"
      }
    },
    {
      "cell_type": "code",
      "source": [
        "tuple1 = (1, \"hello\", 3.14, [4, 5, 6])\n",
        "print(tuple1)\n"
      ],
      "metadata": {
        "colab": {
          "base_uri": "https://localhost:8080/"
        },
        "id": "EyxsQ8-EwB4h",
        "outputId": "44e3af9b-4568-4188-db39-72786fd89706"
      },
      "execution_count": 8,
      "outputs": [
        {
          "output_type": "stream",
          "name": "stdout",
          "text": [
            "(1, 'hello', 3.14, [4, 5, 6])\n"
          ]
        }
      ]
    },
    {
      "cell_type": "markdown",
      "source": [
        "**Nestable:**\n",
        "\n",
        "Tuples can contain other tuples."
      ],
      "metadata": {
        "id": "w_tJRkgowFom"
      }
    },
    {
      "cell_type": "code",
      "source": [
        "tuple1 = (1, 2, (3, 4), 5)\n",
        "print(tuple1)\n"
      ],
      "metadata": {
        "colab": {
          "base_uri": "https://localhost:8080/"
        },
        "id": "rNHhs6Y7wI1Q",
        "outputId": "f0310bf5-1ae6-4b4d-c4ed-daf856fe61dc"
      },
      "execution_count": 9,
      "outputs": [
        {
          "output_type": "stream",
          "name": "stdout",
          "text": [
            "(1, 2, (3, 4), 5)\n"
          ]
        }
      ]
    },
    {
      "cell_type": "markdown",
      "source": [
        "**Iterable:**\n",
        "\n",
        "Tuples support iteration."
      ],
      "metadata": {
        "id": "OYXpvhp_wP4S"
      }
    },
    {
      "cell_type": "code",
      "source": [
        "tuple1 = (1, 2, 3)\n",
        "for item in tuple1:\n",
        "    print(item)\n"
      ],
      "metadata": {
        "colab": {
          "base_uri": "https://localhost:8080/"
        },
        "id": "mOSKaQURwRWN",
        "outputId": "de735bea-a1b1-4a97-cd08-ad7b535cd7ff"
      },
      "execution_count": 10,
      "outputs": [
        {
          "output_type": "stream",
          "name": "stdout",
          "text": [
            "1\n",
            "2\n",
            "3\n"
          ]
        }
      ]
    },
    {
      "cell_type": "markdown",
      "source": [
        "**Sliceable:**\n",
        "\n",
        "Tuples support slicing operations."
      ],
      "metadata": {
        "id": "xbAdWiKxwWU_"
      }
    },
    {
      "cell_type": "code",
      "source": [
        "tuple1 = (0, 1, 2, 3, 4, 5)\n",
        "print(tuple1[1:4])\n"
      ],
      "metadata": {
        "colab": {
          "base_uri": "https://localhost:8080/"
        },
        "id": "kdmAoselwZsj",
        "outputId": "cd44b35f-1967-48cd-ca30-76f6ebadb514"
      },
      "execution_count": 11,
      "outputs": [
        {
          "output_type": "stream",
          "name": "stdout",
          "text": [
            "(1, 2, 3)\n"
          ]
        }
      ]
    },
    {
      "cell_type": "markdown",
      "source": [
        "**Combinable:**\n",
        "\n",
        "Tuples support concatenation to create new tuples."
      ],
      "metadata": {
        "id": "CpO_Gpopwft3"
      }
    },
    {
      "cell_type": "code",
      "source": [
        "tuple1 = (1, 2)\n",
        "tuple2 = (3, 4)\n",
        "combined_tuple = tuple1 + tuple2\n",
        "print(combined_tuple)\n"
      ],
      "metadata": {
        "colab": {
          "base_uri": "https://localhost:8080/"
        },
        "id": "bP_EoeHFwnWB",
        "outputId": "6dbf3afa-04d8-4f81-f920-8e5f5325fb68"
      },
      "execution_count": 12,
      "outputs": [
        {
          "output_type": "stream",
          "name": "stdout",
          "text": [
            "(1, 2, 3, 4)\n"
          ]
        }
      ]
    },
    {
      "cell_type": "markdown",
      "source": [
        "**Tuples vs. Lists**\n",
        "\n",
        "Tuples and lists are both used to store collection of data\n",
        "Tuples and lists are both heterogeneous data types means that you can store any kind of data type.\n",
        "Tuples and lists are both ordered means the order in which you put the items are kept.\n",
        "Tuples and lists are both sequential data types so you can iterate over the items contained.\n",
        "Items of both tuples and lists can be accessed by an integer index operator, provided in square brackets, [index]."
      ],
      "metadata": {
        "id": "kG-iBF1Z1WbB"
      }
    },
    {
      "cell_type": "code",
      "source": [
        "# Creating a list\n",
        "my_list = [1, 2, 3, 4]\n",
        "my_list[2] = 99\n",
        "print(my_list)\n",
        "\n",
        "# Creating a tuple\n",
        "my_tuple = (10, 20, 30, 40)\n",
        "\n",
        "print(my_tuple)\n"
      ],
      "metadata": {
        "id": "xzXdeF_k3lop"
      },
      "execution_count": null,
      "outputs": []
    },
    {
      "cell_type": "markdown",
      "source": [
        "**INDEXING **"
      ],
      "metadata": {
        "id": "G5STwfP045-U"
      }
    },
    {
      "cell_type": "markdown",
      "source": [
        "Indexing in Tuples:\n",
        "Indexing allows you to access individual elements in a tuple by their position (index)."
      ],
      "metadata": {
        "id": "_W0LDDBr4828"
      }
    },
    {
      "cell_type": "code",
      "source": [
        "my_tuple = ('apple', 'banana', 'cherry', 'date')\n",
        "print(my_tuple[0])\n",
        "print(my_tuple[1])\n"
      ],
      "metadata": {
        "colab": {
          "base_uri": "https://localhost:8080/"
        },
        "id": "ExWb3v8T4-qx",
        "outputId": "a577a0be-298b-4db2-8159-487aa7815449"
      },
      "execution_count": 13,
      "outputs": [
        {
          "output_type": "stream",
          "name": "stdout",
          "text": [
            "apple\n",
            "banana\n"
          ]
        }
      ]
    },
    {
      "cell_type": "markdown",
      "source": [
        "**SLICING**"
      ],
      "metadata": {
        "id": "lQRmtYFf5Esr"
      }
    },
    {
      "cell_type": "markdown",
      "source": [
        "Slicing in Tuples:\n",
        "Slicing allows you to extract a sub-sequence (a portion) of a tuple.\n",
        "The syntax for slicing is tuple[start:end]"
      ],
      "metadata": {
        "id": "MlmjZRXe5KSB"
      }
    },
    {
      "cell_type": "code",
      "source": [
        "my_tuple = ('america', 'bangalore', 'chennai', 'delhi')\n",
        "print(my_tuple[1:3])\n"
      ],
      "metadata": {
        "colab": {
          "base_uri": "https://localhost:8080/"
        },
        "id": "eRvOrUuV5Px2",
        "outputId": "dfa26c9b-e442-4a8c-cf17-4e7e53984974"
      },
      "execution_count": 14,
      "outputs": [
        {
          "output_type": "stream",
          "name": "stdout",
          "text": [
            "('bangalore', 'chennai')\n"
          ]
        }
      ]
    },
    {
      "cell_type": "markdown",
      "source": [
        "**Built-in funtions**"
      ],
      "metadata": {
        "id": "OMyoK9tW57PY"
      }
    },
    {
      "cell_type": "markdown",
      "source": [
        "len(): Returns the number of elements in a tuple."
      ],
      "metadata": {
        "id": "aohgxLah6FoO"
      }
    },
    {
      "cell_type": "code",
      "source": [
        "my_tuple = (10, 20, 30, 40)\n",
        "print(len(my_tuple))\n"
      ],
      "metadata": {
        "colab": {
          "base_uri": "https://localhost:8080/"
        },
        "id": "mcxLjG5B6Kji",
        "outputId": "6bdd1241-f350-4516-f580-b3f478b3453d"
      },
      "execution_count": 15,
      "outputs": [
        {
          "output_type": "stream",
          "name": "stdout",
          "text": [
            "4\n"
          ]
        }
      ]
    },
    {
      "cell_type": "markdown",
      "source": [
        "max(): Returns the largest element in a tuple"
      ],
      "metadata": {
        "id": "uWBW_Y4d6QPK"
      }
    },
    {
      "cell_type": "code",
      "source": [
        "my_tuple = (10, 20, 30, 40)\n",
        "print(max(my_tuple))\n"
      ],
      "metadata": {
        "colab": {
          "base_uri": "https://localhost:8080/"
        },
        "id": "mhq3yFrB6UCO",
        "outputId": "2e40d752-a156-480e-a489-b54bca8717db"
      },
      "execution_count": 16,
      "outputs": [
        {
          "output_type": "stream",
          "name": "stdout",
          "text": [
            "40\n"
          ]
        }
      ]
    },
    {
      "cell_type": "markdown",
      "source": [
        "min(): Returns the smallest element in a tuple."
      ],
      "metadata": {
        "id": "fT6lGceg6YI9"
      }
    },
    {
      "cell_type": "code",
      "source": [
        "my_tuple = (10, 20, 30, 40)\n",
        "print(min(my_tuple))\n"
      ],
      "metadata": {
        "colab": {
          "base_uri": "https://localhost:8080/"
        },
        "id": "YFJVaAK-6cyy",
        "outputId": "33a7cfa7-bc83-4960-86f3-f044de4fddce"
      },
      "execution_count": 17,
      "outputs": [
        {
          "output_type": "stream",
          "name": "stdout",
          "text": [
            "10\n"
          ]
        }
      ]
    },
    {
      "cell_type": "markdown",
      "source": [
        "sum(): Returns the sum of all elements in a numeric tuple."
      ],
      "metadata": {
        "id": "Y2DzFPAg6g7-"
      }
    },
    {
      "cell_type": "code",
      "source": [
        "my_tuple = (10, 20, 30, 40)\n",
        "print(sum(my_tuple))\n"
      ],
      "metadata": {
        "colab": {
          "base_uri": "https://localhost:8080/"
        },
        "id": "z2QsFlQJ6lK_",
        "outputId": "979f0258-f2fc-4b7f-9ad5-90467f64a549"
      },
      "execution_count": 18,
      "outputs": [
        {
          "output_type": "stream",
          "name": "stdout",
          "text": [
            "100\n"
          ]
        }
      ]
    },
    {
      "cell_type": "markdown",
      "source": [
        "sorted(): Returns a new sorted list containing the elements of the tuple."
      ],
      "metadata": {
        "id": "H4u6f1kZ6tJ9"
      }
    },
    {
      "cell_type": "code",
      "source": [
        "my_tuple = (3, 2, 1)\n",
        "sorted_list = sorted(my_tuple)\n",
        "print(sorted_list)\n"
      ],
      "metadata": {
        "colab": {
          "base_uri": "https://localhost:8080/"
        },
        "id": "7bRVyPCC6uGG",
        "outputId": "f29e65dd-8532-4c08-c94c-158417da1e37"
      },
      "execution_count": 19,
      "outputs": [
        {
          "output_type": "stream",
          "name": "stdout",
          "text": [
            "[1, 2, 3]\n"
          ]
        }
      ]
    }
  ]
}