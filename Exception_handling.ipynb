{
  "nbformat": 4,
  "nbformat_minor": 0,
  "metadata": {
    "colab": {
      "provenance": [],
      "authorship_tag": "ABX9TyOhhIR492sP/ZID381Ir1mD",
      "include_colab_link": true
    },
    "kernelspec": {
      "name": "python3",
      "display_name": "Python 3"
    },
    "language_info": {
      "name": "python"
    }
  },
  "cells": [
    {
      "cell_type": "markdown",
      "metadata": {
        "id": "view-in-github",
        "colab_type": "text"
      },
      "source": [
        "<a href=\"https://colab.research.google.com/github/Navyasri28/Python-practices/blob/main/Exception_handling.ipynb\" target=\"_parent\"><img src=\"https://colab.research.google.com/assets/colab-badge.svg\" alt=\"Open In Colab\"/></a>"
      ]
    },
    {
      "cell_type": "markdown",
      "source": [
        "## **EXCEPTION HANDLING**\n",
        "\n",
        "When an error occurs, or exception as we call it, Python will normally stop and generate an error message."
      ],
      "metadata": {
        "id": "WJ7dJanZpKBC"
      }
    },
    {
      "cell_type": "markdown",
      "source": [
        " **Python try...except** :\n",
        " A try...except block in Python is used to handle exceptions (errors) that occur during the execution of a program. It allows you to write code that can catch and respond to errors gracefully, instead of crashing the program."
      ],
      "metadata": {
        "id": "gDMTTuEOptMz"
      }
    },
    {
      "cell_type": "code",
      "source": [
        "#syntax\n",
        "try:\n",
        "    risky_code()\n",
        "except SomeException:\n",
        "    handle_error()\n"
      ],
      "metadata": {
        "id": "NCga-d1KqLN8"
      },
      "execution_count": null,
      "outputs": []
    },
    {
      "cell_type": "code",
      "source": [
        "try:\n",
        "    result = 10 / 0\n",
        "except ZeroDivisionError:\n",
        "\n",
        "    print(\"Cannot divide by zero!\")\n"
      ],
      "metadata": {
        "colab": {
          "base_uri": "https://localhost:8080/"
        },
        "id": "kZnbusRPqPau",
        "outputId": "6feb9924-2603-42d3-b11b-8b126e6fc46c"
      },
      "execution_count": 3,
      "outputs": [
        {
          "output_type": "stream",
          "name": "stdout",
          "text": [
            "Cannot divide by zero!\n"
          ]
        }
      ]
    }
  ]
}