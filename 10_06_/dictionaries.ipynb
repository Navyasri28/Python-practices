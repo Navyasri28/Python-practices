{
  "nbformat": 4,
  "nbformat_minor": 0,
  "metadata": {
    "colab": {
      "provenance": [],
      "authorship_tag": "ABX9TyOIpOsOfhhBos6xYWe07x2k",
      "include_colab_link": true
    },
    "kernelspec": {
      "name": "python3",
      "display_name": "Python 3"
    },
    "language_info": {
      "name": "python"
    }
  },
  "cells": [
    {
      "cell_type": "markdown",
      "metadata": {
        "id": "view-in-github",
        "colab_type": "text"
      },
      "source": [
        "<a href=\"https://colab.research.google.com/github/Navyasri28/Python-practices/blob/main/dictionaries.ipynb\" target=\"_parent\"><img src=\"https://colab.research.google.com/assets/colab-badge.svg\" alt=\"Open In Colab\"/></a>"
      ]
    },
    {
      "cell_type": "markdown",
      "source": [
        "# **Dictionary**\n",
        "Dictionaries are used to store data values in key:value pairs.\n",
        "\n",
        "A dictionary is a collection which is ordered*, changeable and do not allow duplicates."
      ],
      "metadata": {
        "id": "dvLQBLhTz4Sa"
      }
    },
    {
      "cell_type": "code",
      "execution_count": null,
      "metadata": {
        "colab": {
          "base_uri": "https://localhost:8080/"
        },
        "id": "3jjKkgQPzWEj",
        "outputId": "122089e1-7c68-4c1b-b4a9-0489dc5718a6"
      },
      "outputs": [
        {
          "output_type": "stream",
          "name": "stdout",
          "text": [
            "{'Food': 'biryani', 'place': 'hyderabad', 'restaurant': 'ABCD'}\n"
          ]
        }
      ],
      "source": [
        "Zomato = {\n",
        "  \"Food\": \"biryani\",\n",
        "  \"place\": \"hyderabad\",\n",
        "  \"restaurant\": \"ABCD\"\n",
        "}\n",
        "print(Zomato)"
      ]
    },
    {
      "cell_type": "markdown",
      "source": [
        "A dictionary in programming is a collection that:\n",
        "\n",
        "Ordered: The items have a defined order based on insertion.\n",
        "Changeable: You can modify, add, or remove items after the dictionary is created.\n",
        "Unique Keys: Each key in a dictionary must be unique; no duplicates are allowed.\n",
        "\n",
        "Items in a dictionary are stored in key\n",
        "pairs, where you can access the value by referencing its key."
      ],
      "metadata": {
        "id": "mjEDEWRf1iGW"
      }
    },
    {
      "cell_type": "code",
      "source": [
        "Zomato = {\n",
        "  \"Food\": \"biryani\",\n",
        "  \"place\": \"hyderabad\",\n",
        "  \"Restaurant\": \"ABCD\"\n",
        "}\n",
        "print(Zomato[\"place\"])"
      ],
      "metadata": {
        "colab": {
          "base_uri": "https://localhost:8080/"
        },
        "id": "HDUF09ld14u9",
        "outputId": "99201da3-3a82-483a-b35f-fd4709285c26"
      },
      "execution_count": null,
      "outputs": [
        {
          "output_type": "stream",
          "name": "stdout",
          "text": [
            "hyderabad\n"
          ]
        }
      ]
    },
    {
      "cell_type": "markdown",
      "source": [
        "**ORDERED AND UNORDERED**"
      ],
      "metadata": {
        "id": "NeXTB4jY9oMR"
      }
    },
    {
      "cell_type": "markdown",
      "source": [
        "Defined Order: The items in the dictionary are stored in the order they were inserted. This order is maintained and will not change unless explicitly modified (e.g., by adding or removing items)."
      ],
      "metadata": {
        "id": "6KEaz7AP9sv6"
      }
    },
    {
      "cell_type": "code",
      "source": [
        "my_dict = {\n",
        "    \"name\": \"Manu\",\n",
        "    \"age\": 18,\n",
        "    \"city\": \"Punjab\"\n",
        "}\n",
        "for key in my_dict:\n",
        "    print(key, my_dict[key])\n",
        "\n"
      ],
      "metadata": {
        "colab": {
          "base_uri": "https://localhost:8080/"
        },
        "id": "DxlYte0h90q0",
        "outputId": "cb3ad82f-ffc3-40c3-a379-3387cad7ea42"
      },
      "execution_count": null,
      "outputs": [
        {
          "output_type": "stream",
          "name": "stdout",
          "text": [
            "name Manu\n",
            "age 18\n",
            "city Punjab\n"
          ]
        }
      ]
    },
    {
      "cell_type": "markdown",
      "source": [
        "No Defined Order: The items do not follow any specific order. When you add items, you cannot predict where they will be placed."
      ],
      "metadata": {
        "id": "YH77_ZxS9-9D"
      }
    },
    {
      "cell_type": "code",
      "source": [
        "my_unordered_dict = {\n",
        "    \"city\": \"Punjab\",\n",
        "    \"age\": 18,\n",
        "    \"name\": \"Manu\"\n",
        "}\n",
        "for key in my_unordered_dict:\n",
        "    print(key, my_unordered_dict[key])"
      ],
      "metadata": {
        "colab": {
          "base_uri": "https://localhost:8080/"
        },
        "id": "yBIjgxeJ-DeQ",
        "outputId": "25db8b98-057f-4fc9-f2ed-3d71c6a045e7"
      },
      "execution_count": null,
      "outputs": [
        {
          "output_type": "stream",
          "name": "stdout",
          "text": [
            "city Punjab\n",
            "age 18\n",
            "name Manu\n"
          ]
        }
      ]
    },
    {
      "cell_type": "markdown",
      "source": [
        "**CHANGABLE**"
      ],
      "metadata": {
        "id": "njjIeY7r-ZII"
      }
    },
    {
      "cell_type": "markdown",
      "source": [
        "Dictionaries are flexible, allowing modifications after their creation. This means you can:\n",
        "\n",
        "Change Items: Update the value of an existing key.\n",
        "\n",
        "Add Items: Insert new key-value pairs.\n",
        "\n",
        "Remove Items: Delete key-value pairs."
      ],
      "metadata": {
        "id": "fLvFFSmx-XQ6"
      }
    },
    {
      "cell_type": "code",
      "source": [
        "my_dict = {\"name\": \"Manu\", \"age\": 18}\n",
        "my_dict[\"age\"] = 18\n",
        "print(my_dict)\n",
        "my_dict[\"city\"] = \"Punjab\"\n",
        "print(my_dict)\n",
        "del my_dict[\"age\"]\n",
        "print(my_dict)"
      ],
      "metadata": {
        "colab": {
          "base_uri": "https://localhost:8080/"
        },
        "id": "8_AHZNdj-xNV",
        "outputId": "60c06958-e39d-462c-9de9-ab82a87171bf"
      },
      "execution_count": null,
      "outputs": [
        {
          "output_type": "stream",
          "name": "stdout",
          "text": [
            "{'name': 'Manu', 'age': 18}\n",
            "{'name': 'Manu', 'age': 18, 'city': 'Punjab'}\n",
            "{'name': 'Manu', 'city': 'Punjab'}\n"
          ]
        }
      ]
    },
    {
      "cell_type": "markdown",
      "source": [
        "DUPLICATES NOT ALLOWED"
      ],
      "metadata": {
        "id": "blf8gLI1_VrY"
      }
    },
    {
      "cell_type": "markdown",
      "source": [
        "In dictionaries, each key must be unique. This means you cannot have two items with the same key. If you attempt to assign a value to an existing key, the new value will overwrite the previous one."
      ],
      "metadata": {
        "id": "y5xj93Fq_UJa"
      }
    },
    {
      "cell_type": "code",
      "source": [
        "my_dict = {\n",
        "    \"name\": \"Manu\",\n",
        "    \"age\": 18,\n",
        "    \"name\": \"Tejuu\"\n",
        "}\n",
        "print(my_dict)"
      ],
      "metadata": {
        "colab": {
          "base_uri": "https://localhost:8080/"
        },
        "id": "YaXvWZkd_bsc",
        "outputId": "143f767d-42f7-431a-850b-daef2f9ef0a3"
      },
      "execution_count": null,
      "outputs": [
        {
          "output_type": "stream",
          "name": "stdout",
          "text": [
            "{'name': 'Tejuu', 'age': 18}\n"
          ]
        }
      ]
    },
    {
      "cell_type": "markdown",
      "source": [
        "**DICTIONARY LENGTH**"
      ],
      "metadata": {
        "id": "kweBoOU7_1fB"
      }
    },
    {
      "cell_type": "markdown",
      "source": [
        "To find out the number of items in a dictionary, you can use the len() function. This function returns the total count of key-value pairs in the dictionary."
      ],
      "metadata": {
        "id": "JTmn9xvf_496"
      }
    },
    {
      "cell_type": "code",
      "source": [
        "my_dict = {\n",
        "    \"name\": \"Tejuu\",\n",
        "    \"age\": 18,\n",
        "    \"city\": \"Punajb\"\n",
        "}\n",
        "num_items = len(my_dict)\n",
        "print(num_items)"
      ],
      "metadata": {
        "colab": {
          "base_uri": "https://localhost:8080/"
        },
        "id": "sIChGSUg_7Of",
        "outputId": "1da08829-1c67-4f94-cfa3-14da5a3e88b5"
      },
      "execution_count": null,
      "outputs": [
        {
          "output_type": "stream",
          "name": "stdout",
          "text": [
            "3\n"
          ]
        }
      ]
    },
    {
      "cell_type": "markdown",
      "source": [
        "**DATA TYPE**"
      ],
      "metadata": {
        "id": "tmiqpTsuKaHn"
      }
    },
    {
      "cell_type": "markdown",
      "source": [
        "In a dictionary, the values associated with keys can be of any data type. This means you can store integers, strings, lists, other dictionaries, or any other data type as values."
      ],
      "metadata": {
        "id": "AuBzebf0KVXH"
      }
    },
    {
      "cell_type": "code",
      "source": [
        "#integer values\n",
        "my_dict = {\n",
        "    \"age\": 30\n",
        "}\n",
        "#string values\n",
        "my_dict = {\n",
        "    \"name\": \"Alice\"\n",
        "}\n",
        "#list values\n",
        "my_dict = {\n",
        "    \"hobbies\": [\"reading\", \"cycling\", \"swimming\"]\n",
        "}\n",
        "#dictionary values\n",
        "my_dict = {\n",
        "    \"address\": {\n",
        "        \"city\": \"New York\",\n",
        "        \"zip_code\": \"10001\"\n",
        "    }\n",
        "}\n",
        "#mixed data types\n",
        "my_dict = {\n",
        "    \"name\": \"Alice\",\n",
        "    \"age\": 30,\n",
        "    \"hobbies\": [\"reading\", \"cycling\", \"swimming\"],\n",
        "    \"address\": {\n",
        "        \"city\": \"New York\",\n",
        "        \"zip_code\": \"10001\"\n",
        "    }\n",
        "}\n"
      ],
      "metadata": {
        "id": "kf06EY0PKd07"
      },
      "execution_count": null,
      "outputs": []
    },
    {
      "cell_type": "markdown",
      "source": [
        "**Dictionaries can be used for :**\n",
        "\n",
        "**Data storage** - so instead of remembering that a person’s name is at list index 0, and the address is at list index 1 - we can create a dictionary with keys of ‘name’ and ‘address’ - bingo - your code is more readable.\n",
        "\n",
        "**literally maps** : Say you are building a map of objects on a game field - so each object has an (x,y) co-ordinate. Instead of a big list which is mostly empty showing each of the objects - you have a dictionary with the key being a tuple of the (x,y) co-ordinate, and the value being the object at that location.\n",
        "\n",
        "You can use a dictionary as a jump table to emulate a switch type statement.\n",
        "\n",
        "You can use a dictionary to easily count the content of a list.\n",
        "\n",
        "You can use a dictionary to build indexes of content."
      ],
      "metadata": {
        "id": "Bmnu2LvWLJ7m"
      }
    },
    {
      "cell_type": "markdown",
      "source": [
        "**SOME PRACTICAL EXAMPLES AND USE CASES**"
      ],
      "metadata": {
        "id": "qTPzyOGyLc6F"
      }
    },
    {
      "cell_type": "code",
      "source": [
        "#storing information\n",
        "user_profile = {\n",
        "    \"username\": \"Navya123\",\n",
        "    \"email\": \"navya@gmail.com\",\n",
        "    \"age\": 18,\n",
        "    \"preferences\": [\"reading\", \"cycling\"]\n",
        "}\n",
        "print(user_profile[\"email\"])\n"
      ],
      "metadata": {
        "colab": {
          "base_uri": "https://localhost:8080/"
        },
        "id": "tvfAs8gaLgjo",
        "outputId": "7af55248-088e-4145-bdf5-2e1239021335"
      },
      "execution_count": null,
      "outputs": [
        {
          "output_type": "stream",
          "name": "stdout",
          "text": [
            "navya@gmail.com\n"
          ]
        }
      ]
    },
    {
      "cell_type": "code",
      "source": [
        "#counting occurances\n",
        "text = \"hello world hello\"\n",
        "word_count = {}\n",
        "\n",
        "for word in text.split():\n",
        "    if word in word_count:\n",
        "        word_count[word] += 1\n",
        "    else:\n",
        "        word_count[word] = 1\n",
        "print(word_count)"
      ],
      "metadata": {
        "colab": {
          "base_uri": "https://localhost:8080/"
        },
        "id": "5mD3DutBLt_P",
        "outputId": "546c1cf7-8aee-4d3c-b0a0-ed0a9864e076"
      },
      "execution_count": null,
      "outputs": [
        {
          "output_type": "stream",
          "name": "stdout",
          "text": [
            "{'hello': 2, 'world': 1}\n"
          ]
        }
      ]
    },
    {
      "cell_type": "code",
      "source": [
        "#data aggregation\n",
        "transactions = [\n",
        "    {\"category\": \"food\", \"amount\": 20},\n",
        "    {\"category\": \"transport\", \"amount\": 15},\n",
        "    {\"category\": \"food\", \"amount\": 30},\n",
        "    {\"category\": \"entertainment\", \"amount\": 50},\n",
        "]\n",
        "\n",
        "category_totals = {}\n",
        "\n",
        "for transaction in transactions:\n",
        "    category = transaction[\"category\"]\n",
        "    amount = transaction[\"amount\"]\n",
        "    if category in category_totals:\n",
        "        category_totals[category] += amount\n",
        "    else:\n",
        "        category_totals[category] = amount\n",
        "\n",
        "print(category_totals)"
      ],
      "metadata": {
        "colab": {
          "base_uri": "https://localhost:8080/"
        },
        "id": "Ki5S0macL75_",
        "outputId": "00d8d298-5984-4c33-ab78-4b549f4dedc5"
      },
      "execution_count": null,
      "outputs": [
        {
          "output_type": "stream",
          "name": "stdout",
          "text": [
            "{'food': 50, 'transport': 15, 'entertainment': 50}\n"
          ]
        }
      ]
    },
    {
      "cell_type": "markdown",
      "source": [
        "**DICTIONARY METHODS**"
      ],
      "metadata": {
        "id": "3IZira02MKNM"
      }
    },
    {
      "cell_type": "markdown",
      "source": [
        "**Python Dictionary clear():**\n",
        "The clear() method removes all items from the dictionary."
      ],
      "metadata": {
        "id": "Lk5y8DAZMOCV"
      }
    },
    {
      "cell_type": "code",
      "source": [
        "# dictionary\n",
        "numbers = {1: \"one\", 2: \"two\"}\n",
        "numbers.clear()\n",
        "print(numbers)"
      ],
      "metadata": {
        "colab": {
          "base_uri": "https://localhost:8080/"
        },
        "id": "QgIpVSjEMR4A",
        "outputId": "75d3d27e-75b5-498b-8622-5ebe5561360b"
      },
      "execution_count": null,
      "outputs": [
        {
          "output_type": "stream",
          "name": "stdout",
          "text": [
            "{}\n"
          ]
        }
      ]
    },
    {
      "cell_type": "markdown",
      "source": [
        "**Python Dictionary copy():**\n",
        "They copy() method returns a copy (shallow copy) of the dictionary."
      ],
      "metadata": {
        "id": "Ps9B8ZBcMcV7"
      }
    },
    {
      "cell_type": "code",
      "source": [
        "original_scores = {'INDIA':167, 'PAKISTHAN':87}\n",
        "\n",
        "copied_scores = original_scores.copy()\n",
        "\n",
        "print('Original Marks:', original_scores)\n",
        "print('Copied Marks:', copied_scores)"
      ],
      "metadata": {
        "colab": {
          "base_uri": "https://localhost:8080/"
        },
        "id": "MIS2dpzUMeFb",
        "outputId": "ca7d75fb-ec97-49c1-ca02-ea1535bbfcd6"
      },
      "execution_count": null,
      "outputs": [
        {
          "output_type": "stream",
          "name": "stdout",
          "text": [
            "Original Marks: {'INDIA': 167, 'PAKISTHAN': 87}\n",
            "Copied Marks: {'INDIA': 167, 'PAKISTHAN': 87}\n"
          ]
        }
      ]
    },
    {
      "cell_type": "markdown",
      "source": [
        "**Python Dictionary items():**\n",
        "The items() method returns a view object that displays a list of dictionary's (key, value) tuple pairs."
      ],
      "metadata": {
        "id": "REJ5GeWIM4UF"
      }
    },
    {
      "cell_type": "code",
      "source": [
        "score = {'INDIA':167, 'PAKISTHAN':87}\n",
        "\n",
        "print(score.items())"
      ],
      "metadata": {
        "colab": {
          "base_uri": "https://localhost:8080/"
        },
        "id": "_2DRfV5iM6Kq",
        "outputId": "486a34bc-2eba-405f-d435-bfdc20fff400"
      },
      "execution_count": null,
      "outputs": [
        {
          "output_type": "stream",
          "name": "stdout",
          "text": [
            "dict_items([('INDIA', 167), ('PAKISTHAN', 87)])\n"
          ]
        }
      ]
    },
    {
      "cell_type": "markdown",
      "source": [
        "**Python Dictionary keys():**\n",
        "The keys() method extracts the keys of the dictionary and returns the list of keys as a view object."
      ],
      "metadata": {
        "id": "4039-zM2NHlu"
      }
    },
    {
      "cell_type": "code",
      "source": [
        "numbers = {1: 'one', 2: 'two', 3: 'three'}\n",
        "dictionaryKeys = numbers.keys()\n",
        "print(dictionaryKeys)"
      ],
      "metadata": {
        "colab": {
          "base_uri": "https://localhost:8080/"
        },
        "id": "5dU7_5oQNHX2",
        "outputId": "952d962d-9145-49a2-bd7b-90dd4ecc2168"
      },
      "execution_count": null,
      "outputs": [
        {
          "output_type": "stream",
          "name": "stdout",
          "text": [
            "dict_keys([1, 2, 3])\n"
          ]
        }
      ]
    },
    {
      "cell_type": "markdown",
      "source": [
        "**The popitem():** method in Python is used to remove and return the last inserted key-value pair from a dictionary. This method is useful when you need to manipulate the dictionary by removing the most recently added item."
      ],
      "metadata": {
        "id": "tQV-QhljNaDB"
      }
    },
    {
      "cell_type": "code",
      "source": [
        "my_dict = {\n",
        "    \"name\": \"Tejuuu\",\n",
        "    \"age\": 18,\n",
        "    \"city\": \"Punjab\"\n",
        "}\n",
        "\n",
        "last_item = my_dict.popitem()\n",
        "print(last_item)\n",
        "print(my_dict)\n"
      ],
      "metadata": {
        "colab": {
          "base_uri": "https://localhost:8080/"
        },
        "id": "S_CUzR0yNeMu",
        "outputId": "81503151-bdaa-457f-87c2-2870ef0fde61"
      },
      "execution_count": null,
      "outputs": [
        {
          "output_type": "stream",
          "name": "stdout",
          "text": [
            "('city', 'Punjab')\n",
            "{'name': 'Tejuuu', 'age': 18}\n"
          ]
        }
      ]
    },
    {
      "cell_type": "markdown",
      "source": [
        "**Python Dictionary update():**\n",
        "The update() method updates the dictionary with the elements from another dictionary object or from an iterable of key/value pairs."
      ],
      "metadata": {
        "id": "wE96PCVAZyeJ"
      }
    },
    {
      "cell_type": "code",
      "source": [
        "marks = {'pyhsics':67, 'Maths':87}\n",
        "internal_marks = {'Practical':48}\n",
        "\n",
        "marks.update(internal_marks)\n",
        "print(marks)\n"
      ],
      "metadata": {
        "colab": {
          "base_uri": "https://localhost:8080/"
        },
        "id": "DOAObWPUZ5MA",
        "outputId": "0548ec17-af75-48fa-d06f-f4f93c1008fd"
      },
      "execution_count": 21,
      "outputs": [
        {
          "output_type": "stream",
          "name": "stdout",
          "text": [
            "{'pyhsics': 67, 'Maths': 87, 'Practical': 48}\n"
          ]
        }
      ]
    },
    {
      "cell_type": "markdown",
      "source": [
        "# **DICTIONARY COMPREHENSION**"
      ],
      "metadata": {
        "id": "3J_OwxN9a2TU"
      }
    },
    {
      "cell_type": "markdown",
      "source": [
        "Dictionary comprehension in Python is a concise way to create dictionaries from existing dictionaries or other iterable collections. It allows you to generate new dictionaries by applying a transformation to each key-value pair in the original dictionary and optionally filtering which pairs to include."
      ],
      "metadata": {
        "id": "lcpRZtuaa8x3"
      }
    },
    {
      "cell_type": "markdown",
      "source": [
        "Creating a dictionary with a condition:"
      ],
      "metadata": {
        "id": "Zpf6SvcGbRLR"
      }
    },
    {
      "cell_type": "code",
      "source": [
        "# List of numbers\n",
        "numbers = [1, 2, 3, 4, 5]\n",
        "filtered_squares = {num: num**2 for num in numbers if num > 2}\n",
        "print(filtered_squares)"
      ],
      "metadata": {
        "colab": {
          "base_uri": "https://localhost:8080/"
        },
        "id": "ZcwuYGyNbSeC",
        "outputId": "b6dc3a8f-3d7c-49fb-bb92-ffba688c4167"
      },
      "execution_count": 22,
      "outputs": [
        {
          "output_type": "stream",
          "name": "stdout",
          "text": [
            "{3: 9, 4: 16, 5: 25}\n"
          ]
        }
      ]
    },
    {
      "cell_type": "markdown",
      "source": [
        "Creating a dictionary with a transformation:"
      ],
      "metadata": {
        "id": "GoBE_Cm1ba7d"
      }
    },
    {
      "cell_type": "code",
      "source": [
        "# List of strings\n",
        "words = [\"america\", \"bangalore\", \"chennai\"]\n",
        "word_lengths = {word: len(word) for word in words}\n",
        "print(word_lengths)"
      ],
      "metadata": {
        "colab": {
          "base_uri": "https://localhost:8080/"
        },
        "id": "mZPX-8uTbb6S",
        "outputId": "ce22aadb-ff09-4860-e417-84ad8129989c"
      },
      "execution_count": 23,
      "outputs": [
        {
          "output_type": "stream",
          "name": "stdout",
          "text": [
            "{'america': 7, 'bangalore': 9, 'chennai': 7}\n"
          ]
        }
      ]
    },
    {
      "cell_type": "markdown",
      "source": [
        "Combining two lists into a dictionary:"
      ],
      "metadata": {
        "id": "ZAk9173KbpBl"
      }
    },
    {
      "cell_type": "code",
      "source": [
        "# Lists of keys and values\n",
        "keys = ['a', 'b', 'c']\n",
        "values = [1, 2, 3]\n",
        "combined_dict = {keys[i]: values[i] for i in range(len(keys))}\n",
        "print(combined_dict)"
      ],
      "metadata": {
        "colab": {
          "base_uri": "https://localhost:8080/"
        },
        "id": "HdJtcXq0bp-u",
        "outputId": "c4d35e3d-0055-4abb-be0b-4ed48f43b7a5"
      },
      "execution_count": 24,
      "outputs": [
        {
          "output_type": "stream",
          "name": "stdout",
          "text": [
            "{'a': 1, 'b': 2, 'c': 3}\n"
          ]
        }
      ]
    },
    {
      "cell_type": "markdown",
      "source": [
        "**NESTED DICTIONARY**"
      ],
      "metadata": {
        "id": "qAWKiOzLb3s8"
      }
    },
    {
      "cell_type": "markdown",
      "source": [
        "Nesting dictionaries means having dictionaries within dictionaries. This structure allows you to store and organize complex data hierarchically."
      ],
      "metadata": {
        "id": "DwzsI4TVb6mD"
      }
    },
    {
      "cell_type": "code",
      "source": [
        "students = {\n",
        "    'Tejjuuu': {\n",
        "        'Math': 85,\n",
        "        'Science': 92\n",
        "    },\n",
        "    'Manu': {\n",
        "        'Math': 78,\n",
        "        'Science': 88\n",
        "    },\n",
        "    'Navya': {\n",
        "        'Math': 95,\n",
        "        'Science': 91\n",
        "    }\n",
        "}\n",
        "\n",
        "print(students)"
      ],
      "metadata": {
        "colab": {
          "base_uri": "https://localhost:8080/"
        },
        "id": "yvrgo5eTb-2p",
        "outputId": "42bf3738-9b75-4277-9908-ec5c3c8649de"
      },
      "execution_count": 25,
      "outputs": [
        {
          "output_type": "stream",
          "name": "stdout",
          "text": [
            "{'Tejjuuu': {'Math': 85, 'Science': 92}, 'Manu': {'Math': 78, 'Science': 88}, 'Navya': {'Math': 95, 'Science': 91}}\n"
          ]
        }
      ]
    },
    {
      "cell_type": "markdown",
      "source": [
        "**DATA MANIPULATION**\n",
        "\n",
        "Data manipulation refers to the process of adjusting, organizing, or analyzing data to make it more readable and useful. It involves a variety of techniques and operations that can transform raw data into a more meaningful format, making it easier to draw insights, perform calculations, and create visualizations."
      ],
      "metadata": {
        "id": "f1gaHlxAcbvu"
      }
    },
    {
      "cell_type": "markdown",
      "source": [
        "**DATA FILTERING**"
      ],
      "metadata": {
        "id": "Ds2eYS1SdAGv"
      }
    },
    {
      "cell_type": "markdown",
      "source": [
        "We will be having a certain criteria whether to choose or not choose information."
      ],
      "metadata": {
        "id": "pjvwZbkgdC6K"
      }
    },
    {
      "cell_type": "code",
      "source": [
        "# List of dictionaries representing students\n",
        "students = [\n",
        "    {\"name\": \"Tejuuu\", \"grade\": \"A\", \"age\": 25},\n",
        "    {\"name\": \"Bobbyharsha\", \"grade\": \"B\", \"age\": 30},\n",
        "    {\"name\": \"manu\", \"grade\": \"A\", \"age\": 22},\n",
        "    {\"name\": \"sai\", \"grade\": \"C\", \"age\": 28},\n",
        "    {\"name\": \"akshith\", \"grade\": \"B\", \"age\": 27},\n",
        "    {\"name\": \"navya\", \"grade\": \"A\", \"age\": 24}\n",
        "]\n",
        "\n",
        "grouped_by_grade = {}\n",
        "for student in students:\n",
        "    grade = student[\"grade\"]\n",
        "    if grade in grouped_by_grade:\n",
        "        grouped_by_grade[grade].append(student)\n",
        "    else:\n",
        "        grouped_by_grade[grade] = [student]\n",
        "\n",
        "print(grouped_by_grade)\n"
      ],
      "metadata": {
        "colab": {
          "base_uri": "https://localhost:8080/"
        },
        "id": "aycmkgHZdpuU",
        "outputId": "628547e8-9dfb-431f-f6c5-0ba5d24daef3"
      },
      "execution_count": 28,
      "outputs": [
        {
          "output_type": "stream",
          "name": "stdout",
          "text": [
            "{'A': [{'name': 'Tejuuu', 'grade': 'A', 'age': 25}, {'name': 'manu', 'grade': 'A', 'age': 22}, {'name': 'navya', 'grade': 'A', 'age': 24}], 'B': [{'name': 'Bobbyharsha', 'grade': 'B', 'age': 30}, {'name': 'akshith', 'grade': 'B', 'age': 27}], 'C': [{'name': 'sai', 'grade': 'C', 'age': 28}]}\n"
          ]
        }
      ]
    },
    {
      "cell_type": "code",
      "source": [
        "# List of dictionaries representing students\n",
        "students = [\n",
        "    {\"name\": \"Tejjuuu\", \"grade\": \"A\", \"city\": \"hyd\"},\n",
        "    {\"name\": \"Bobbyharsha\", \"grade\": \"B\", \"city\": \"Chennai\"},\n",
        "    {\"name\": \"manu\", \"grade\": \"A\", \"city\": \"hyd\"},\n",
        "    {\"name\": \"sai\", \"grade\": \"C\", \"city\": \"Chennai\"},\n",
        "    {\"name\": \"akshith\", \"grade\": \"B\", \"city\": \"hyd\"},\n",
        "    {\"name\": \"navya\", \"grade\": \"A\", \"city\": \"Chennai\"}\n",
        "]\n",
        "filtered_by_city = [student for student in students if student[\"city\"] == \"hyd\"]\n",
        "\n",
        "print(filtered_by_city)\n"
      ],
      "metadata": {
        "colab": {
          "base_uri": "https://localhost:8080/"
        },
        "id": "Sjsvs4y5eCZK",
        "outputId": "e2e32152-4140-4ebc-9d85-4fca36b2e982"
      },
      "execution_count": 31,
      "outputs": [
        {
          "output_type": "stream",
          "name": "stdout",
          "text": [
            "[{'name': 'Tejjuuu', 'grade': 'A', 'city': 'hyd'}, {'name': 'manu', 'grade': 'A', 'city': 'hyd'}, {'name': 'akshith', 'grade': 'B', 'city': 'hyd'}]\n"
          ]
        }
      ]
    },
    {
      "cell_type": "markdown",
      "source": [
        "**Data Analysis with Dictionaries**\n",
        "\n",
        "Dictionaries are ideal for counting the frequency of elements in a dataset."
      ],
      "metadata": {
        "id": "jB_0BixXeeWq"
      }
    },
    {
      "cell_type": "code",
      "source": [
        "data = ['america', 'bangalore', 'america', 'chennai', 'bangalore', 'america']\n",
        "\n",
        "frequency = {}\n",
        "for item in data:\n",
        "    if item in frequency:\n",
        "        frequency[item] += 1\n",
        "    else:\n",
        "        frequency[item] = 1\n",
        "\n",
        "print(frequency)"
      ],
      "metadata": {
        "colab": {
          "base_uri": "https://localhost:8080/"
        },
        "id": "FD2ylI39ekEH",
        "outputId": "4810ec96-dfe5-4562-96af-d4ae066546b4"
      },
      "execution_count": 33,
      "outputs": [
        {
          "output_type": "stream",
          "name": "stdout",
          "text": [
            "{'america': 3, 'bangalore': 2, 'chennai': 1}\n"
          ]
        }
      ]
    },
    {
      "cell_type": "markdown",
      "source": [
        "**Combined Use of Sets and Dictionaries**"
      ],
      "metadata": {
        "id": "VxLvT4EEe0MU"
      }
    },
    {
      "cell_type": "code",
      "source": [
        "# Data of students and their scores\n",
        "scores = {\n",
        "    'Tejuuu': 85,\n",
        "    'Bobbyharsha': 90,\n",
        "    'manu': 87,\n",
        "    'sai': 92\n",
        "}\n",
        "passed_students = {'Bobbyharsha', 'sai'}\n",
        "passed_scores = {student: score for student, score in scores.items() if student in passed_students}\n",
        "print(passed_scores)"
      ],
      "metadata": {
        "colab": {
          "base_uri": "https://localhost:8080/"
        },
        "id": "rAEjFnNie3p9",
        "outputId": "594b40f0-1728-499d-9d37-5d024b776ec9"
      },
      "execution_count": 36,
      "outputs": [
        {
          "output_type": "stream",
          "name": "stdout",
          "text": [
            "{'Bobbyharsha': 90, 'sai': 92}\n"
          ]
        }
      ]
    }
  ]
}
