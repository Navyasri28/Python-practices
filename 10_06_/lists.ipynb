{
  "nbformat": 4,
  "nbformat_minor": 0,
  "metadata": {
    "colab": {
      "provenance": [],
      "authorship_tag": "ABX9TyP/9KcebNTvlmi/SAa1G9ds",
      "include_colab_link": true
    },
    "kernelspec": {
      "name": "python3",
      "display_name": "Python 3"
    },
    "language_info": {
      "name": "python"
    }
  },
  "cells": [
    {
      "cell_type": "markdown",
      "metadata": {
        "id": "view-in-github",
        "colab_type": "text"
      },
      "source": [
        "<a href=\"https://colab.research.google.com/github/Navyasri28/Python-practices/blob/main/10_06_lists.ipynb\" target=\"_parent\"><img src=\"https://colab.research.google.com/assets/colab-badge.svg\" alt=\"Open In Colab\"/></a>"
      ]
    },
    {
      "cell_type": "markdown",
      "source": [
        "# **LISTS**\n",
        "\n",
        "Lists are a built-in data type in Python used to store multiple items in a single variable. Alongside lists, Python has three other collection data types: tuples, sets, and dictionaries. Each of these types has unique characteristics and uses."
      ],
      "metadata": {
        "id": "fD_HyW_xdc0n"
      }
    },
    {
      "cell_type": "code",
      "source": [
        "list = [\"L\", \"P\", \"U\"]\n",
        "print(list)"
      ],
      "metadata": {
        "colab": {
          "base_uri": "https://localhost:8080/"
        },
        "id": "bD86Po69doiK",
        "outputId": "67f80fae-3386-4a55-b5be-f3878cbfd76c"
      },
      "execution_count": 3,
      "outputs": [
        {
          "output_type": "stream",
          "name": "stdout",
          "text": [
            "['L', 'P', 'U']\n"
          ]
        }
      ]
    },
    {
      "cell_type": "markdown",
      "source": [
        "Some common methods for working with lists in Python:\n",
        "\n",
        "- `list.append(elem)`: Adds an element to the end of the list. Modifies the original list without returning a new one.\n",
        "- `list.insert(index, elem)`: Inserts an element at a specified index, shifting subsequent elements to the right.\n",
        "- `list.extend(list2)`: Adds elements from `list2` to the end of the list. Similar to using `+` or `+=`.\n",
        "- `list.index(elem)`: Returns the index of the first occurrence of the element. Raises a `ValueError` if the element is not found.\n",
        "- `list.remove(elem)`: Removes the first occurrence of the element. Raises a `ValueError` if the element is not found.\n",
        "- `list.sort()`: Sorts the list in place without returning it. (For a new sorted list, use the `sorted()` function.)\n",
        "- `list.reverse()`: Reverses the order of the list in place without returning it.\n",
        "- `list.pop(index)`: Removes and returns the element at the specified index. If no index is specified, removes and returns the last element."
      ],
      "metadata": {
        "id": "GDzdEquLgJXp"
      }
    },
    {
      "cell_type": "code",
      "source": [
        "my_list = [3, 1, 4, 1, 5, 9]\n",
        "\n",
        "# append: Add an element to the end\n",
        "my_list.append(2)\n",
        "print(\"After append:\", my_list)\n",
        "\n",
        "# insert: Insert an element at a specific index\n",
        "my_list.insert(2, 6)\n",
        "print(\"After insert:\", my_list)\n",
        "\n",
        "# extend: Add elements from another list\n",
        "my_list.extend([7, 8, 9])\n",
        "print(\"After extend:\", my_list)\n",
        "\n",
        "# index: Find the index of the first occurrence of an element\n",
        "index_of_4 = my_list.index(4)\n",
        "print(\"Index of 4:\", index_of_4)\n",
        "\n",
        "# remove: Remove the first occurrence of an element\n",
        "my_list.remove(1)\n",
        "print(\"After remove:\", my_list)\n",
        "# sort: Sort the list in place\n",
        "my_list.sort()\n",
        "print(\"After sort:\", my_list)\n",
        "\n",
        "# reverse: Reverse the list in place\n",
        "my_list.reverse()\n",
        "print(\"After reverse:\", my_list)\n",
        "\n",
        "# pop: Remove and return the element at a specific index (default is the last element)\n",
        "popped_element = my_list.pop()\n",
        "print(\"Popped element:\", popped_element)\n",
        "print(\"After pop:\", my_list)\n"
      ],
      "metadata": {
        "colab": {
          "base_uri": "https://localhost:8080/"
        },
        "id": "1e1D16MXgS2b",
        "outputId": "24e335e9-0053-48c3-c280-d2d81a1f413e"
      },
      "execution_count": 4,
      "outputs": [
        {
          "output_type": "stream",
          "name": "stdout",
          "text": [
            "After append: [3, 1, 4, 1, 5, 9, 2]\n",
            "After insert: [3, 1, 6, 4, 1, 5, 9, 2]\n",
            "After extend: [3, 1, 6, 4, 1, 5, 9, 2, 7, 8, 9]\n",
            "Index of 4: 3\n",
            "After remove: [3, 6, 4, 1, 5, 9, 2, 7, 8, 9]\n",
            "After sort: [1, 2, 3, 4, 5, 6, 7, 8, 9, 9]\n",
            "After reverse: [9, 9, 8, 7, 6, 5, 4, 3, 2, 1]\n",
            "Popped element: 1\n",
            "After pop: [9, 9, 8, 7, 6, 5, 4, 3, 2]\n"
          ]
        }
      ]
    },
    {
      "cell_type": "markdown",
      "source": [
        "**List Comprehension:**\n",
        "List comprehension offers a shorter syntax when you want to create a new list based on the values of an existing list."
      ],
      "metadata": {
        "id": "4ZLSAIcRiRTP"
      }
    },
    {
      "cell_type": "code",
      "source": [
        "# Original list of numbers\n",
        "numbers = [1, 2, 3, 4, 5, 6, 7, 8, 9, 10]\n",
        "\n",
        "# Without list comprehension\n",
        "even_numbers = []\n",
        "for num in numbers:\n",
        "    if num % 2 == 0:\n",
        "        even_numbers.append(num)\n",
        "\n",
        "print(\"Even numbers (without list comprehension):\", even_numbers)\n",
        "\n",
        "# With list comprehension\n",
        "even_numbers_comprehension = [num for num in numbers if num % 2 == 0]\n",
        "print(\"Even numbers (with list comprehension):\", even_numbers_comprehension)\n"
      ],
      "metadata": {
        "colab": {
          "base_uri": "https://localhost:8080/"
        },
        "id": "5UnMaqXRicBA",
        "outputId": "ce72e0f5-37dc-4379-d4ed-802a856d4617"
      },
      "execution_count": 5,
      "outputs": [
        {
          "output_type": "stream",
          "name": "stdout",
          "text": [
            "Even numbers (without list comprehension): [2, 4, 6, 8, 10]\n",
            "Even numbers (with list comprehension): [2, 4, 6, 8, 10]\n"
          ]
        }
      ]
    },
    {
      "cell_type": "markdown",
      "source": [
        "**Indexing :**"
      ],
      "metadata": {
        "id": "dI-KR255itgl"
      }
    },
    {
      "cell_type": "markdown",
      "source": [
        "Indexing is the process of accessing an element in a sequence using its position in the sequence (its index)."
      ],
      "metadata": {
        "id": "7pM9rRE2izqI"
      }
    },
    {
      "cell_type": "code",
      "source": [
        "my_list = ['hyderabad', 'bangalore', 'chennai', 'delhi']\n",
        "print(my_list[0])\n",
        "print(my_list[1])"
      ],
      "metadata": {
        "colab": {
          "base_uri": "https://localhost:8080/"
        },
        "id": "IJhlDkyxi3vh",
        "outputId": "300f458d-122d-4c47-eb2c-95fb234496ae"
      },
      "execution_count": 6,
      "outputs": [
        {
          "output_type": "stream",
          "name": "stdout",
          "text": [
            "hyderabad\n",
            "bangalore\n"
          ]
        }
      ]
    },
    {
      "cell_type": "markdown",
      "source": [
        "Positive Indexing:\n",
        "- Access elements from the start of the list using index values starting at 0.\n",
        "- Syntax: `list[index]`\n",
        "  - Example: `list[0]` gets the first element.\n",
        "\n",
        "Negative Indexing:\n",
        "- Access elements from the end of the list using negative index values.\n",
        "- Syntax: `list[-index]`\n",
        "  - Example: `list[-1]` gets the last element.\n",
        "\n",
        "Retrieve:\n",
        "- Get the value of an element at a specific index.\n",
        "- Syntax: `value = list[index]`\n",
        "  - Example: `value = list[2]` retrieves the third element.\n",
        "\n",
        "Update:\n",
        "- Change the value of an element at a specific index.\n",
        "- Syntax: `list[index] = new_value`\n",
        " - Example: `list[2] = new_value` updates the third element."
      ],
      "metadata": {
        "id": "QhlPoqLjl63T"
      }
    },
    {
      "cell_type": "code",
      "source": [
        "# Initial list of colors\n",
        "colors = [\"red\", \"green\", \"blue\", \"yellow\", \"purple\"]\n",
        "\n",
        "# Positive Indexing: Accessing elements from the beginning\n",
        "first_color = colors[0]\n",
        "third_color = colors[2]\n",
        "\n",
        "# Negative Indexing: Accessing elements from the end\n",
        "last_color = colors[-1]\n",
        "second_last_color = colors[-2]\n",
        "\n",
        "# Retrieve: Getting the value of an element\n",
        "retrieved_color = colors[1]\n",
        "\n",
        "# Update: Changing the value of an element\n",
        "colors[1] = \"orange\"\n",
        "\n",
        "# Print results\n",
        "print(\"First color (positive indexing):\", first_color)\n",
        "print(\"Third color (positive indexing):\", third_color)\n",
        "print(\"Last color (negative indexing):\", last_color)\n",
        "print(\"Second last color (negative indexing):\", second_last_color)\n",
        "print(\"Retrieved color:\", retrieved_color)\n",
        "print(\"Updated list:\", colors)"
      ],
      "metadata": {
        "colab": {
          "base_uri": "https://localhost:8080/"
        },
        "id": "IVIMI7Scl_-c",
        "outputId": "728e14df-8054-4c0a-d445-61039c3284cf"
      },
      "execution_count": 9,
      "outputs": [
        {
          "output_type": "stream",
          "name": "stdout",
          "text": [
            "First color (positive indexing): red\n",
            "Third color (positive indexing): blue\n",
            "Last color (negative indexing): purple\n",
            "Second last color (negative indexing): yellow\n",
            "Retrieved color: green\n",
            "Updated list: ['red', 'orange', 'blue', 'yellow', 'purple']\n"
          ]
        }
      ]
    },
    {
      "cell_type": "markdown",
      "source": [
        "**Slicing**:"
      ],
      "metadata": {
        "id": "1oSV1jAYlGNu"
      }
    },
    {
      "cell_type": "markdown",
      "source": [
        "licing is the process of accessing a sub-sequence of a sequence by specifying a starting and ending index."
      ],
      "metadata": {
        "id": "A6a3hYUulJUv"
      }
    },
    {
      "cell_type": "code",
      "source": [
        "#syntax\n",
        "sequence[start_index:end_index]"
      ],
      "metadata": {
        "id": "13JFoIvNlOec"
      },
      "execution_count": 7,
      "outputs": []
    },
    {
      "cell_type": "code",
      "source": [
        "my_list = ['hyderabad', 'bangalore', 'chennai', 'delhi']\n",
        "print(my_list[1:3])"
      ],
      "metadata": {
        "colab": {
          "base_uri": "https://localhost:8080/"
        },
        "id": "3XOa1ObSlSn8",
        "outputId": "c286357a-a5c2-46e2-cf89-00bd40b13f59"
      },
      "execution_count": 8,
      "outputs": [
        {
          "output_type": "stream",
          "name": "stdout",
          "text": [
            "['bangalore', 'chennai']\n"
          ]
        }
      ]
    },
    {
      "cell_type": "markdown",
      "source": [
        "**Positive Slicing:**\n",
        "Select a subset of elements from the list starting at start_index and ending just before end_index.\n",
        "\n",
        "**Negative Slicing:**\n",
        "Select elements from the list using negative index values, which count from the end.\n",
        "\n",
        "**Retrieve:**\n",
        "Extract a portion of the list.\n",
        "\n",
        "**Update:**\n",
        "Modify elements within a slice of the list.\n",
        "\n",
        "**Delete:**\n",
        "Remove elements from a slice of the list.\n",
        "\n",
        "**Insert:**\n",
        "Add elements into a specific position within the list.\n"
      ],
      "metadata": {
        "id": "voN8gvdOoLq3"
      }
    },
    {
      "cell_type": "code",
      "source": [
        "# Initial list of numbers\n",
        "numbers = [0, 1, 2, 3, 4, 5, 6, 7, 8, 9]\n",
        "\n",
        "# Positive Slicing: Selecting a subset\n",
        "positive_slice = numbers[2:5]\n",
        "print(\"Positive Slice:\", positive_slice)\n",
        "\n",
        "# Negative Slicing: Selecting a subset using negative indexes\n",
        "negative_slice = numbers[-5:-2]\n",
        "print(\"Negative Slice:\", negative_slice)\n",
        "\n",
        "# Retrieve: Extracting a portion of the list\n",
        "subset = numbers[3:7]\n",
        "print(\"Retrieved Subset:\", subset)\n",
        "\n",
        "# Update: Modifying elements within a slice\n",
        "numbers[3:6] = [33, 44, 55]\n",
        "print(\"Updated List:\", numbers)\n",
        "\n",
        "# Delete: Removing elements from a slice\n",
        "del numbers[3:5]\n",
        "print(\"List after Deletion:\", numbers)\n",
        "\n",
        "# Insert: Adding elements into a specific position\n",
        "numbers[3:3] = [11, 22]\n",
        "print(\"List after Insertion:\", numbers)\n"
      ],
      "metadata": {
        "colab": {
          "base_uri": "https://localhost:8080/"
        },
        "id": "9WyJQqSFo0bl",
        "outputId": "d8798754-2cfb-49b8-d40a-bd78b98b3638"
      },
      "execution_count": 10,
      "outputs": [
        {
          "output_type": "stream",
          "name": "stdout",
          "text": [
            "Positive Slice: [2, 3, 4]\n",
            "Negative Slice: [5, 6, 7]\n",
            "Retrieved Subset: [3, 4, 5, 6]\n",
            "Updated List: [0, 1, 2, 33, 44, 55, 6, 7, 8, 9]\n",
            "List after Deletion: [0, 1, 2, 55, 6, 7, 8, 9]\n",
            "List after Insertion: [0, 1, 2, 11, 22, 55, 6, 7, 8, 9]\n"
          ]
        }
      ]
    },
    {
      "cell_type": "markdown",
      "source": [
        "**SORTING IN LIST**\n",
        "\n",
        "The sort() method sorts the list ascending by default."
      ],
      "metadata": {
        "id": "AnmuBqBLpWMd"
      }
    },
    {
      "cell_type": "code",
      "source": [
        "numbers = [6, 9, 3, 1]\n",
        "sorted_numbers = sorted(numbers)\n",
        "print(sorted_numbers)\n"
      ],
      "metadata": {
        "colab": {
          "base_uri": "https://localhost:8080/"
        },
        "id": "lYFyhkeZpzM8",
        "outputId": "ae792f49-ad49-41f0-8a24-dd5f00ef46b7"
      },
      "execution_count": 11,
      "outputs": [
        {
          "output_type": "stream",
          "name": "stdout",
          "text": [
            "[1, 3, 6, 9]\n"
          ]
        }
      ]
    },
    {
      "cell_type": "markdown",
      "source": [
        "**SEARCHING IN LIST**\n"
      ],
      "metadata": {
        "id": "hnB3fRf9qFrY"
      }
    },
    {
      "cell_type": "code",
      "source": [
        "my_list = ['apple', 'banana', 'cherry']\n",
        "if 'banana' in my_list:\n",
        "    print(\"Desired item is in the list\")\n",
        "else:\n",
        "    print(\"Desired item is not in the list\")\n"
      ],
      "metadata": {
        "colab": {
          "base_uri": "https://localhost:8080/"
        },
        "id": "YZMc-xhhqr6Y",
        "outputId": "11b7db27-732d-420d-cbd7-c5b53219349e"
      },
      "execution_count": 12,
      "outputs": [
        {
          "output_type": "stream",
          "name": "stdout",
          "text": [
            "Desired item is in the list\n"
          ]
        }
      ]
    },
    {
      "cell_type": "markdown",
      "source": [
        "**Special methods**"
      ],
      "metadata": {
        "id": "bs2UgNge8Lpt"
      }
    },
    {
      "cell_type": "markdown",
      "source": [
        "**reduce**:Reduces an iterable to a single value by applying a function cumulatively to its items.\n",
        "**map**:Applies a function to each item in an iterable and returns an iterator with the results.\n",
        "**filter**:Constructs an iterator from elements of an iterable for which a function returns True.\n",
        "**zip**:Creates an iterator that aggregates elements from each of the iterables."
      ],
      "metadata": {
        "id": "BUnMQZYd_B5Q"
      }
    },
    {
      "cell_type": "code",
      "source": [
        "numbers = [5, 2, 8, 3, 10, 1, 7, 4, 6, 9]\n",
        "\n",
        "contain_5 = 5 in numbers\n",
        "print(\"Is '5' in the list?\", contain_5)\n",
        "\n",
        "index_of_one = numbers.index(1)\n",
        "print(\"Index of '1':\", index_of_one)\n",
        "\n",
        "number_to_find = 3\n",
        "found_number = None\n",
        "for num in numbers:\n",
        "    if num == number_to_find:\n",
        "        found_number = num\n",
        "        break\n",
        "print(\"Found number:\", found_number)\n",
        "\n",
        "sorted_numbers = sorted(numbers)\n",
        "print(\"Sorted numbers:\", sorted_numbers)\n",
        "\n",
        "reverse_sorted_numbers = sorted(numbers, reverse=True)\n",
        "print(\"Reverse sorted numbers:\", reverse_sorted_numbers)\n",
        "\n",
        "numbers.sort()\n",
        "print(\"Sorted numbers in place:\", numbers)\n",
        "\n",
        "\n"
      ],
      "metadata": {
        "colab": {
          "base_uri": "https://localhost:8080/"
        },
        "id": "UjTw2Mya_cxf",
        "outputId": "00d98412-386d-4df7-e72b-3970ab3dd430"
      },
      "execution_count": 34,
      "outputs": [
        {
          "output_type": "stream",
          "name": "stdout",
          "text": [
            "Is '5' in the list? True\n",
            "Index of '1': 5\n",
            "Found number: 3\n",
            "Sorted numbers: [1, 2, 3, 4, 5, 6, 7, 8, 9, 10]\n",
            "Reverse sorted numbers: [10, 9, 8, 7, 6, 5, 4, 3, 2, 1]\n",
            "Sorted numbers in place: [1, 2, 3, 4, 5, 6, 7, 8, 9, 10]\n"
          ]
        }
      ]
    }
  ]
}
