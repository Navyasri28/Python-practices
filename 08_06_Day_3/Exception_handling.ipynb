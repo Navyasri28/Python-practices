{
  "nbformat": 4,
  "nbformat_minor": 0,
  "metadata": {
    "colab": {
      "provenance": [],
      "authorship_tag": "ABX9TyP0DNxi4dlOG/v7G9FCUzY3",
      "include_colab_link": true
    },
    "kernelspec": {
      "name": "python3",
      "display_name": "Python 3"
    },
    "language_info": {
      "name": "python"
    }
  },
  "cells": [
    {
      "cell_type": "markdown",
      "metadata": {
        "id": "view-in-github",
        "colab_type": "text"
      },
      "source": [
        "<a href=\"https://colab.research.google.com/github/Navyasri28/Python-practices/blob/main/Exception_handling.ipynb\" target=\"_parent\"><img src=\"https://colab.research.google.com/assets/colab-badge.svg\" alt=\"Open In Colab\"/></a>"
      ]
    },
    {
      "cell_type": "markdown",
      "source": [
        "## **EXCEPTION HANDLING**\n",
        "\n",
        "When an error occurs, or exception as we call it, Python will normally stop and generate an error message."
      ],
      "metadata": {
        "id": "WJ7dJanZpKBC"
      }
    },
    {
      "cell_type": "markdown",
      "source": [
        " **Python try...except** :\n",
        " A try...except block in Python is used to handle exceptions (errors) that occur during the execution of a program. It allows you to write code that can catch and respond to errors gracefully, instead of crashing the program."
      ],
      "metadata": {
        "id": "gDMTTuEOptMz"
      }
    },
    {
      "cell_type": "code",
      "source": [
        "#syntax\n",
        "try:\n",
        "    risky_code()\n",
        "except SomeException:\n",
        "    handle_error()\n"
      ],
      "metadata": {
        "id": "NCga-d1KqLN8"
      },
      "execution_count": null,
      "outputs": []
    },
    {
      "cell_type": "code",
      "source": [],
      "metadata": {
        "id": "kZnbusRPqPau"
      },
      "execution_count": null,
      "outputs": []
    }
  ]
}
