{
  "nbformat": 4,
  "nbformat_minor": 0,
  "metadata": {
    "colab": {
      "provenance": [],
      "authorship_tag": "ABX9TyOF3Nm/XT8k0GFUbo2H2IMe",
      "include_colab_link": true
    },
    "kernelspec": {
      "name": "python3",
      "display_name": "Python 3"
    },
    "language_info": {
      "name": "python"
    }
  },
  "cells": [
    {
      "cell_type": "markdown",
      "metadata": {
        "id": "view-in-github",
        "colab_type": "text"
      },
      "source": [
        "<a href=\"https://colab.research.google.com/github/Navyasri28/Python-practices/blob/main/Tkinter.ipynb\" target=\"_parent\"><img src=\"https://colab.research.google.com/assets/colab-badge.svg\" alt=\"Open In Colab\"/></a>"
      ]
    },
    {
      "cell_type": "markdown",
      "source": [
        "# **TKINTER**"
      ],
      "metadata": {
        "id": "7HhX1NIw81aF"
      }
    },
    {
      "cell_type": "markdown",
      "source": [
        "The tkinter package, often referred to as \"Tk interface,\" is the default Python library for creating graphical user interfaces (GUIs) using the Tcl/Tk toolkit. This toolkit and tkinter are widely supported across various operating systems, including Unix-based systems like macOS, and Windows.\n",
        "\n",
        "To check if tkinter is installed correctly on your system, you can run the command `python -m tkinter` in your terminal or command prompt. This command should open a window that displays a basic Tk interface. This not only confirms that tkinter is properly installed but also shows the version of Tcl/Tk you're using. This version information can be helpful when you need to refer to the specific Tcl/Tk documentation."
      ],
      "metadata": {
        "id": "L76Fhy1J85Rf"
      }
    },
    {
      "cell_type": "markdown",
      "source": [
        "Tkinter can work with various versions of Tcl/Tk, and it can be configured to include thread support or not. The standard Python binary release includes Tcl/Tk version 8.6 with thread support enabled. For more detailed information on which versions are supported, you can check the source code for the _tkinter module.\n",
        "\n",
        "Tkinter isn't just a simple wrapper around Tcl/Tk; it includes additional functionality to make it more intuitive and consistent with Python's design principles. This documentation focuses on these Python-specific enhancements and changes, while the original Tcl/Tk documentation should be consulted for aspects that remain unchanged."
      ],
      "metadata": {
        "id": "vwJ_D-H49MQl"
      }
    },
    {
      "cell_type": "markdown",
      "source": [
        "**ARCHITECTURE**"
      ],
      "metadata": {
        "id": "dIZUUbTU9Z1a"
      }
    },
    {
      "cell_type": "markdown",
      "source": [
        "### Architecture\n",
        "\n",
        "Tcl/Tk is a collection of several modules, each providing different functionalities and documented separately. Python's binary releases come with an additional module to enhance this setup.\n",
        "\n",
        "### Tcl\n",
        "\n",
        "Tcl (Tool Command Language) is a dynamically interpreted language, similar to Python. While it can be used independently as a general-purpose programming language, its primary use is as a scripting engine embedded within C applications, often to interface with the Tk toolkit.\n",
        "\n",
        "The Tcl library offers a C interface that allows developers to create and manage Tcl interpreter instances. These interpreters can execute Tcl commands and scripts and can also have custom commands implemented in either Tcl or C. Each Tcl interpreter maintains an event queue, which can receive and process events.\n",
        "\n",
        "Unlike Python, Tcl is designed for cooperative multitasking, meaning it handles multiple tasks without preemptive scheduling. Tkinter bridges the gap between Tcl's cooperative multitasking model and Python's threading model, allowing them to work together seamlessly. For more details on this integration, refer to the threading model documentation.\n",
        "\n",
        "### Tk\n",
        "\n",
        "Tk is a package for Tcl, written in C, that introduces custom commands for creating and managing GUI (Graphical User Interface) widgets. Each Tk object contains its own Tcl interpreter instance with Tk integrated into it. Although Tk widgets are highly customizable, they often have a somewhat outdated look. Tk uses Tcl's event queue system to generate and handle GUI events.\n",
        "\n",
        "### Ttk\n",
        "\n",
        "Themed Tk (Ttk) is a modern collection of Tk widgets that offer a more polished and platform-consistent appearance compared to the classic Tk widgets. Ttk has been included with Tk since version 8.5. Python provides access to Ttk through a dedicated module called `tkinter.ttk`.\n",
        "\n",
        "Both Tk and Ttk leverage the underlying operating system's capabilities to manage GUI elements. They use Xlib on Unix/X11 systems, Cocoa on macOS, and GDI on Windows."
      ],
      "metadata": {
        "id": "kifhwjde98NE"
      }
    },
    {
      "cell_type": "markdown",
      "source": [
        "**Tkinter Modules**\n",
        "\n",
        "Support for Tkinter spans several modules. Most applications will need the main tkinter module and the tkinter.ttk module, which offers a modern set of themed widgets and APIs:"
      ],
      "metadata": {
        "id": "Jln5Cer6-7vK"
      }
    },
    {
      "cell_type": "code",
      "source": [
        "from tkinter import *\n",
        "from tkinter import ttk\n"
      ],
      "metadata": {
        "id": "b0byEMBB_J8Y"
      },
      "execution_count": null,
      "outputs": []
    },
    {
      "cell_type": "markdown",
      "source": [
        "**Keyword Arguments**\n",
        "\n",
        "When instantiating the Tk class, you can use several keyword arguments:\n",
        "\n",
        "screenName: A string that sets the DISPLAY environment variable (X11 only).\n",
        "\n",
        "baseName: The name of the profile file. By default, it's derived from the program name (sys.argv[0]).\n",
        "\n",
        "className: The name of the widget class, used for profile files and as the Tcl invocation name (argv0 in the interpreter).\n",
        "\n",
        "useTk: If True, initializes the Tk subsystem. The tkinter.Tcl() function sets this to False.\n",
        "\n",
        "sync: If True, all X server commands are executed synchronously, useful for debugging (X11 only).\n",
        "\n",
        "use: Specifies the ID of the window to embed the application in, instead of creating a new toplevel window. The ID must be formatted like the value for the -use option for toplevel widgets."
      ],
      "metadata": {
        "id": "O_XAypUy_kzU"
      }
    },
    {
      "cell_type": "markdown",
      "source": [
        "**Attributes**\n",
        "\n",
        "tk: The Tk application object created by instantiating Tk, providing access to the Tcl interpreter. All widgets attached to the same Tk instance share the same tk attribute.\n",
        "\n",
        "master: The widget containing this widget. For Tk, the master is None because it is the main window. The terms master and parent are often used interchangeably, but winfo_parent() returns the widget name as a string, while master returns the object. The term parent/child indicates a hierarchical relationship, while master/slave refers to the container structure.\n",
        "\n",
        "children: A dictionary of this widget's immediate descendants, with child widget names as keys and child instance objects as values."
      ],
      "metadata": {
        "id": "cprM06jS_yAs"
      }
    },
    {
      "cell_type": "markdown",
      "source": [
        "**Modules**\n",
        "\n",
        "Tkinter support is divided across several modules, each serving different purposes:\n",
        "\n",
        "tkinter: The main module for creating GUI applications.\n",
        "\n",
        "tkinter.colorchooser: Provides a dialog for users to select a color.\n",
        "\n",
        "tkinter.commondialog: A base class for other dialog modules.\n",
        "\n",
        "tkinter.filedialog: Contains common dialogs for opening or saving files.\n",
        "\n",
        "tkinter.font: Utilities for working with fonts.\n",
        "\n",
        "tkinter.messagebox: Access to standard Tk dialog boxes.\n",
        "\n",
        "tkinter.scrolledtext: A text widget with an integrated vertical scroll bar.\n",
        "\n",
        "tkinter.simpledialog: Basic dialogs and convenience functions.\n",
        "\n",
        "tkinter.ttk: Themed widget set introduced in Tk 8.5, offering modern versions of many classic widgets."
      ],
      "metadata": {
        "id": "x_glnEVhAyYC"
      }
    },
    {
      "cell_type": "code",
      "source": [
        "import tkinter as tk\n",
        "from tkinter import ttk\n",
        "\n",
        "def on_button_click():\n",
        "    user_input = entry.get()\n",
        "    greeting_label.config(text=f\"Hello, {user_input}!\")\n",
        "\n",
        "root = tk.Tk()\n",
        "root.title(\"Tkinter Basics\")\n",
        "root.geometry(\"300x200\")\n",
        "\n",
        "label = ttk.Label(root, text=\"Hello, Tkinter!\")\n",
        "label.pack(pady=10)\n",
        "\n",
        "entry = ttk.Entry(root, width=30)\n",
        "entry.pack(pady=10)\n",
        "\n",
        "button = ttk.Button(root, text=\"Greet\", command=on_button_click)\n",
        "button.pack(pady=10)\n",
        "\n",
        "greeting_label = ttk.Label(root, text=\"\")\n",
        "greeting_label.pack(pady=10)\n",
        "\n",
        "root.mainloop()\n"
      ],
      "metadata": {
        "id": "Nc_FLuJS46DK"
      },
      "execution_count": null,
      "outputs": []
    },
    {
      "cell_type": "markdown",
      "source": [
        "![tkinter.jpg](data:image/jpeg;base64,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)"
      ],
      "metadata": {
        "id": "lSjN4OgJIU8n"
      }
    }
  ]
}
