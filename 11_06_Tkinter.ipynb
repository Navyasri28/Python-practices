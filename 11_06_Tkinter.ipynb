{
  "nbformat": 4,
  "nbformat_minor": 0,
  "metadata": {
    "colab": {
      "provenance": [],
      "authorship_tag": "ABX9TyOuu735G8RS8pykDm4rHEVN",
      "include_colab_link": true
    },
    "kernelspec": {
      "name": "python3",
      "display_name": "Python 3"
    },
    "language_info": {
      "name": "python"
    }
  },
  "cells": [
    {
      "cell_type": "markdown",
      "metadata": {
        "id": "view-in-github",
        "colab_type": "text"
      },
      "source": [
        "<a href=\"https://colab.research.google.com/github/Navyasri28/Python-practices/blob/main/Tkinter.ipynb\" target=\"_parent\"><img src=\"https://colab.research.google.com/assets/colab-badge.svg\" alt=\"Open In Colab\"/></a>"
      ]
    },
    {
      "cell_type": "markdown",
      "source": [
        "# **TKINTER**"
      ],
      "metadata": {
        "id": "7HhX1NIw81aF"
      }
    },
    {
      "cell_type": "markdown",
      "source": [
        "The tkinter package, often referred to as \"Tk interface,\" is the default Python library for creating graphical user interfaces (GUIs) using the Tcl/Tk toolkit. This toolkit and tkinter are widely supported across various operating systems, including Unix-based systems like macOS, and Windows.\n",
        "\n",
        "To check if tkinter is installed correctly on your system, you can run the command `python -m tkinter` in your terminal or command prompt. This command should open a window that displays a basic Tk interface. This not only confirms that tkinter is properly installed but also shows the version of Tcl/Tk you're using. This version information can be helpful when you need to refer to the specific Tcl/Tk documentation."
      ],
      "metadata": {
        "id": "L76Fhy1J85Rf"
      }
    },
    {
      "cell_type": "markdown",
      "source": [
        "Tkinter can work with various versions of Tcl/Tk, and it can be configured to include thread support or not. The standard Python binary release includes Tcl/Tk version 8.6 with thread support enabled. For more detailed information on which versions are supported, you can check the source code for the _tkinter module.\n",
        "\n",
        "Tkinter isn't just a simple wrapper around Tcl/Tk; it includes additional functionality to make it more intuitive and consistent with Python's design principles. This documentation focuses on these Python-specific enhancements and changes, while the original Tcl/Tk documentation should be consulted for aspects that remain unchanged."
      ],
      "metadata": {
        "id": "vwJ_D-H49MQl"
      }
    },
    {
      "cell_type": "markdown",
      "source": [
        "**ARCHITECTURE**"
      ],
      "metadata": {
        "id": "dIZUUbTU9Z1a"
      }
    },
    {
      "cell_type": "markdown",
      "source": [
        "### Architecture\n",
        "\n",
        "Tcl/Tk is a collection of several modules, each providing different functionalities and documented separately. Python's binary releases come with an additional module to enhance this setup.\n",
        "\n",
        "### Tcl\n",
        "\n",
        "Tcl (Tool Command Language) is a dynamically interpreted language, similar to Python. While it can be used independently as a general-purpose programming language, its primary use is as a scripting engine embedded within C applications, often to interface with the Tk toolkit.\n",
        "\n",
        "The Tcl library offers a C interface that allows developers to create and manage Tcl interpreter instances. These interpreters can execute Tcl commands and scripts and can also have custom commands implemented in either Tcl or C. Each Tcl interpreter maintains an event queue, which can receive and process events.\n",
        "\n",
        "Unlike Python, Tcl is designed for cooperative multitasking, meaning it handles multiple tasks without preemptive scheduling. Tkinter bridges the gap between Tcl's cooperative multitasking model and Python's threading model, allowing them to work together seamlessly. For more details on this integration, refer to the threading model documentation.\n",
        "\n",
        "### Tk\n",
        "\n",
        "Tk is a package for Tcl, written in C, that introduces custom commands for creating and managing GUI (Graphical User Interface) widgets. Each Tk object contains its own Tcl interpreter instance with Tk integrated into it. Although Tk widgets are highly customizable, they often have a somewhat outdated look. Tk uses Tcl's event queue system to generate and handle GUI events.\n",
        "\n",
        "### Ttk\n",
        "\n",
        "Themed Tk (Ttk) is a modern collection of Tk widgets that offer a more polished and platform-consistent appearance compared to the classic Tk widgets. Ttk has been included with Tk since version 8.5. Python provides access to Ttk through a dedicated module called `tkinter.ttk`.\n",
        "\n",
        "Both Tk and Ttk leverage the underlying operating system's capabilities to manage GUI elements. They use Xlib on Unix/X11 systems, Cocoa on macOS, and GDI on Windows."
      ],
      "metadata": {
        "id": "kifhwjde98NE"
      }
    },
    {
      "cell_type": "markdown",
      "source": [
        "**Tkinter Modules**\n",
        "\n",
        "Support for Tkinter spans several modules. Most applications will need the main tkinter module and the tkinter.ttk module, which offers a modern set of themed widgets and APIs:"
      ],
      "metadata": {
        "id": "Jln5Cer6-7vK"
      }
    },
    {
      "cell_type": "code",
      "source": [
        "from tkinter import *\n",
        "from tkinter import ttk\n"
      ],
      "metadata": {
        "id": "b0byEMBB_J8Y"
      },
      "execution_count": null,
      "outputs": []
    },
    {
      "cell_type": "markdown",
      "source": [
        "**Keyword Arguments**\n",
        "\n",
        "When instantiating the Tk class, you can use several keyword arguments:\n",
        "\n",
        "screenName: A string that sets the DISPLAY environment variable (X11 only).\n",
        "\n",
        "baseName: The name of the profile file. By default, it's derived from the program name (sys.argv[0]).\n",
        "\n",
        "className: The name of the widget class, used for profile files and as the Tcl invocation name (argv0 in the interpreter).\n",
        "\n",
        "useTk: If True, initializes the Tk subsystem. The tkinter.Tcl() function sets this to False.\n",
        "\n",
        "sync: If True, all X server commands are executed synchronously, useful for debugging (X11 only).\n",
        "\n",
        "use: Specifies the ID of the window to embed the application in, instead of creating a new toplevel window. The ID must be formatted like the value for the -use option for toplevel widgets."
      ],
      "metadata": {
        "id": "O_XAypUy_kzU"
      }
    },
    {
      "cell_type": "markdown",
      "source": [
        "**Attributes**\n",
        "\n",
        "tk: The Tk application object created by instantiating Tk, providing access to the Tcl interpreter. All widgets attached to the same Tk instance share the same tk attribute.\n",
        "\n",
        "master: The widget containing this widget. For Tk, the master is None because it is the main window. The terms master and parent are often used interchangeably, but winfo_parent() returns the widget name as a string, while master returns the object. The term parent/child indicates a hierarchical relationship, while master/slave refers to the container structure.\n",
        "\n",
        "children: A dictionary of this widget's immediate descendants, with child widget names as keys and child instance objects as values."
      ],
      "metadata": {
        "id": "cprM06jS_yAs"
      }
    },
    {
      "cell_type": "markdown",
      "source": [
        "**Modules**\n",
        "\n",
        "Tkinter support is divided across several modules, each serving different purposes:\n",
        "\n",
        "tkinter: The main module for creating GUI applications.\n",
        "\n",
        "tkinter.colorchooser: Provides a dialog for users to select a color.\n",
        "\n",
        "tkinter.commondialog: A base class for other dialog modules.\n",
        "\n",
        "tkinter.filedialog: Contains common dialogs for opening or saving files.\n",
        "\n",
        "tkinter.font: Utilities for working with fonts.\n",
        "\n",
        "tkinter.messagebox: Access to standard Tk dialog boxes.\n",
        "\n",
        "tkinter.scrolledtext: A text widget with an integrated vertical scroll bar.\n",
        "\n",
        "tkinter.simpledialog: Basic dialogs and convenience functions.\n",
        "\n",
        "tkinter.ttk: Themed widget set introduced in Tk 8.5, offering modern versions of many classic widgets."
      ],
      "metadata": {
        "id": "x_glnEVhAyYC"
      }
    },
    {
      "cell_type": "code",
      "source": [
        "import tkinter as tk\n",
        "from tkinter import ttk\n",
        "\n",
        "def on_button_click():\n",
        "    user_input = entry.get()\n",
        "    greeting_label.config(text=f\"Hello, {user_input}!\")\n",
        "\n",
        "root = tk.Tk()\n",
        "root.title(\"Tkinter Basics\")\n",
        "root.geometry(\"300x200\")\n",
        "\n",
        "label = ttk.Label(root, text=\"Hello, Tkinter!\")\n",
        "label.pack(pady=10)\n",
        "\n",
        "entry = ttk.Entry(root, width=30)\n",
        "entry.pack(pady=10)\n",
        "\n",
        "button = ttk.Button(root, text=\"Greet\", command=on_button_click)\n",
        "button.pack(pady=10)\n",
        "\n",
        "greeting_label = ttk.Label(root, text=\"\")\n",
        "greeting_label.pack(pady=10)\n",
        "\n",
        "root.mainloop()\n"
      ],
      "metadata": {
        "id": "Nc_FLuJS46DK"
      },
      "execution_count": null,
      "outputs": []
    }
  ]
}
